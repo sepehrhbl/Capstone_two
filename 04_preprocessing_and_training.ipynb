{
 "cells": [
  {
   "cell_type": "markdown",
   "metadata": {},
   "source": [
    "# 4 Pre-Processing and Training Data<a id='4_Pre-Processing_and_Training_Data'></a>"
   ]
  },
  {
   "cell_type": "markdown",
   "metadata": {},
   "source": [
    "## 4.1 Contents<a id='4.1_Contents'></a>\n",
    "* [4 Pre-Processing and Training Data](#4_Pre-Processing_and_Training_Data)\n",
    "  * [4.1 Contents](#4.1_Contents)\n",
    "  * [4.2 Introduction](#4.2_Introduction)\n",
    "  * [4.3 Imports](#4.3_Imports)\n",
    "  * [4.4 Load Data](#4.4_Load_Data)\n",
    "  * [4.5 id_842000000000000000](#4.5_id_842000000000000000)\n",
    "  * [4.6 Train/Test Split](#4.6_Train/Test_Split)\n",
    "  * [4.7 Initial Not-Even-A-Model](#4.7_Initial_Not-Even-A-Model)\n",
    "    * [4.7.1 Metrics](#4.7.1_Metrics)\n",
    "      * [4.7.1.1 R-squared, or coefficient of determination](#4.7.1.1_R-squared,_or_coefficient_of_determination)\n",
    "      * [4.7.1.2 Mean Absolute Error](#4.7.1.2_Mean_Absolute_Error)\n",
    "      * [4.7.1.3 Mean Squared Error](#4.7.1.3_Mean_Squared_Error)\n",
    "    * [4.7.2 sklearn metrics](#4.7.2_sklearn_metrics)\n",
    "        * [4.7.2.0.1 R-squared](#4.7.2.0.1_R-squared)\n",
    "        * [4.7.2.0.2 Mean absolute error](#4.7.2.0.2_Mean_absolute_error)\n",
    "        * [4.7.2.0.3 Mean squared error](#4.7.2.0.3_Mean_squared_error)\n",
    "    * [4.7.3 Note On Calculating Metrics](#4.7.3_Note_On_Calculating_Metrics)\n",
    "  * [4.8 Initial Models](#4.8_Initial_Models)\n",
    "    * [4.8.1 Imputing missing feature (predictor) values](#4.8.1_Imputing_missing_feature_(predictor)_values)\n",
    "      * [4.8.1.1 Impute missing values with median](#4.8.1.1_Impute_missing_values_with_median)\n",
    "        * [4.8.1.1.1 Learn the values to impute from the train set](#4.8.1.1.1_Learn_the_values_to_impute_from_the_train_set)\n",
    "        * [4.8.1.1.2 Apply the imputation to both train and test splits](#4.8.1.1.2_Apply_the_imputation_to_both_train_and_test_splits)\n",
    "        * [4.8.1.1.3 Scale the data](#4.8.1.1.3_Scale_the_data)\n",
    "        * [4.8.1.1.4 Train the model on the train split](#4.8.1.1.4_Train_the_model_on_the_train_split)\n",
    "        * [4.8.1.1.5 Make predictions using the model on both train and test splits](#4.8.1.1.5_Make_predictions_using_the_model_on_both_train_and_test_splits)\n",
    "        * [4.8.1.1.6 Assess model performance](#4.8.1.1.6_Assess_model_performance)\n",
    "      * [4.8.1.2 Impute missing values with the mean](#4.8.1.2_Impute_missing_values_with_the_mean)\n",
    "        * [4.8.1.2.1 Learn the values to impute from the train set](#4.8.1.2.1_Learn_the_values_to_impute_from_the_train_set)\n",
    "        * [4.8.1.2.2 Apply the imputation to both train and test splits](#4.8.1.2.2_Apply_the_imputation_to_both_train_and_test_splits)\n",
    "        * [4.8.1.2.3 Scale the data](#4.8.1.2.3_Scale_the_data)\n",
    "        * [4.8.1.2.4 Train the model on the train split](#4.8.1.2.4_Train_the_model_on_the_train_split)\n",
    "        * [4.8.1.2.5 Make predictions using the model on both train and test splits](#4.8.1.2.5_Make_predictions_using_the_model_on_both_train_and_test_splits)\n",
    "        * [4.8.1.2.6 Assess model performance](#4.8.1.2.6_Assess_model_performance)\n",
    "    * [4.8.2 Pipelines](#4.8.2_Pipelines)\n",
    "      * [4.8.2.1 Define the pipeline](#4.8.2.1_Define_the_pipeline)\n",
    "      * [4.8.2.2 Fit the pipeline](#4.8.2.2_Fit_the_pipeline)\n",
    "      * [4.8.2.3 Make predictions on the train and test sets](#4.8.2.3_Make_predictions_on_the_train_and_test_sets)\n",
    "      * [4.8.2.4 Assess performance](#4.8.2.4_Assess_performance)\n",
    "  * [4.9 Refining The Linear Model](#4.9_Refining_The_Linear_Model)\n",
    "    * [4.9.1 Define the pipeline](#4.9.1_Define_the_pipeline)\n",
    "    * [4.9.2 Fit the pipeline](#4.9.2_Fit_the_pipeline)\n",
    "    * [4.9.3 Assess performance on the train and test set](#4.9.3_Assess_performance_on_the_train_and_test_set)\n",
    "    * [4.9.4 Define a new pipeline to select a different number of features](#4.9.4_Define_a_new_pipeline_to_select_a_different_number_of_features)\n",
    "    * [4.9.5 Fit the pipeline](#4.9.5_Fit_the_pipeline)\n",
    "    * [4.9.6 Assess performance on train and test data](#4.9.6_Assess_performance_on_train_and_test_data)\n",
    "    * [4.9.7 Assessing performance using cross-validation](#4.9.7_Assessing_performance_using_cross-validation)\n",
    "    * [4.9.8 Hyperparameter search using GridSearchCV](#4.9.8_Hyperparameter_search_using_GridSearchCV)\n",
    "  * [4.10 Random Forest Model](#4.10_Random_Forest_Model)\n",
    "    * [4.10.1 Define the pipeline](#4.10.1_Define_the_pipeline)\n",
    "    * [4.10.2 Fit and assess performance using cross-validation](#4.10.2_Fit_and_assess_performance_using_cross-validation)\n",
    "    * [4.10.3 Hyperparameter search using GridSearchCV](#4.10.3_Hyperparameter_search_using_GridSearchCV)\n",
    "  * [4.11 Final Model Selection](#4.11_Final_Model_Selection)\n",
    "    * [4.11.1 Linear regression model performance](#4.11.1_Linear_regression_model_performance)\n",
    "    * [4.11.2 Random forest regression model performance](#4.11.2_Random_forest_regression_model_performance)\n",
    "    * [4.11.3 Conclusion](#4.11.3_Conclusion)\n",
    "  * [4.12 Data quantity assessment](#4.12_Data_quantity_assessment)\n",
    "  * [4.13 Save best model object from pipeline](#4.13_Save_best_model_object_from_pipeline)\n",
    "  * [4.14 Summary](#4.14_Summary)\n"
   ]
  },
  {
   "cell_type": "markdown",
   "metadata": {},
   "source": [
    "## 4.2 Introduction<a id='4.2_Introduction'></a>"
   ]
  },
  {
   "cell_type": "markdown",
   "metadata": {},
   "source": [
    "In preceding notebooks, performed preliminary assessments of data quality and refined the question to be answered. You found a small number of data values that gave clear choices about whether to replace values or drop a whole row. You determined that predicting the price was your primary aim. You threw away records with missing price data, but not before making the most of the other available data to look for any patterns between the regions. You didn't see any and decided to treat all states equally; the region label didn't seem to be particularly useful.\n",
    "\n",
    "In this notebook you'll start to build machine learning models. Before even starting with learning a machine learning model, however, start by considering how useful the mean value is as a predictor. This is more than just a pedagogical device. You never want to go to stakeholders with a machine learning model only to have the CEO point out that it performs worse than just guessing the average! Your first model is a baseline performance comparitor for any subsequent model. You then build up the process of efficiently and robustly creating and assessing models against it. The development we lay out may be little slower than in the real world, but this step of the capstone is definitely more than just instructional. It is good practice to build up an understanding that the machine learning pipelines you build work as expected. You can validate steps with your own functions for checking expected equivalence between, say, pandas and sklearn implementations."
   ]
  },
  {
   "cell_type": "markdown",
   "metadata": {},
   "source": [
    "## 4.3 Imports<a id='4.3_Imports'></a>"
   ]
  },
  {
   "cell_type": "code",
   "execution_count": 1,
   "metadata": {},
   "outputs": [],
   "source": [
    "import pandas as pd\n",
    "import numpy as np\n",
    "import os\n",
    "import pickle\n",
    "import matplotlib.pyplot as plt\n",
    "import seaborn as sns\n",
    "from sklearn import __version__ as sklearn_version\n",
    "from sklearn.decomposition import PCA\n",
    "from sklearn.preprocessing import scale\n",
    "from sklearn.model_selection import train_test_split, cross_validate, GridSearchCV, learning_curve\n",
    "from sklearn.preprocessing import StandardScaler, MinMaxScaler\n",
    "from sklearn.dummy import DummyRegressor\n",
    "from sklearn.linear_model import LinearRegression\n",
    "from sklearn.ensemble import RandomForestRegressor\n",
    "from sklearn.metrics import r2_score, mean_squared_error, mean_absolute_error\n",
    "from sklearn.pipeline import make_pipeline\n",
    "from sklearn.impute import SimpleImputer\n",
    "from sklearn.feature_selection import SelectKBest, f_regression\n",
    "import datetime\n",
    "\n",
    "#from library.sb_utils import save_file"
   ]
  },
  {
   "cell_type": "markdown",
   "metadata": {},
   "source": [
    "## 4.4 Load Data<a id='4.4_Load_Data'></a>"
   ]
  },
  {
   "cell_type": "code",
   "execution_count": 2,
   "metadata": {
    "scrolled": true
   },
   "outputs": [
    {
     "data": {
      "text/html": [
       "<div>\n",
       "<style scoped>\n",
       "    .dataframe tbody tr th:only-of-type {\n",
       "        vertical-align: middle;\n",
       "    }\n",
       "\n",
       "    .dataframe tbody tr th {\n",
       "        vertical-align: top;\n",
       "    }\n",
       "\n",
       "    .dataframe thead th {\n",
       "        text-align: right;\n",
       "    }\n",
       "</style>\n",
       "<table border=\"1\" class=\"dataframe\">\n",
       "  <thead>\n",
       "    <tr style=\"text-align: right;\">\n",
       "      <th></th>\n",
       "      <th>0</th>\n",
       "      <th>1</th>\n",
       "      <th>2</th>\n",
       "      <th>3</th>\n",
       "      <th>4</th>\n",
       "    </tr>\n",
       "  </thead>\n",
       "  <tbody>\n",
       "    <tr>\n",
       "      <th>Unnamed: 0</th>\n",
       "      <td>0</td>\n",
       "      <td>1</td>\n",
       "      <td>2</td>\n",
       "      <td>3</td>\n",
       "      <td>4</td>\n",
       "    </tr>\n",
       "    <tr>\n",
       "      <th>neighbourhood_cleansed</th>\n",
       "      <td>North Park Hill</td>\n",
       "      <td>Hale</td>\n",
       "      <td>Five Points</td>\n",
       "      <td>West Colfax</td>\n",
       "      <td>Sunnyside</td>\n",
       "    </tr>\n",
       "    <tr>\n",
       "      <th>Unnamed: 0_x</th>\n",
       "      <td>0</td>\n",
       "      <td>1</td>\n",
       "      <td>3</td>\n",
       "      <td>4</td>\n",
       "      <td>5</td>\n",
       "    </tr>\n",
       "    <tr>\n",
       "      <th>id</th>\n",
       "      <td>607000000000000000.0</td>\n",
       "      <td>546000000000000000.0</td>\n",
       "      <td>52429527.0</td>\n",
       "      <td>632000000000000000.0</td>\n",
       "      <td>688000000000000000.0</td>\n",
       "    </tr>\n",
       "    <tr>\n",
       "      <th>description</th>\n",
       "      <td>Home in Denver · 1 bedroom · 1 bed · 1 shared ...</td>\n",
       "      <td>Rental unit in Denver · 2 bedrooms · 3 beds · ...</td>\n",
       "      <td>Townhouse in Denver · ★4.78 · 3 bedrooms · 4 b...</td>\n",
       "      <td>Townhouse in Denver · ★New · 2 bedrooms · 2 be...</td>\n",
       "      <td>Home in Denver · ★5.0 · 2 bedrooms · 2 beds · ...</td>\n",
       "    </tr>\n",
       "    <tr>\n",
       "      <th>host_id</th>\n",
       "      <td>430149575</td>\n",
       "      <td>169214047</td>\n",
       "      <td>107279139</td>\n",
       "      <td>416194740</td>\n",
       "      <td>133612752</td>\n",
       "    </tr>\n",
       "    <tr>\n",
       "      <th>host_name</th>\n",
       "      <td>Roye</td>\n",
       "      <td>Jerrod</td>\n",
       "      <td>Kyle And Kimberly</td>\n",
       "      <td>Clayton</td>\n",
       "      <td>Ryan</td>\n",
       "    </tr>\n",
       "    <tr>\n",
       "      <th>host_since</th>\n",
       "      <td>11/2/2021</td>\n",
       "      <td>1/22/2018</td>\n",
       "      <td>12/14/2016</td>\n",
       "      <td>7/31/2021</td>\n",
       "      <td>6/5/2017</td>\n",
       "    </tr>\n",
       "    <tr>\n",
       "      <th>host_location</th>\n",
       "      <td>NaN</td>\n",
       "      <td>Chicago, IL</td>\n",
       "      <td>Denver, CO</td>\n",
       "      <td>Colorado, United States</td>\n",
       "      <td>Denver, CO</td>\n",
       "    </tr>\n",
       "    <tr>\n",
       "      <th>host_response_rate</th>\n",
       "      <td>100%</td>\n",
       "      <td>NaN</td>\n",
       "      <td>100%</td>\n",
       "      <td>100%</td>\n",
       "      <td>NaN</td>\n",
       "    </tr>\n",
       "    <tr>\n",
       "      <th>host_acceptance_rate</th>\n",
       "      <td>75%</td>\n",
       "      <td>0%</td>\n",
       "      <td>100%</td>\n",
       "      <td>100%</td>\n",
       "      <td>91%</td>\n",
       "    </tr>\n",
       "    <tr>\n",
       "      <th>host_neighbourhood</th>\n",
       "      <td>Congress Park</td>\n",
       "      <td>East</td>\n",
       "      <td>South</td>\n",
       "      <td>West</td>\n",
       "      <td>Northwest</td>\n",
       "    </tr>\n",
       "    <tr>\n",
       "      <th>latitude</th>\n",
       "      <td>39.76039</td>\n",
       "      <td>39.72785</td>\n",
       "      <td>39.75852</td>\n",
       "      <td>39.736019</td>\n",
       "      <td>39.77143</td>\n",
       "    </tr>\n",
       "    <tr>\n",
       "      <th>longitude</th>\n",
       "      <td>-104.92968</td>\n",
       "      <td>-104.93783</td>\n",
       "      <td>-104.98846</td>\n",
       "      <td>-105.05072</td>\n",
       "      <td>-105.02028</td>\n",
       "    </tr>\n",
       "    <tr>\n",
       "      <th>property_type</th>\n",
       "      <td>Private room in home</td>\n",
       "      <td>Entire rental unit</td>\n",
       "      <td>Entire townhouse</td>\n",
       "      <td>Entire townhouse</td>\n",
       "      <td>Entire home</td>\n",
       "    </tr>\n",
       "    <tr>\n",
       "      <th>room_type</th>\n",
       "      <td>Private room</td>\n",
       "      <td>Entire home/apt</td>\n",
       "      <td>Entire home/apt</td>\n",
       "      <td>Entire home/apt</td>\n",
       "      <td>Entire home/apt</td>\n",
       "    </tr>\n",
       "    <tr>\n",
       "      <th>bathrooms</th>\n",
       "      <td>1 shared bath</td>\n",
       "      <td>2 baths</td>\n",
       "      <td>2.5 baths</td>\n",
       "      <td>2.5 baths</td>\n",
       "      <td>1 bath</td>\n",
       "    </tr>\n",
       "    <tr>\n",
       "      <th>bedrooms</th>\n",
       "      <td>1.0</td>\n",
       "      <td>3.0</td>\n",
       "      <td>4.0</td>\n",
       "      <td>2.0</td>\n",
       "      <td>2.0</td>\n",
       "    </tr>\n",
       "    <tr>\n",
       "      <th>price</th>\n",
       "      <td>35.0</td>\n",
       "      <td>149.0</td>\n",
       "      <td>190.0</td>\n",
       "      <td>87.0</td>\n",
       "      <td>300.0</td>\n",
       "    </tr>\n",
       "    <tr>\n",
       "      <th>minimum_minimum_nights</th>\n",
       "      <td>30</td>\n",
       "      <td>30</td>\n",
       "      <td>2</td>\n",
       "      <td>29</td>\n",
       "      <td>29</td>\n",
       "    </tr>\n",
       "    <tr>\n",
       "      <th>maximum_maximum_nights</th>\n",
       "      <td>365</td>\n",
       "      <td>365</td>\n",
       "      <td>365</td>\n",
       "      <td>365</td>\n",
       "      <td>1125</td>\n",
       "    </tr>\n",
       "    <tr>\n",
       "      <th>calendar_last_scraped</th>\n",
       "      <td>12/29/2023</td>\n",
       "      <td>12/29/2023</td>\n",
       "      <td>12/29/2023</td>\n",
       "      <td>12/29/2023</td>\n",
       "      <td>12/29/2023</td>\n",
       "    </tr>\n",
       "    <tr>\n",
       "      <th>number_of_reviews</th>\n",
       "      <td>2</td>\n",
       "      <td>0</td>\n",
       "      <td>68</td>\n",
       "      <td>0</td>\n",
       "      <td>12</td>\n",
       "    </tr>\n",
       "    <tr>\n",
       "      <th>first_review</th>\n",
       "      <td>7/1/2022</td>\n",
       "      <td>NaN</td>\n",
       "      <td>10/11/2021</td>\n",
       "      <td>NaN</td>\n",
       "      <td>12/31/2022</td>\n",
       "    </tr>\n",
       "    <tr>\n",
       "      <th>last_review</th>\n",
       "      <td>8/1/2022</td>\n",
       "      <td>NaN</td>\n",
       "      <td>11/20/2023</td>\n",
       "      <td>NaN</td>\n",
       "      <td>9/4/2023</td>\n",
       "    </tr>\n",
       "    <tr>\n",
       "      <th>last_scraped</th>\n",
       "      <td>12/29/2023</td>\n",
       "      <td>12/29/2023</td>\n",
       "      <td>12/29/2023</td>\n",
       "      <td>12/29/2023</td>\n",
       "      <td>12/29/2023</td>\n",
       "    </tr>\n",
       "    <tr>\n",
       "      <th>review_scores_rating</th>\n",
       "      <td>3.0</td>\n",
       "      <td>NaN</td>\n",
       "      <td>4.78</td>\n",
       "      <td>NaN</td>\n",
       "      <td>5.0</td>\n",
       "    </tr>\n",
       "    <tr>\n",
       "      <th>review_scores_accuracy</th>\n",
       "      <td>2.5</td>\n",
       "      <td>NaN</td>\n",
       "      <td>4.88</td>\n",
       "      <td>NaN</td>\n",
       "      <td>5.0</td>\n",
       "    </tr>\n",
       "    <tr>\n",
       "      <th>review_scores_cleanliness</th>\n",
       "      <td>2.5</td>\n",
       "      <td>NaN</td>\n",
       "      <td>4.62</td>\n",
       "      <td>NaN</td>\n",
       "      <td>5.0</td>\n",
       "    </tr>\n",
       "    <tr>\n",
       "      <th>review_scores_checkin</th>\n",
       "      <td>3.0</td>\n",
       "      <td>NaN</td>\n",
       "      <td>4.78</td>\n",
       "      <td>NaN</td>\n",
       "      <td>5.0</td>\n",
       "    </tr>\n",
       "    <tr>\n",
       "      <th>review_scores_communication</th>\n",
       "      <td>3.5</td>\n",
       "      <td>NaN</td>\n",
       "      <td>4.78</td>\n",
       "      <td>NaN</td>\n",
       "      <td>5.0</td>\n",
       "    </tr>\n",
       "    <tr>\n",
       "      <th>review_scores_location</th>\n",
       "      <td>4.0</td>\n",
       "      <td>NaN</td>\n",
       "      <td>4.93</td>\n",
       "      <td>NaN</td>\n",
       "      <td>4.92</td>\n",
       "    </tr>\n",
       "    <tr>\n",
       "      <th>review_scores_value</th>\n",
       "      <td>3.0</td>\n",
       "      <td>NaN</td>\n",
       "      <td>4.59</td>\n",
       "      <td>NaN</td>\n",
       "      <td>4.92</td>\n",
       "    </tr>\n",
       "    <tr>\n",
       "      <th>reviews_per_month</th>\n",
       "      <td>0.11</td>\n",
       "      <td>NaN</td>\n",
       "      <td>2.52</td>\n",
       "      <td>NaN</td>\n",
       "      <td>0.99</td>\n",
       "    </tr>\n",
       "    <tr>\n",
       "      <th>home_type</th>\n",
       "      <td>Home</td>\n",
       "      <td>Rental</td>\n",
       "      <td>Townhouse</td>\n",
       "      <td>Townhouse</td>\n",
       "      <td>Home</td>\n",
       "    </tr>\n",
       "    <tr>\n",
       "      <th>Unnamed: 0_y</th>\n",
       "      <td>44.0</td>\n",
       "      <td>28.0</td>\n",
       "      <td>24.0</td>\n",
       "      <td>70.0</td>\n",
       "      <td>58.0</td>\n",
       "    </tr>\n",
       "    <tr>\n",
       "      <th>neighborhood_cleansed_id_number</th>\n",
       "      <td>73.0</td>\n",
       "      <td>63.0</td>\n",
       "      <td>415.0</td>\n",
       "      <td>226.0</td>\n",
       "      <td>144.0</td>\n",
       "    </tr>\n",
       "    <tr>\n",
       "      <th>neighborhood_cleansed_price</th>\n",
       "      <td>158.577465</td>\n",
       "      <td>116.065574</td>\n",
       "      <td>174.136585</td>\n",
       "      <td>196.633028</td>\n",
       "      <td>189.361702</td>\n",
       "    </tr>\n",
       "    <tr>\n",
       "      <th>denver_neighborhoods_population</th>\n",
       "      <td>9382.0</td>\n",
       "      <td>6936.0</td>\n",
       "      <td>12712.0</td>\n",
       "      <td>9740.0</td>\n",
       "      <td>9726.0</td>\n",
       "    </tr>\n",
       "    <tr>\n",
       "      <th>region_area_sq_miles</th>\n",
       "      <td>1.52</td>\n",
       "      <td>0.73</td>\n",
       "      <td>0.96</td>\n",
       "      <td>1.22</td>\n",
       "      <td>1.32</td>\n",
       "    </tr>\n",
       "    <tr>\n",
       "      <th>id_review_scores_rating_ac_region_ratio</th>\n",
       "      <td>0.616353</td>\n",
       "      <td>NaN</td>\n",
       "      <td>0.984566</td>\n",
       "      <td>NaN</td>\n",
       "      <td>1.01833</td>\n",
       "    </tr>\n",
       "    <tr>\n",
       "      <th>id_review_scores_location_ac_region_ratio</th>\n",
       "      <td>0.819121</td>\n",
       "      <td>NaN</td>\n",
       "      <td>1.02811</td>\n",
       "      <td>NaN</td>\n",
       "      <td>1.004938</td>\n",
       "    </tr>\n",
       "    <tr>\n",
       "      <th>id_bedrooms_count_ac_mean_region_ratio</th>\n",
       "      <td>0.376289</td>\n",
       "      <td>1.657895</td>\n",
       "      <td>1.649899</td>\n",
       "      <td>0.786713</td>\n",
       "      <td>0.773842</td>\n",
       "    </tr>\n",
       "    <tr>\n",
       "      <th>id_number_of_reviews_ac_region_ratio</th>\n",
       "      <td>0.000303</td>\n",
       "      <td>0.0</td>\n",
       "      <td>0.00194</td>\n",
       "      <td>0.0</td>\n",
       "      <td>0.001195</td>\n",
       "    </tr>\n",
       "  </tbody>\n",
       "</table>\n",
       "</div>"
      ],
      "text/plain": [
       "                                                                                           0  \\\n",
       "Unnamed: 0                                                                                 0   \n",
       "neighbourhood_cleansed                                                       North Park Hill   \n",
       "Unnamed: 0_x                                                                               0   \n",
       "id                                                                      607000000000000000.0   \n",
       "description                                Home in Denver · 1 bedroom · 1 bed · 1 shared ...   \n",
       "host_id                                                                            430149575   \n",
       "host_name                                                                               Roye   \n",
       "host_since                                                                         11/2/2021   \n",
       "host_location                                                                            NaN   \n",
       "host_response_rate                                                                      100%   \n",
       "host_acceptance_rate                                                                     75%   \n",
       "host_neighbourhood                                                             Congress Park   \n",
       "latitude                                                                            39.76039   \n",
       "longitude                                                                         -104.92968   \n",
       "property_type                                                           Private room in home   \n",
       "room_type                                                                       Private room   \n",
       "bathrooms                                                                      1 shared bath   \n",
       "bedrooms                                                                                 1.0   \n",
       "price                                                                                   35.0   \n",
       "minimum_minimum_nights                                                                    30   \n",
       "maximum_maximum_nights                                                                   365   \n",
       "calendar_last_scraped                                                             12/29/2023   \n",
       "number_of_reviews                                                                          2   \n",
       "first_review                                                                        7/1/2022   \n",
       "last_review                                                                         8/1/2022   \n",
       "last_scraped                                                                      12/29/2023   \n",
       "review_scores_rating                                                                     3.0   \n",
       "review_scores_accuracy                                                                   2.5   \n",
       "review_scores_cleanliness                                                                2.5   \n",
       "review_scores_checkin                                                                    3.0   \n",
       "review_scores_communication                                                              3.5   \n",
       "review_scores_location                                                                   4.0   \n",
       "review_scores_value                                                                      3.0   \n",
       "reviews_per_month                                                                       0.11   \n",
       "home_type                                                                               Home   \n",
       "Unnamed: 0_y                                                                            44.0   \n",
       "neighborhood_cleansed_id_number                                                         73.0   \n",
       "neighborhood_cleansed_price                                                       158.577465   \n",
       "denver_neighborhoods_population                                                       9382.0   \n",
       "region_area_sq_miles                                                                    1.52   \n",
       "id_review_scores_rating_ac_region_ratio                                             0.616353   \n",
       "id_review_scores_location_ac_region_ratio                                           0.819121   \n",
       "id_bedrooms_count_ac_mean_region_ratio                                              0.376289   \n",
       "id_number_of_reviews_ac_region_ratio                                                0.000303   \n",
       "\n",
       "                                                                                           1  \\\n",
       "Unnamed: 0                                                                                 1   \n",
       "neighbourhood_cleansed                                                                  Hale   \n",
       "Unnamed: 0_x                                                                               1   \n",
       "id                                                                      546000000000000000.0   \n",
       "description                                Rental unit in Denver · 2 bedrooms · 3 beds · ...   \n",
       "host_id                                                                            169214047   \n",
       "host_name                                                                             Jerrod   \n",
       "host_since                                                                         1/22/2018   \n",
       "host_location                                                                    Chicago, IL   \n",
       "host_response_rate                                                                       NaN   \n",
       "host_acceptance_rate                                                                      0%   \n",
       "host_neighbourhood                                                                      East   \n",
       "latitude                                                                            39.72785   \n",
       "longitude                                                                         -104.93783   \n",
       "property_type                                                             Entire rental unit   \n",
       "room_type                                                                    Entire home/apt   \n",
       "bathrooms                                                                            2 baths   \n",
       "bedrooms                                                                                 3.0   \n",
       "price                                                                                  149.0   \n",
       "minimum_minimum_nights                                                                    30   \n",
       "maximum_maximum_nights                                                                   365   \n",
       "calendar_last_scraped                                                             12/29/2023   \n",
       "number_of_reviews                                                                          0   \n",
       "first_review                                                                             NaN   \n",
       "last_review                                                                              NaN   \n",
       "last_scraped                                                                      12/29/2023   \n",
       "review_scores_rating                                                                     NaN   \n",
       "review_scores_accuracy                                                                   NaN   \n",
       "review_scores_cleanliness                                                                NaN   \n",
       "review_scores_checkin                                                                    NaN   \n",
       "review_scores_communication                                                              NaN   \n",
       "review_scores_location                                                                   NaN   \n",
       "review_scores_value                                                                      NaN   \n",
       "reviews_per_month                                                                        NaN   \n",
       "home_type                                                                             Rental   \n",
       "Unnamed: 0_y                                                                            28.0   \n",
       "neighborhood_cleansed_id_number                                                         63.0   \n",
       "neighborhood_cleansed_price                                                       116.065574   \n",
       "denver_neighborhoods_population                                                       6936.0   \n",
       "region_area_sq_miles                                                                    0.73   \n",
       "id_review_scores_rating_ac_region_ratio                                                  NaN   \n",
       "id_review_scores_location_ac_region_ratio                                                NaN   \n",
       "id_bedrooms_count_ac_mean_region_ratio                                              1.657895   \n",
       "id_number_of_reviews_ac_region_ratio                                                     0.0   \n",
       "\n",
       "                                                                                           2  \\\n",
       "Unnamed: 0                                                                                 2   \n",
       "neighbourhood_cleansed                                                           Five Points   \n",
       "Unnamed: 0_x                                                                               3   \n",
       "id                                                                                52429527.0   \n",
       "description                                Townhouse in Denver · ★4.78 · 3 bedrooms · 4 b...   \n",
       "host_id                                                                            107279139   \n",
       "host_name                                                                  Kyle And Kimberly   \n",
       "host_since                                                                        12/14/2016   \n",
       "host_location                                                                     Denver, CO   \n",
       "host_response_rate                                                                      100%   \n",
       "host_acceptance_rate                                                                    100%   \n",
       "host_neighbourhood                                                                     South   \n",
       "latitude                                                                            39.75852   \n",
       "longitude                                                                         -104.98846   \n",
       "property_type                                                               Entire townhouse   \n",
       "room_type                                                                    Entire home/apt   \n",
       "bathrooms                                                                          2.5 baths   \n",
       "bedrooms                                                                                 4.0   \n",
       "price                                                                                  190.0   \n",
       "minimum_minimum_nights                                                                     2   \n",
       "maximum_maximum_nights                                                                   365   \n",
       "calendar_last_scraped                                                             12/29/2023   \n",
       "number_of_reviews                                                                         68   \n",
       "first_review                                                                      10/11/2021   \n",
       "last_review                                                                       11/20/2023   \n",
       "last_scraped                                                                      12/29/2023   \n",
       "review_scores_rating                                                                    4.78   \n",
       "review_scores_accuracy                                                                  4.88   \n",
       "review_scores_cleanliness                                                               4.62   \n",
       "review_scores_checkin                                                                   4.78   \n",
       "review_scores_communication                                                             4.78   \n",
       "review_scores_location                                                                  4.93   \n",
       "review_scores_value                                                                     4.59   \n",
       "reviews_per_month                                                                       2.52   \n",
       "home_type                                                                          Townhouse   \n",
       "Unnamed: 0_y                                                                            24.0   \n",
       "neighborhood_cleansed_id_number                                                        415.0   \n",
       "neighborhood_cleansed_price                                                       174.136585   \n",
       "denver_neighborhoods_population                                                      12712.0   \n",
       "region_area_sq_miles                                                                    0.96   \n",
       "id_review_scores_rating_ac_region_ratio                                             0.984566   \n",
       "id_review_scores_location_ac_region_ratio                                            1.02811   \n",
       "id_bedrooms_count_ac_mean_region_ratio                                              1.649899   \n",
       "id_number_of_reviews_ac_region_ratio                                                 0.00194   \n",
       "\n",
       "                                                                                           3  \\\n",
       "Unnamed: 0                                                                                 3   \n",
       "neighbourhood_cleansed                                                           West Colfax   \n",
       "Unnamed: 0_x                                                                               4   \n",
       "id                                                                      632000000000000000.0   \n",
       "description                                Townhouse in Denver · ★New · 2 bedrooms · 2 be...   \n",
       "host_id                                                                            416194740   \n",
       "host_name                                                                            Clayton   \n",
       "host_since                                                                         7/31/2021   \n",
       "host_location                                                        Colorado, United States   \n",
       "host_response_rate                                                                      100%   \n",
       "host_acceptance_rate                                                                    100%   \n",
       "host_neighbourhood                                                                      West   \n",
       "latitude                                                                           39.736019   \n",
       "longitude                                                                         -105.05072   \n",
       "property_type                                                               Entire townhouse   \n",
       "room_type                                                                    Entire home/apt   \n",
       "bathrooms                                                                          2.5 baths   \n",
       "bedrooms                                                                                 2.0   \n",
       "price                                                                                   87.0   \n",
       "minimum_minimum_nights                                                                    29   \n",
       "maximum_maximum_nights                                                                   365   \n",
       "calendar_last_scraped                                                             12/29/2023   \n",
       "number_of_reviews                                                                          0   \n",
       "first_review                                                                             NaN   \n",
       "last_review                                                                              NaN   \n",
       "last_scraped                                                                      12/29/2023   \n",
       "review_scores_rating                                                                     NaN   \n",
       "review_scores_accuracy                                                                   NaN   \n",
       "review_scores_cleanliness                                                                NaN   \n",
       "review_scores_checkin                                                                    NaN   \n",
       "review_scores_communication                                                              NaN   \n",
       "review_scores_location                                                                   NaN   \n",
       "review_scores_value                                                                      NaN   \n",
       "reviews_per_month                                                                        NaN   \n",
       "home_type                                                                          Townhouse   \n",
       "Unnamed: 0_y                                                                            70.0   \n",
       "neighborhood_cleansed_id_number                                                        226.0   \n",
       "neighborhood_cleansed_price                                                       196.633028   \n",
       "denver_neighborhoods_population                                                       9740.0   \n",
       "region_area_sq_miles                                                                    1.22   \n",
       "id_review_scores_rating_ac_region_ratio                                                  NaN   \n",
       "id_review_scores_location_ac_region_ratio                                                NaN   \n",
       "id_bedrooms_count_ac_mean_region_ratio                                              0.786713   \n",
       "id_number_of_reviews_ac_region_ratio                                                     0.0   \n",
       "\n",
       "                                                                                           4  \n",
       "Unnamed: 0                                                                                 4  \n",
       "neighbourhood_cleansed                                                             Sunnyside  \n",
       "Unnamed: 0_x                                                                               5  \n",
       "id                                                                      688000000000000000.0  \n",
       "description                                Home in Denver · ★5.0 · 2 bedrooms · 2 beds · ...  \n",
       "host_id                                                                            133612752  \n",
       "host_name                                                                               Ryan  \n",
       "host_since                                                                          6/5/2017  \n",
       "host_location                                                                     Denver, CO  \n",
       "host_response_rate                                                                       NaN  \n",
       "host_acceptance_rate                                                                     91%  \n",
       "host_neighbourhood                                                                 Northwest  \n",
       "latitude                                                                            39.77143  \n",
       "longitude                                                                         -105.02028  \n",
       "property_type                                                                    Entire home  \n",
       "room_type                                                                    Entire home/apt  \n",
       "bathrooms                                                                             1 bath  \n",
       "bedrooms                                                                                 2.0  \n",
       "price                                                                                  300.0  \n",
       "minimum_minimum_nights                                                                    29  \n",
       "maximum_maximum_nights                                                                  1125  \n",
       "calendar_last_scraped                                                             12/29/2023  \n",
       "number_of_reviews                                                                         12  \n",
       "first_review                                                                      12/31/2022  \n",
       "last_review                                                                         9/4/2023  \n",
       "last_scraped                                                                      12/29/2023  \n",
       "review_scores_rating                                                                     5.0  \n",
       "review_scores_accuracy                                                                   5.0  \n",
       "review_scores_cleanliness                                                                5.0  \n",
       "review_scores_checkin                                                                    5.0  \n",
       "review_scores_communication                                                              5.0  \n",
       "review_scores_location                                                                  4.92  \n",
       "review_scores_value                                                                     4.92  \n",
       "reviews_per_month                                                                       0.99  \n",
       "home_type                                                                               Home  \n",
       "Unnamed: 0_y                                                                            58.0  \n",
       "neighborhood_cleansed_id_number                                                        144.0  \n",
       "neighborhood_cleansed_price                                                       189.361702  \n",
       "denver_neighborhoods_population                                                       9726.0  \n",
       "region_area_sq_miles                                                                    1.32  \n",
       "id_review_scores_rating_ac_region_ratio                                              1.01833  \n",
       "id_review_scores_location_ac_region_ratio                                           1.004938  \n",
       "id_bedrooms_count_ac_mean_region_ratio                                              0.773842  \n",
       "id_number_of_reviews_ac_region_ratio                                                0.001195  "
      ]
     },
     "execution_count": 2,
     "metadata": {},
     "output_type": "execute_result"
    }
   ],
   "source": [
    "airbnb_data_cleaned_v2 = pd.read_csv('airbnb_data_cleaned_v2.csv')\n",
    "neighbourhood_summary_v2 = pd.read_csv('neighbourhood_summary_v2.csv')\n",
    "airbnb_data_cleaned_v2.head().T"
   ]
  },
  {
   "cell_type": "markdown",
   "metadata": {},
   "source": [
    "There are some extra columns that are deleted here."
   ]
  },
  {
   "cell_type": "code",
   "execution_count": 3,
   "metadata": {},
   "outputs": [
    {
     "data": {
      "text/html": [
       "<div>\n",
       "<style scoped>\n",
       "    .dataframe tbody tr th:only-of-type {\n",
       "        vertical-align: middle;\n",
       "    }\n",
       "\n",
       "    .dataframe tbody tr th {\n",
       "        vertical-align: top;\n",
       "    }\n",
       "\n",
       "    .dataframe thead th {\n",
       "        text-align: right;\n",
       "    }\n",
       "</style>\n",
       "<table border=\"1\" class=\"dataframe\">\n",
       "  <thead>\n",
       "    <tr style=\"text-align: right;\">\n",
       "      <th></th>\n",
       "      <th>neighbourhood_cleansed</th>\n",
       "      <th>id</th>\n",
       "      <th>description</th>\n",
       "      <th>host_id</th>\n",
       "      <th>host_name</th>\n",
       "      <th>host_since</th>\n",
       "      <th>host_location</th>\n",
       "      <th>host_response_rate</th>\n",
       "      <th>host_acceptance_rate</th>\n",
       "      <th>host_neighbourhood</th>\n",
       "      <th>...</th>\n",
       "      <th>reviews_per_month</th>\n",
       "      <th>home_type</th>\n",
       "      <th>neighborhood_cleansed_id_number</th>\n",
       "      <th>neighborhood_cleansed_price</th>\n",
       "      <th>denver_neighborhoods_population</th>\n",
       "      <th>region_area_sq_miles</th>\n",
       "      <th>id_review_scores_rating_ac_region_ratio</th>\n",
       "      <th>id_review_scores_location_ac_region_ratio</th>\n",
       "      <th>id_bedrooms_count_ac_mean_region_ratio</th>\n",
       "      <th>id_number_of_reviews_ac_region_ratio</th>\n",
       "    </tr>\n",
       "  </thead>\n",
       "  <tbody>\n",
       "    <tr>\n",
       "      <th>0</th>\n",
       "      <td>North Park Hill</td>\n",
       "      <td>6.070000e+17</td>\n",
       "      <td>Home in Denver · 1 bedroom · 1 bed · 1 shared ...</td>\n",
       "      <td>430149575</td>\n",
       "      <td>Roye</td>\n",
       "      <td>11/2/2021</td>\n",
       "      <td>NaN</td>\n",
       "      <td>100%</td>\n",
       "      <td>75%</td>\n",
       "      <td>Congress Park</td>\n",
       "      <td>...</td>\n",
       "      <td>0.11</td>\n",
       "      <td>Home</td>\n",
       "      <td>73.0</td>\n",
       "      <td>158.577465</td>\n",
       "      <td>9382.0</td>\n",
       "      <td>1.52</td>\n",
       "      <td>0.616353</td>\n",
       "      <td>0.819121</td>\n",
       "      <td>0.376289</td>\n",
       "      <td>0.000303</td>\n",
       "    </tr>\n",
       "    <tr>\n",
       "      <th>1</th>\n",
       "      <td>Hale</td>\n",
       "      <td>5.460000e+17</td>\n",
       "      <td>Rental unit in Denver · 2 bedrooms · 3 beds · ...</td>\n",
       "      <td>169214047</td>\n",
       "      <td>Jerrod</td>\n",
       "      <td>1/22/2018</td>\n",
       "      <td>Chicago, IL</td>\n",
       "      <td>NaN</td>\n",
       "      <td>0%</td>\n",
       "      <td>East</td>\n",
       "      <td>...</td>\n",
       "      <td>NaN</td>\n",
       "      <td>Rental</td>\n",
       "      <td>63.0</td>\n",
       "      <td>116.065574</td>\n",
       "      <td>6936.0</td>\n",
       "      <td>0.73</td>\n",
       "      <td>NaN</td>\n",
       "      <td>NaN</td>\n",
       "      <td>1.657895</td>\n",
       "      <td>0.000000</td>\n",
       "    </tr>\n",
       "    <tr>\n",
       "      <th>2</th>\n",
       "      <td>Five Points</td>\n",
       "      <td>5.242953e+07</td>\n",
       "      <td>Townhouse in Denver · ★4.78 · 3 bedrooms · 4 b...</td>\n",
       "      <td>107279139</td>\n",
       "      <td>Kyle And Kimberly</td>\n",
       "      <td>12/14/2016</td>\n",
       "      <td>Denver, CO</td>\n",
       "      <td>100%</td>\n",
       "      <td>100%</td>\n",
       "      <td>South</td>\n",
       "      <td>...</td>\n",
       "      <td>2.52</td>\n",
       "      <td>Townhouse</td>\n",
       "      <td>415.0</td>\n",
       "      <td>174.136585</td>\n",
       "      <td>12712.0</td>\n",
       "      <td>0.96</td>\n",
       "      <td>0.984566</td>\n",
       "      <td>1.028110</td>\n",
       "      <td>1.649899</td>\n",
       "      <td>0.001940</td>\n",
       "    </tr>\n",
       "    <tr>\n",
       "      <th>3</th>\n",
       "      <td>West Colfax</td>\n",
       "      <td>6.320000e+17</td>\n",
       "      <td>Townhouse in Denver · ★New · 2 bedrooms · 2 be...</td>\n",
       "      <td>416194740</td>\n",
       "      <td>Clayton</td>\n",
       "      <td>7/31/2021</td>\n",
       "      <td>Colorado, United States</td>\n",
       "      <td>100%</td>\n",
       "      <td>100%</td>\n",
       "      <td>West</td>\n",
       "      <td>...</td>\n",
       "      <td>NaN</td>\n",
       "      <td>Townhouse</td>\n",
       "      <td>226.0</td>\n",
       "      <td>196.633028</td>\n",
       "      <td>9740.0</td>\n",
       "      <td>1.22</td>\n",
       "      <td>NaN</td>\n",
       "      <td>NaN</td>\n",
       "      <td>0.786713</td>\n",
       "      <td>0.000000</td>\n",
       "    </tr>\n",
       "    <tr>\n",
       "      <th>4</th>\n",
       "      <td>Sunnyside</td>\n",
       "      <td>6.880000e+17</td>\n",
       "      <td>Home in Denver · ★5.0 · 2 bedrooms · 2 beds · ...</td>\n",
       "      <td>133612752</td>\n",
       "      <td>Ryan</td>\n",
       "      <td>6/5/2017</td>\n",
       "      <td>Denver, CO</td>\n",
       "      <td>NaN</td>\n",
       "      <td>91%</td>\n",
       "      <td>Northwest</td>\n",
       "      <td>...</td>\n",
       "      <td>0.99</td>\n",
       "      <td>Home</td>\n",
       "      <td>144.0</td>\n",
       "      <td>189.361702</td>\n",
       "      <td>9726.0</td>\n",
       "      <td>1.32</td>\n",
       "      <td>1.018330</td>\n",
       "      <td>1.004938</td>\n",
       "      <td>0.773842</td>\n",
       "      <td>0.001195</td>\n",
       "    </tr>\n",
       "    <tr>\n",
       "      <th>5</th>\n",
       "      <td>Jefferson Park</td>\n",
       "      <td>4.331644e+07</td>\n",
       "      <td>Townhouse in Denver · ★4.96 · 3 bedrooms · 5 b...</td>\n",
       "      <td>299373263</td>\n",
       "      <td>Dania</td>\n",
       "      <td>10/1/2019</td>\n",
       "      <td>NaN</td>\n",
       "      <td>100%</td>\n",
       "      <td>95%</td>\n",
       "      <td>Jefferson Park</td>\n",
       "      <td>...</td>\n",
       "      <td>0.67</td>\n",
       "      <td>Townhouse</td>\n",
       "      <td>96.0</td>\n",
       "      <td>298.126316</td>\n",
       "      <td>2552.0</td>\n",
       "      <td>0.45</td>\n",
       "      <td>1.026378</td>\n",
       "      <td>1.021534</td>\n",
       "      <td>2.281553</td>\n",
       "      <td>0.004892</td>\n",
       "    </tr>\n",
       "    <tr>\n",
       "      <th>6</th>\n",
       "      <td>Chaffee Park</td>\n",
       "      <td>5.389239e+07</td>\n",
       "      <td>Guesthouse in Denver · ★4.97 · 1 bedroom · 1 b...</td>\n",
       "      <td>436546995</td>\n",
       "      <td>Conor</td>\n",
       "      <td>12/18/2021</td>\n",
       "      <td>Denver, CO</td>\n",
       "      <td>100%</td>\n",
       "      <td>100%</td>\n",
       "      <td>Chaffee Park</td>\n",
       "      <td>...</td>\n",
       "      <td>2.61</td>\n",
       "      <td>Guesthouse</td>\n",
       "      <td>42.0</td>\n",
       "      <td>172.000000</td>\n",
       "      <td>3874.0</td>\n",
       "      <td>0.87</td>\n",
       "      <td>1.010487</td>\n",
       "      <td>1.018397</td>\n",
       "      <td>0.428571</td>\n",
       "      <td>0.027089</td>\n",
       "    </tr>\n",
       "    <tr>\n",
       "      <th>7</th>\n",
       "      <td>Five Points</td>\n",
       "      <td>8.420000e+17</td>\n",
       "      <td>Home in Denver · ★4.88 · 3 bedrooms · 6 beds ·...</td>\n",
       "      <td>456393682</td>\n",
       "      <td>Jasmine</td>\n",
       "      <td>4/27/2022</td>\n",
       "      <td>Denver, CO</td>\n",
       "      <td>100%</td>\n",
       "      <td>98%</td>\n",
       "      <td>Five Points</td>\n",
       "      <td>...</td>\n",
       "      <td>2.14</td>\n",
       "      <td>Home</td>\n",
       "      <td>415.0</td>\n",
       "      <td>174.136585</td>\n",
       "      <td>12712.0</td>\n",
       "      <td>0.96</td>\n",
       "      <td>1.005164</td>\n",
       "      <td>1.030195</td>\n",
       "      <td>2.474849</td>\n",
       "      <td>0.000456</td>\n",
       "    </tr>\n",
       "    <tr>\n",
       "      <th>8</th>\n",
       "      <td>Sunnyside</td>\n",
       "      <td>7.180000e+17</td>\n",
       "      <td>Home in Denver · 2 bedrooms · 2 beds · 2 baths</td>\n",
       "      <td>110328442</td>\n",
       "      <td>David</td>\n",
       "      <td>1/7/2017</td>\n",
       "      <td>Denver, CO</td>\n",
       "      <td>NaN</td>\n",
       "      <td>NaN</td>\n",
       "      <td>Northwest</td>\n",
       "      <td>...</td>\n",
       "      <td>NaN</td>\n",
       "      <td>Home</td>\n",
       "      <td>144.0</td>\n",
       "      <td>189.361702</td>\n",
       "      <td>9726.0</td>\n",
       "      <td>1.32</td>\n",
       "      <td>NaN</td>\n",
       "      <td>NaN</td>\n",
       "      <td>0.773842</td>\n",
       "      <td>0.000000</td>\n",
       "    </tr>\n",
       "    <tr>\n",
       "      <th>9</th>\n",
       "      <td>West Colfax</td>\n",
       "      <td>9.920000e+17</td>\n",
       "      <td>Rental unit in Denver · Studio · 1 bed · 1 bath</td>\n",
       "      <td>263502162</td>\n",
       "      <td>Landing</td>\n",
       "      <td>5/22/2019</td>\n",
       "      <td>San Francisco, CA</td>\n",
       "      <td>91%</td>\n",
       "      <td>98%</td>\n",
       "      <td>Five Points South</td>\n",
       "      <td>...</td>\n",
       "      <td>NaN</td>\n",
       "      <td>Rental</td>\n",
       "      <td>226.0</td>\n",
       "      <td>196.633028</td>\n",
       "      <td>9740.0</td>\n",
       "      <td>1.22</td>\n",
       "      <td>NaN</td>\n",
       "      <td>NaN</td>\n",
       "      <td>0.393357</td>\n",
       "      <td>0.000000</td>\n",
       "    </tr>\n",
       "  </tbody>\n",
       "</table>\n",
       "<p>10 rows × 41 columns</p>\n",
       "</div>"
      ],
      "text/plain": [
       "  neighbourhood_cleansed            id  \\\n",
       "0        North Park Hill  6.070000e+17   \n",
       "1                   Hale  5.460000e+17   \n",
       "2            Five Points  5.242953e+07   \n",
       "3            West Colfax  6.320000e+17   \n",
       "4              Sunnyside  6.880000e+17   \n",
       "5         Jefferson Park  4.331644e+07   \n",
       "6           Chaffee Park  5.389239e+07   \n",
       "7            Five Points  8.420000e+17   \n",
       "8              Sunnyside  7.180000e+17   \n",
       "9            West Colfax  9.920000e+17   \n",
       "\n",
       "                                         description    host_id  \\\n",
       "0  Home in Denver · 1 bedroom · 1 bed · 1 shared ...  430149575   \n",
       "1  Rental unit in Denver · 2 bedrooms · 3 beds · ...  169214047   \n",
       "2  Townhouse in Denver · ★4.78 · 3 bedrooms · 4 b...  107279139   \n",
       "3  Townhouse in Denver · ★New · 2 bedrooms · 2 be...  416194740   \n",
       "4  Home in Denver · ★5.0 · 2 bedrooms · 2 beds · ...  133612752   \n",
       "5  Townhouse in Denver · ★4.96 · 3 bedrooms · 5 b...  299373263   \n",
       "6  Guesthouse in Denver · ★4.97 · 1 bedroom · 1 b...  436546995   \n",
       "7  Home in Denver · ★4.88 · 3 bedrooms · 6 beds ·...  456393682   \n",
       "8     Home in Denver · 2 bedrooms · 2 beds · 2 baths  110328442   \n",
       "9    Rental unit in Denver · Studio · 1 bed · 1 bath  263502162   \n",
       "\n",
       "           host_name  host_since            host_location host_response_rate  \\\n",
       "0               Roye   11/2/2021                      NaN               100%   \n",
       "1             Jerrod   1/22/2018              Chicago, IL                NaN   \n",
       "2  Kyle And Kimberly  12/14/2016               Denver, CO               100%   \n",
       "3            Clayton   7/31/2021  Colorado, United States               100%   \n",
       "4               Ryan    6/5/2017               Denver, CO                NaN   \n",
       "5              Dania   10/1/2019                      NaN               100%   \n",
       "6              Conor  12/18/2021               Denver, CO               100%   \n",
       "7            Jasmine   4/27/2022               Denver, CO               100%   \n",
       "8              David    1/7/2017               Denver, CO                NaN   \n",
       "9            Landing   5/22/2019        San Francisco, CA                91%   \n",
       "\n",
       "  host_acceptance_rate host_neighbourhood  ...  reviews_per_month   home_type  \\\n",
       "0                  75%      Congress Park  ...               0.11        Home   \n",
       "1                   0%               East  ...                NaN      Rental   \n",
       "2                 100%              South  ...               2.52   Townhouse   \n",
       "3                 100%               West  ...                NaN   Townhouse   \n",
       "4                  91%          Northwest  ...               0.99        Home   \n",
       "5                  95%     Jefferson Park  ...               0.67   Townhouse   \n",
       "6                 100%       Chaffee Park  ...               2.61  Guesthouse   \n",
       "7                  98%        Five Points  ...               2.14        Home   \n",
       "8                  NaN          Northwest  ...                NaN        Home   \n",
       "9                  98%  Five Points South  ...                NaN      Rental   \n",
       "\n",
       "  neighborhood_cleansed_id_number neighborhood_cleansed_price  \\\n",
       "0                            73.0                  158.577465   \n",
       "1                            63.0                  116.065574   \n",
       "2                           415.0                  174.136585   \n",
       "3                           226.0                  196.633028   \n",
       "4                           144.0                  189.361702   \n",
       "5                            96.0                  298.126316   \n",
       "6                            42.0                  172.000000   \n",
       "7                           415.0                  174.136585   \n",
       "8                           144.0                  189.361702   \n",
       "9                           226.0                  196.633028   \n",
       "\n",
       "  denver_neighborhoods_population  region_area_sq_miles  \\\n",
       "0                          9382.0                  1.52   \n",
       "1                          6936.0                  0.73   \n",
       "2                         12712.0                  0.96   \n",
       "3                          9740.0                  1.22   \n",
       "4                          9726.0                  1.32   \n",
       "5                          2552.0                  0.45   \n",
       "6                          3874.0                  0.87   \n",
       "7                         12712.0                  0.96   \n",
       "8                          9726.0                  1.32   \n",
       "9                          9740.0                  1.22   \n",
       "\n",
       "   id_review_scores_rating_ac_region_ratio  \\\n",
       "0                                 0.616353   \n",
       "1                                      NaN   \n",
       "2                                 0.984566   \n",
       "3                                      NaN   \n",
       "4                                 1.018330   \n",
       "5                                 1.026378   \n",
       "6                                 1.010487   \n",
       "7                                 1.005164   \n",
       "8                                      NaN   \n",
       "9                                      NaN   \n",
       "\n",
       "   id_review_scores_location_ac_region_ratio  \\\n",
       "0                                   0.819121   \n",
       "1                                        NaN   \n",
       "2                                   1.028110   \n",
       "3                                        NaN   \n",
       "4                                   1.004938   \n",
       "5                                   1.021534   \n",
       "6                                   1.018397   \n",
       "7                                   1.030195   \n",
       "8                                        NaN   \n",
       "9                                        NaN   \n",
       "\n",
       "   id_bedrooms_count_ac_mean_region_ratio id_number_of_reviews_ac_region_ratio  \n",
       "0                                0.376289                             0.000303  \n",
       "1                                1.657895                             0.000000  \n",
       "2                                1.649899                             0.001940  \n",
       "3                                0.786713                             0.000000  \n",
       "4                                0.773842                             0.001195  \n",
       "5                                2.281553                             0.004892  \n",
       "6                                0.428571                             0.027089  \n",
       "7                                2.474849                             0.000456  \n",
       "8                                0.773842                             0.000000  \n",
       "9                                0.393357                             0.000000  \n",
       "\n",
       "[10 rows x 41 columns]"
      ]
     },
     "execution_count": 3,
     "metadata": {},
     "output_type": "execute_result"
    }
   ],
   "source": [
    "airbnb_data_cleaned_v2 = airbnb_data_cleaned_v2.drop(columns=['Unnamed: 0', 'Unnamed: 0_x', 'Unnamed: 0_y'])\n",
    "airbnb_data_cleaned_v2.head(10)"
   ]
  },
  {
   "cell_type": "code",
   "execution_count": 4,
   "metadata": {},
   "outputs": [
    {
     "data": {
      "text/html": [
       "<div>\n",
       "<style scoped>\n",
       "    .dataframe tbody tr th:only-of-type {\n",
       "        vertical-align: middle;\n",
       "    }\n",
       "\n",
       "    .dataframe tbody tr th {\n",
       "        vertical-align: top;\n",
       "    }\n",
       "\n",
       "    .dataframe thead th {\n",
       "        text-align: right;\n",
       "    }\n",
       "</style>\n",
       "<table border=\"1\" class=\"dataframe\">\n",
       "  <thead>\n",
       "    <tr style=\"text-align: right;\">\n",
       "      <th></th>\n",
       "      <th>0</th>\n",
       "      <th>1</th>\n",
       "      <th>2</th>\n",
       "      <th>3</th>\n",
       "      <th>4</th>\n",
       "    </tr>\n",
       "  </thead>\n",
       "  <tbody>\n",
       "    <tr>\n",
       "      <th>neighbourhood_cleansed</th>\n",
       "      <td>North Park Hill</td>\n",
       "      <td>Hale</td>\n",
       "      <td>Five Points</td>\n",
       "      <td>West Colfax</td>\n",
       "      <td>Sunnyside</td>\n",
       "    </tr>\n",
       "    <tr>\n",
       "      <th>id</th>\n",
       "      <td>607000000000000000.0</td>\n",
       "      <td>546000000000000000.0</td>\n",
       "      <td>52429527.0</td>\n",
       "      <td>632000000000000000.0</td>\n",
       "      <td>688000000000000000.0</td>\n",
       "    </tr>\n",
       "    <tr>\n",
       "      <th>description</th>\n",
       "      <td>Home in Denver · 1 bedroom · 1 bed · 1 shared ...</td>\n",
       "      <td>Rental unit in Denver · 2 bedrooms · 3 beds · ...</td>\n",
       "      <td>Townhouse in Denver · ★4.78 · 3 bedrooms · 4 b...</td>\n",
       "      <td>Townhouse in Denver · ★New · 2 bedrooms · 2 be...</td>\n",
       "      <td>Home in Denver · ★5.0 · 2 bedrooms · 2 beds · ...</td>\n",
       "    </tr>\n",
       "    <tr>\n",
       "      <th>host_id</th>\n",
       "      <td>430149575</td>\n",
       "      <td>169214047</td>\n",
       "      <td>107279139</td>\n",
       "      <td>416194740</td>\n",
       "      <td>133612752</td>\n",
       "    </tr>\n",
       "    <tr>\n",
       "      <th>host_name</th>\n",
       "      <td>Roye</td>\n",
       "      <td>Jerrod</td>\n",
       "      <td>Kyle And Kimberly</td>\n",
       "      <td>Clayton</td>\n",
       "      <td>Ryan</td>\n",
       "    </tr>\n",
       "    <tr>\n",
       "      <th>host_since</th>\n",
       "      <td>11/2/2021</td>\n",
       "      <td>1/22/2018</td>\n",
       "      <td>12/14/2016</td>\n",
       "      <td>7/31/2021</td>\n",
       "      <td>6/5/2017</td>\n",
       "    </tr>\n",
       "    <tr>\n",
       "      <th>host_location</th>\n",
       "      <td>NaN</td>\n",
       "      <td>Chicago, IL</td>\n",
       "      <td>Denver, CO</td>\n",
       "      <td>Colorado, United States</td>\n",
       "      <td>Denver, CO</td>\n",
       "    </tr>\n",
       "    <tr>\n",
       "      <th>host_response_rate</th>\n",
       "      <td>100%</td>\n",
       "      <td>NaN</td>\n",
       "      <td>100%</td>\n",
       "      <td>100%</td>\n",
       "      <td>NaN</td>\n",
       "    </tr>\n",
       "    <tr>\n",
       "      <th>host_acceptance_rate</th>\n",
       "      <td>75%</td>\n",
       "      <td>0%</td>\n",
       "      <td>100%</td>\n",
       "      <td>100%</td>\n",
       "      <td>91%</td>\n",
       "    </tr>\n",
       "    <tr>\n",
       "      <th>host_neighbourhood</th>\n",
       "      <td>Congress Park</td>\n",
       "      <td>East</td>\n",
       "      <td>South</td>\n",
       "      <td>West</td>\n",
       "      <td>Northwest</td>\n",
       "    </tr>\n",
       "    <tr>\n",
       "      <th>latitude</th>\n",
       "      <td>39.76039</td>\n",
       "      <td>39.72785</td>\n",
       "      <td>39.75852</td>\n",
       "      <td>39.736019</td>\n",
       "      <td>39.77143</td>\n",
       "    </tr>\n",
       "    <tr>\n",
       "      <th>longitude</th>\n",
       "      <td>-104.92968</td>\n",
       "      <td>-104.93783</td>\n",
       "      <td>-104.98846</td>\n",
       "      <td>-105.05072</td>\n",
       "      <td>-105.02028</td>\n",
       "    </tr>\n",
       "    <tr>\n",
       "      <th>property_type</th>\n",
       "      <td>Private room in home</td>\n",
       "      <td>Entire rental unit</td>\n",
       "      <td>Entire townhouse</td>\n",
       "      <td>Entire townhouse</td>\n",
       "      <td>Entire home</td>\n",
       "    </tr>\n",
       "    <tr>\n",
       "      <th>room_type</th>\n",
       "      <td>Private room</td>\n",
       "      <td>Entire home/apt</td>\n",
       "      <td>Entire home/apt</td>\n",
       "      <td>Entire home/apt</td>\n",
       "      <td>Entire home/apt</td>\n",
       "    </tr>\n",
       "    <tr>\n",
       "      <th>bathrooms</th>\n",
       "      <td>1 shared bath</td>\n",
       "      <td>2 baths</td>\n",
       "      <td>2.5 baths</td>\n",
       "      <td>2.5 baths</td>\n",
       "      <td>1 bath</td>\n",
       "    </tr>\n",
       "    <tr>\n",
       "      <th>bedrooms</th>\n",
       "      <td>1.0</td>\n",
       "      <td>3.0</td>\n",
       "      <td>4.0</td>\n",
       "      <td>2.0</td>\n",
       "      <td>2.0</td>\n",
       "    </tr>\n",
       "    <tr>\n",
       "      <th>price</th>\n",
       "      <td>35.0</td>\n",
       "      <td>149.0</td>\n",
       "      <td>190.0</td>\n",
       "      <td>87.0</td>\n",
       "      <td>300.0</td>\n",
       "    </tr>\n",
       "    <tr>\n",
       "      <th>minimum_minimum_nights</th>\n",
       "      <td>30</td>\n",
       "      <td>30</td>\n",
       "      <td>2</td>\n",
       "      <td>29</td>\n",
       "      <td>29</td>\n",
       "    </tr>\n",
       "    <tr>\n",
       "      <th>maximum_maximum_nights</th>\n",
       "      <td>365</td>\n",
       "      <td>365</td>\n",
       "      <td>365</td>\n",
       "      <td>365</td>\n",
       "      <td>1125</td>\n",
       "    </tr>\n",
       "    <tr>\n",
       "      <th>calendar_last_scraped</th>\n",
       "      <td>12/29/2023</td>\n",
       "      <td>12/29/2023</td>\n",
       "      <td>12/29/2023</td>\n",
       "      <td>12/29/2023</td>\n",
       "      <td>12/29/2023</td>\n",
       "    </tr>\n",
       "    <tr>\n",
       "      <th>number_of_reviews</th>\n",
       "      <td>2</td>\n",
       "      <td>0</td>\n",
       "      <td>68</td>\n",
       "      <td>0</td>\n",
       "      <td>12</td>\n",
       "    </tr>\n",
       "    <tr>\n",
       "      <th>first_review</th>\n",
       "      <td>7/1/2022</td>\n",
       "      <td>NaN</td>\n",
       "      <td>10/11/2021</td>\n",
       "      <td>NaN</td>\n",
       "      <td>12/31/2022</td>\n",
       "    </tr>\n",
       "    <tr>\n",
       "      <th>last_review</th>\n",
       "      <td>8/1/2022</td>\n",
       "      <td>NaN</td>\n",
       "      <td>11/20/2023</td>\n",
       "      <td>NaN</td>\n",
       "      <td>9/4/2023</td>\n",
       "    </tr>\n",
       "    <tr>\n",
       "      <th>last_scraped</th>\n",
       "      <td>12/29/2023</td>\n",
       "      <td>12/29/2023</td>\n",
       "      <td>12/29/2023</td>\n",
       "      <td>12/29/2023</td>\n",
       "      <td>12/29/2023</td>\n",
       "    </tr>\n",
       "    <tr>\n",
       "      <th>review_scores_rating</th>\n",
       "      <td>3.0</td>\n",
       "      <td>NaN</td>\n",
       "      <td>4.78</td>\n",
       "      <td>NaN</td>\n",
       "      <td>5.0</td>\n",
       "    </tr>\n",
       "    <tr>\n",
       "      <th>review_scores_accuracy</th>\n",
       "      <td>2.5</td>\n",
       "      <td>NaN</td>\n",
       "      <td>4.88</td>\n",
       "      <td>NaN</td>\n",
       "      <td>5.0</td>\n",
       "    </tr>\n",
       "    <tr>\n",
       "      <th>review_scores_cleanliness</th>\n",
       "      <td>2.5</td>\n",
       "      <td>NaN</td>\n",
       "      <td>4.62</td>\n",
       "      <td>NaN</td>\n",
       "      <td>5.0</td>\n",
       "    </tr>\n",
       "    <tr>\n",
       "      <th>review_scores_checkin</th>\n",
       "      <td>3.0</td>\n",
       "      <td>NaN</td>\n",
       "      <td>4.78</td>\n",
       "      <td>NaN</td>\n",
       "      <td>5.0</td>\n",
       "    </tr>\n",
       "    <tr>\n",
       "      <th>review_scores_communication</th>\n",
       "      <td>3.5</td>\n",
       "      <td>NaN</td>\n",
       "      <td>4.78</td>\n",
       "      <td>NaN</td>\n",
       "      <td>5.0</td>\n",
       "    </tr>\n",
       "    <tr>\n",
       "      <th>review_scores_location</th>\n",
       "      <td>4.0</td>\n",
       "      <td>NaN</td>\n",
       "      <td>4.93</td>\n",
       "      <td>NaN</td>\n",
       "      <td>4.92</td>\n",
       "    </tr>\n",
       "    <tr>\n",
       "      <th>review_scores_value</th>\n",
       "      <td>3.0</td>\n",
       "      <td>NaN</td>\n",
       "      <td>4.59</td>\n",
       "      <td>NaN</td>\n",
       "      <td>4.92</td>\n",
       "    </tr>\n",
       "    <tr>\n",
       "      <th>reviews_per_month</th>\n",
       "      <td>0.11</td>\n",
       "      <td>NaN</td>\n",
       "      <td>2.52</td>\n",
       "      <td>NaN</td>\n",
       "      <td>0.99</td>\n",
       "    </tr>\n",
       "    <tr>\n",
       "      <th>home_type</th>\n",
       "      <td>Home</td>\n",
       "      <td>Rental</td>\n",
       "      <td>Townhouse</td>\n",
       "      <td>Townhouse</td>\n",
       "      <td>Home</td>\n",
       "    </tr>\n",
       "    <tr>\n",
       "      <th>neighborhood_cleansed_id_number</th>\n",
       "      <td>73.0</td>\n",
       "      <td>63.0</td>\n",
       "      <td>415.0</td>\n",
       "      <td>226.0</td>\n",
       "      <td>144.0</td>\n",
       "    </tr>\n",
       "    <tr>\n",
       "      <th>neighborhood_cleansed_price</th>\n",
       "      <td>158.577465</td>\n",
       "      <td>116.065574</td>\n",
       "      <td>174.136585</td>\n",
       "      <td>196.633028</td>\n",
       "      <td>189.361702</td>\n",
       "    </tr>\n",
       "    <tr>\n",
       "      <th>denver_neighborhoods_population</th>\n",
       "      <td>9382.0</td>\n",
       "      <td>6936.0</td>\n",
       "      <td>12712.0</td>\n",
       "      <td>9740.0</td>\n",
       "      <td>9726.0</td>\n",
       "    </tr>\n",
       "    <tr>\n",
       "      <th>region_area_sq_miles</th>\n",
       "      <td>1.52</td>\n",
       "      <td>0.73</td>\n",
       "      <td>0.96</td>\n",
       "      <td>1.22</td>\n",
       "      <td>1.32</td>\n",
       "    </tr>\n",
       "    <tr>\n",
       "      <th>id_review_scores_rating_ac_region_ratio</th>\n",
       "      <td>0.616353</td>\n",
       "      <td>NaN</td>\n",
       "      <td>0.984566</td>\n",
       "      <td>NaN</td>\n",
       "      <td>1.01833</td>\n",
       "    </tr>\n",
       "    <tr>\n",
       "      <th>id_review_scores_location_ac_region_ratio</th>\n",
       "      <td>0.819121</td>\n",
       "      <td>NaN</td>\n",
       "      <td>1.02811</td>\n",
       "      <td>NaN</td>\n",
       "      <td>1.004938</td>\n",
       "    </tr>\n",
       "    <tr>\n",
       "      <th>id_bedrooms_count_ac_mean_region_ratio</th>\n",
       "      <td>0.376289</td>\n",
       "      <td>1.657895</td>\n",
       "      <td>1.649899</td>\n",
       "      <td>0.786713</td>\n",
       "      <td>0.773842</td>\n",
       "    </tr>\n",
       "    <tr>\n",
       "      <th>id_number_of_reviews_ac_region_ratio</th>\n",
       "      <td>0.000303</td>\n",
       "      <td>0.0</td>\n",
       "      <td>0.00194</td>\n",
       "      <td>0.0</td>\n",
       "      <td>0.001195</td>\n",
       "    </tr>\n",
       "  </tbody>\n",
       "</table>\n",
       "</div>"
      ],
      "text/plain": [
       "                                                                                           0  \\\n",
       "neighbourhood_cleansed                                                       North Park Hill   \n",
       "id                                                                      607000000000000000.0   \n",
       "description                                Home in Denver · 1 bedroom · 1 bed · 1 shared ...   \n",
       "host_id                                                                            430149575   \n",
       "host_name                                                                               Roye   \n",
       "host_since                                                                         11/2/2021   \n",
       "host_location                                                                            NaN   \n",
       "host_response_rate                                                                      100%   \n",
       "host_acceptance_rate                                                                     75%   \n",
       "host_neighbourhood                                                             Congress Park   \n",
       "latitude                                                                            39.76039   \n",
       "longitude                                                                         -104.92968   \n",
       "property_type                                                           Private room in home   \n",
       "room_type                                                                       Private room   \n",
       "bathrooms                                                                      1 shared bath   \n",
       "bedrooms                                                                                 1.0   \n",
       "price                                                                                   35.0   \n",
       "minimum_minimum_nights                                                                    30   \n",
       "maximum_maximum_nights                                                                   365   \n",
       "calendar_last_scraped                                                             12/29/2023   \n",
       "number_of_reviews                                                                          2   \n",
       "first_review                                                                        7/1/2022   \n",
       "last_review                                                                         8/1/2022   \n",
       "last_scraped                                                                      12/29/2023   \n",
       "review_scores_rating                                                                     3.0   \n",
       "review_scores_accuracy                                                                   2.5   \n",
       "review_scores_cleanliness                                                                2.5   \n",
       "review_scores_checkin                                                                    3.0   \n",
       "review_scores_communication                                                              3.5   \n",
       "review_scores_location                                                                   4.0   \n",
       "review_scores_value                                                                      3.0   \n",
       "reviews_per_month                                                                       0.11   \n",
       "home_type                                                                               Home   \n",
       "neighborhood_cleansed_id_number                                                         73.0   \n",
       "neighborhood_cleansed_price                                                       158.577465   \n",
       "denver_neighborhoods_population                                                       9382.0   \n",
       "region_area_sq_miles                                                                    1.52   \n",
       "id_review_scores_rating_ac_region_ratio                                             0.616353   \n",
       "id_review_scores_location_ac_region_ratio                                           0.819121   \n",
       "id_bedrooms_count_ac_mean_region_ratio                                              0.376289   \n",
       "id_number_of_reviews_ac_region_ratio                                                0.000303   \n",
       "\n",
       "                                                                                           1  \\\n",
       "neighbourhood_cleansed                                                                  Hale   \n",
       "id                                                                      546000000000000000.0   \n",
       "description                                Rental unit in Denver · 2 bedrooms · 3 beds · ...   \n",
       "host_id                                                                            169214047   \n",
       "host_name                                                                             Jerrod   \n",
       "host_since                                                                         1/22/2018   \n",
       "host_location                                                                    Chicago, IL   \n",
       "host_response_rate                                                                       NaN   \n",
       "host_acceptance_rate                                                                      0%   \n",
       "host_neighbourhood                                                                      East   \n",
       "latitude                                                                            39.72785   \n",
       "longitude                                                                         -104.93783   \n",
       "property_type                                                             Entire rental unit   \n",
       "room_type                                                                    Entire home/apt   \n",
       "bathrooms                                                                            2 baths   \n",
       "bedrooms                                                                                 3.0   \n",
       "price                                                                                  149.0   \n",
       "minimum_minimum_nights                                                                    30   \n",
       "maximum_maximum_nights                                                                   365   \n",
       "calendar_last_scraped                                                             12/29/2023   \n",
       "number_of_reviews                                                                          0   \n",
       "first_review                                                                             NaN   \n",
       "last_review                                                                              NaN   \n",
       "last_scraped                                                                      12/29/2023   \n",
       "review_scores_rating                                                                     NaN   \n",
       "review_scores_accuracy                                                                   NaN   \n",
       "review_scores_cleanliness                                                                NaN   \n",
       "review_scores_checkin                                                                    NaN   \n",
       "review_scores_communication                                                              NaN   \n",
       "review_scores_location                                                                   NaN   \n",
       "review_scores_value                                                                      NaN   \n",
       "reviews_per_month                                                                        NaN   \n",
       "home_type                                                                             Rental   \n",
       "neighborhood_cleansed_id_number                                                         63.0   \n",
       "neighborhood_cleansed_price                                                       116.065574   \n",
       "denver_neighborhoods_population                                                       6936.0   \n",
       "region_area_sq_miles                                                                    0.73   \n",
       "id_review_scores_rating_ac_region_ratio                                                  NaN   \n",
       "id_review_scores_location_ac_region_ratio                                                NaN   \n",
       "id_bedrooms_count_ac_mean_region_ratio                                              1.657895   \n",
       "id_number_of_reviews_ac_region_ratio                                                     0.0   \n",
       "\n",
       "                                                                                           2  \\\n",
       "neighbourhood_cleansed                                                           Five Points   \n",
       "id                                                                                52429527.0   \n",
       "description                                Townhouse in Denver · ★4.78 · 3 bedrooms · 4 b...   \n",
       "host_id                                                                            107279139   \n",
       "host_name                                                                  Kyle And Kimberly   \n",
       "host_since                                                                        12/14/2016   \n",
       "host_location                                                                     Denver, CO   \n",
       "host_response_rate                                                                      100%   \n",
       "host_acceptance_rate                                                                    100%   \n",
       "host_neighbourhood                                                                     South   \n",
       "latitude                                                                            39.75852   \n",
       "longitude                                                                         -104.98846   \n",
       "property_type                                                               Entire townhouse   \n",
       "room_type                                                                    Entire home/apt   \n",
       "bathrooms                                                                          2.5 baths   \n",
       "bedrooms                                                                                 4.0   \n",
       "price                                                                                  190.0   \n",
       "minimum_minimum_nights                                                                     2   \n",
       "maximum_maximum_nights                                                                   365   \n",
       "calendar_last_scraped                                                             12/29/2023   \n",
       "number_of_reviews                                                                         68   \n",
       "first_review                                                                      10/11/2021   \n",
       "last_review                                                                       11/20/2023   \n",
       "last_scraped                                                                      12/29/2023   \n",
       "review_scores_rating                                                                    4.78   \n",
       "review_scores_accuracy                                                                  4.88   \n",
       "review_scores_cleanliness                                                               4.62   \n",
       "review_scores_checkin                                                                   4.78   \n",
       "review_scores_communication                                                             4.78   \n",
       "review_scores_location                                                                  4.93   \n",
       "review_scores_value                                                                     4.59   \n",
       "reviews_per_month                                                                       2.52   \n",
       "home_type                                                                          Townhouse   \n",
       "neighborhood_cleansed_id_number                                                        415.0   \n",
       "neighborhood_cleansed_price                                                       174.136585   \n",
       "denver_neighborhoods_population                                                      12712.0   \n",
       "region_area_sq_miles                                                                    0.96   \n",
       "id_review_scores_rating_ac_region_ratio                                             0.984566   \n",
       "id_review_scores_location_ac_region_ratio                                            1.02811   \n",
       "id_bedrooms_count_ac_mean_region_ratio                                              1.649899   \n",
       "id_number_of_reviews_ac_region_ratio                                                 0.00194   \n",
       "\n",
       "                                                                                           3  \\\n",
       "neighbourhood_cleansed                                                           West Colfax   \n",
       "id                                                                      632000000000000000.0   \n",
       "description                                Townhouse in Denver · ★New · 2 bedrooms · 2 be...   \n",
       "host_id                                                                            416194740   \n",
       "host_name                                                                            Clayton   \n",
       "host_since                                                                         7/31/2021   \n",
       "host_location                                                        Colorado, United States   \n",
       "host_response_rate                                                                      100%   \n",
       "host_acceptance_rate                                                                    100%   \n",
       "host_neighbourhood                                                                      West   \n",
       "latitude                                                                           39.736019   \n",
       "longitude                                                                         -105.05072   \n",
       "property_type                                                               Entire townhouse   \n",
       "room_type                                                                    Entire home/apt   \n",
       "bathrooms                                                                          2.5 baths   \n",
       "bedrooms                                                                                 2.0   \n",
       "price                                                                                   87.0   \n",
       "minimum_minimum_nights                                                                    29   \n",
       "maximum_maximum_nights                                                                   365   \n",
       "calendar_last_scraped                                                             12/29/2023   \n",
       "number_of_reviews                                                                          0   \n",
       "first_review                                                                             NaN   \n",
       "last_review                                                                              NaN   \n",
       "last_scraped                                                                      12/29/2023   \n",
       "review_scores_rating                                                                     NaN   \n",
       "review_scores_accuracy                                                                   NaN   \n",
       "review_scores_cleanliness                                                                NaN   \n",
       "review_scores_checkin                                                                    NaN   \n",
       "review_scores_communication                                                              NaN   \n",
       "review_scores_location                                                                   NaN   \n",
       "review_scores_value                                                                      NaN   \n",
       "reviews_per_month                                                                        NaN   \n",
       "home_type                                                                          Townhouse   \n",
       "neighborhood_cleansed_id_number                                                        226.0   \n",
       "neighborhood_cleansed_price                                                       196.633028   \n",
       "denver_neighborhoods_population                                                       9740.0   \n",
       "region_area_sq_miles                                                                    1.22   \n",
       "id_review_scores_rating_ac_region_ratio                                                  NaN   \n",
       "id_review_scores_location_ac_region_ratio                                                NaN   \n",
       "id_bedrooms_count_ac_mean_region_ratio                                              0.786713   \n",
       "id_number_of_reviews_ac_region_ratio                                                     0.0   \n",
       "\n",
       "                                                                                           4  \n",
       "neighbourhood_cleansed                                                             Sunnyside  \n",
       "id                                                                      688000000000000000.0  \n",
       "description                                Home in Denver · ★5.0 · 2 bedrooms · 2 beds · ...  \n",
       "host_id                                                                            133612752  \n",
       "host_name                                                                               Ryan  \n",
       "host_since                                                                          6/5/2017  \n",
       "host_location                                                                     Denver, CO  \n",
       "host_response_rate                                                                       NaN  \n",
       "host_acceptance_rate                                                                     91%  \n",
       "host_neighbourhood                                                                 Northwest  \n",
       "latitude                                                                            39.77143  \n",
       "longitude                                                                         -105.02028  \n",
       "property_type                                                                    Entire home  \n",
       "room_type                                                                    Entire home/apt  \n",
       "bathrooms                                                                             1 bath  \n",
       "bedrooms                                                                                 2.0  \n",
       "price                                                                                  300.0  \n",
       "minimum_minimum_nights                                                                    29  \n",
       "maximum_maximum_nights                                                                  1125  \n",
       "calendar_last_scraped                                                             12/29/2023  \n",
       "number_of_reviews                                                                         12  \n",
       "first_review                                                                      12/31/2022  \n",
       "last_review                                                                         9/4/2023  \n",
       "last_scraped                                                                      12/29/2023  \n",
       "review_scores_rating                                                                     5.0  \n",
       "review_scores_accuracy                                                                   5.0  \n",
       "review_scores_cleanliness                                                                5.0  \n",
       "review_scores_checkin                                                                    5.0  \n",
       "review_scores_communication                                                              5.0  \n",
       "review_scores_location                                                                  4.92  \n",
       "review_scores_value                                                                     4.92  \n",
       "reviews_per_month                                                                       0.99  \n",
       "home_type                                                                               Home  \n",
       "neighborhood_cleansed_id_number                                                        144.0  \n",
       "neighborhood_cleansed_price                                                       189.361702  \n",
       "denver_neighborhoods_population                                                       9726.0  \n",
       "region_area_sq_miles                                                                    1.32  \n",
       "id_review_scores_rating_ac_region_ratio                                              1.01833  \n",
       "id_review_scores_location_ac_region_ratio                                           1.004938  \n",
       "id_bedrooms_count_ac_mean_region_ratio                                              0.773842  \n",
       "id_number_of_reviews_ac_region_ratio                                                0.001195  "
      ]
     },
     "execution_count": 4,
     "metadata": {},
     "output_type": "execute_result"
    }
   ],
   "source": [
    "airbnb_data_cleaned_v2.head().T"
   ]
  },
  {
   "cell_type": "code",
   "execution_count": 5,
   "metadata": {},
   "outputs": [
    {
     "data": {
      "text/html": [
       "<div>\n",
       "<style scoped>\n",
       "    .dataframe tbody tr th:only-of-type {\n",
       "        vertical-align: middle;\n",
       "    }\n",
       "\n",
       "    .dataframe tbody tr th {\n",
       "        vertical-align: top;\n",
       "    }\n",
       "\n",
       "    .dataframe thead th {\n",
       "        text-align: right;\n",
       "    }\n",
       "</style>\n",
       "<table border=\"1\" class=\"dataframe\">\n",
       "  <thead>\n",
       "    <tr style=\"text-align: right;\">\n",
       "      <th></th>\n",
       "      <th>neighbourhood_cleansed</th>\n",
       "      <th>neighborhood_cleansed_id_number</th>\n",
       "      <th>neighborhood_cleansed_review_scores_rating</th>\n",
       "      <th>neighborhood_cleansed_review_scores_location</th>\n",
       "      <th>neighborhood_cleansed_bedrooms</th>\n",
       "      <th>neighborhood_cleansed_number_of_reviews</th>\n",
       "      <th>neighborhood_cleansed_price</th>\n",
       "      <th>denver_neighborhoods_population</th>\n",
       "      <th>region_area_sq_miles</th>\n",
       "    </tr>\n",
       "  </thead>\n",
       "  <tbody>\n",
       "    <tr>\n",
       "      <th>0</th>\n",
       "      <td>Athmar Park</td>\n",
       "      <td>55</td>\n",
       "      <td>4.832766</td>\n",
       "      <td>4.713191</td>\n",
       "      <td>2.444444</td>\n",
       "      <td>1952</td>\n",
       "      <td>142.472727</td>\n",
       "      <td>8898</td>\n",
       "      <td>1.53</td>\n",
       "    </tr>\n",
       "    <tr>\n",
       "      <th>1</th>\n",
       "      <td>Auraria</td>\n",
       "      <td>4</td>\n",
       "      <td>4.996667</td>\n",
       "      <td>4.996667</td>\n",
       "      <td>1.750000</td>\n",
       "      <td>90</td>\n",
       "      <td>163.750000</td>\n",
       "      <td>705</td>\n",
       "      <td>0.32</td>\n",
       "    </tr>\n",
       "    <tr>\n",
       "      <th>2</th>\n",
       "      <td>Baker</td>\n",
       "      <td>118</td>\n",
       "      <td>4.815963</td>\n",
       "      <td>4.846330</td>\n",
       "      <td>1.846154</td>\n",
       "      <td>6018</td>\n",
       "      <td>122.119658</td>\n",
       "      <td>4879</td>\n",
       "      <td>1.26</td>\n",
       "    </tr>\n",
       "    <tr>\n",
       "      <th>3</th>\n",
       "      <td>Barnum</td>\n",
       "      <td>34</td>\n",
       "      <td>4.769259</td>\n",
       "      <td>4.658148</td>\n",
       "      <td>2.176471</td>\n",
       "      <td>1043</td>\n",
       "      <td>121.264706</td>\n",
       "      <td>6111</td>\n",
       "      <td>1.47</td>\n",
       "    </tr>\n",
       "    <tr>\n",
       "      <th>4</th>\n",
       "      <td>Barnum West</td>\n",
       "      <td>26</td>\n",
       "      <td>4.834545</td>\n",
       "      <td>4.713182</td>\n",
       "      <td>2.115385</td>\n",
       "      <td>1330</td>\n",
       "      <td>115.230769</td>\n",
       "      <td>5376</td>\n",
       "      <td>0.74</td>\n",
       "    </tr>\n",
       "  </tbody>\n",
       "</table>\n",
       "</div>"
      ],
      "text/plain": [
       "  neighbourhood_cleansed  neighborhood_cleansed_id_number  \\\n",
       "0            Athmar Park                               55   \n",
       "1                Auraria                                4   \n",
       "2                  Baker                              118   \n",
       "3                 Barnum                               34   \n",
       "4            Barnum West                               26   \n",
       "\n",
       "   neighborhood_cleansed_review_scores_rating  \\\n",
       "0                                    4.832766   \n",
       "1                                    4.996667   \n",
       "2                                    4.815963   \n",
       "3                                    4.769259   \n",
       "4                                    4.834545   \n",
       "\n",
       "   neighborhood_cleansed_review_scores_location  \\\n",
       "0                                      4.713191   \n",
       "1                                      4.996667   \n",
       "2                                      4.846330   \n",
       "3                                      4.658148   \n",
       "4                                      4.713182   \n",
       "\n",
       "   neighborhood_cleansed_bedrooms  neighborhood_cleansed_number_of_reviews  \\\n",
       "0                        2.444444                                     1952   \n",
       "1                        1.750000                                       90   \n",
       "2                        1.846154                                     6018   \n",
       "3                        2.176471                                     1043   \n",
       "4                        2.115385                                     1330   \n",
       "\n",
       "   neighborhood_cleansed_price  denver_neighborhoods_population  \\\n",
       "0                   142.472727                             8898   \n",
       "1                   163.750000                              705   \n",
       "2                   122.119658                             4879   \n",
       "3                   121.264706                             6111   \n",
       "4                   115.230769                             5376   \n",
       "\n",
       "   region_area_sq_miles  \n",
       "0                  1.53  \n",
       "1                  0.32  \n",
       "2                  1.26  \n",
       "3                  1.47  \n",
       "4                  0.74  "
      ]
     },
     "execution_count": 5,
     "metadata": {},
     "output_type": "execute_result"
    }
   ],
   "source": [
    "neighbourhood_summary_v2 = neighbourhood_summary_v2.drop(columns=['Unnamed: 0.1', 'Unnamed: 0'])\n",
    "neighbourhood_summary_v2.head()"
   ]
  },
  {
   "cell_type": "markdown",
   "metadata": {},
   "source": [
    "## 4.5 Extract id_842000000000000000<a id='4.5_id_842000000000000000'></a>"
   ]
  },
  {
   "cell_type": "markdown",
   "metadata": {},
   "source": [
    "id_842000000000000000 is my case. Separate it from the rest of the data to use later."
   ]
  },
  {
   "cell_type": "code",
   "execution_count": 6,
   "metadata": {},
   "outputs": [],
   "source": [
    "id_842000000000000000 = airbnb_data_cleaned_v2[airbnb_data_cleaned_v2['id'] == 842000000000000000]"
   ]
  },
  {
   "cell_type": "code",
   "execution_count": 7,
   "metadata": {},
   "outputs": [
    {
     "data": {
      "text/html": [
       "<div>\n",
       "<style scoped>\n",
       "    .dataframe tbody tr th:only-of-type {\n",
       "        vertical-align: middle;\n",
       "    }\n",
       "\n",
       "    .dataframe tbody tr th {\n",
       "        vertical-align: top;\n",
       "    }\n",
       "\n",
       "    .dataframe thead th {\n",
       "        text-align: right;\n",
       "    }\n",
       "</style>\n",
       "<table border=\"1\" class=\"dataframe\">\n",
       "  <thead>\n",
       "    <tr style=\"text-align: right;\">\n",
       "      <th></th>\n",
       "      <th>7</th>\n",
       "      <th>2394</th>\n",
       "      <th>4206</th>\n",
       "    </tr>\n",
       "  </thead>\n",
       "  <tbody>\n",
       "    <tr>\n",
       "      <th>neighbourhood_cleansed</th>\n",
       "      <td>Five Points</td>\n",
       "      <td>Cherry Creek</td>\n",
       "      <td>West Colfax</td>\n",
       "    </tr>\n",
       "    <tr>\n",
       "      <th>id</th>\n",
       "      <td>842000000000000000.0</td>\n",
       "      <td>842000000000000000.0</td>\n",
       "      <td>842000000000000000.0</td>\n",
       "    </tr>\n",
       "    <tr>\n",
       "      <th>description</th>\n",
       "      <td>Home in Denver · ★4.88 · 3 bedrooms · 6 beds ·...</td>\n",
       "      <td>Home in Denver · ★4.67 · 2 bedrooms · 2 beds ·...</td>\n",
       "      <td>Home in Denver · 1 bedroom · 1 bed · 1 bath</td>\n",
       "    </tr>\n",
       "    <tr>\n",
       "      <th>host_id</th>\n",
       "      <td>456393682</td>\n",
       "      <td>55247149</td>\n",
       "      <td>24981544</td>\n",
       "    </tr>\n",
       "    <tr>\n",
       "      <th>host_name</th>\n",
       "      <td>Jasmine</td>\n",
       "      <td>Rossitza</td>\n",
       "      <td>Michael</td>\n",
       "    </tr>\n",
       "    <tr>\n",
       "      <th>host_since</th>\n",
       "      <td>4/27/2022</td>\n",
       "      <td>1/19/2016</td>\n",
       "      <td>12/18/2014</td>\n",
       "    </tr>\n",
       "    <tr>\n",
       "      <th>host_location</th>\n",
       "      <td>Denver, CO</td>\n",
       "      <td>NaN</td>\n",
       "      <td>Denver, CO</td>\n",
       "    </tr>\n",
       "    <tr>\n",
       "      <th>host_response_rate</th>\n",
       "      <td>100%</td>\n",
       "      <td>100%</td>\n",
       "      <td>100%</td>\n",
       "    </tr>\n",
       "    <tr>\n",
       "      <th>host_acceptance_rate</th>\n",
       "      <td>98%</td>\n",
       "      <td>96%</td>\n",
       "      <td>93%</td>\n",
       "    </tr>\n",
       "    <tr>\n",
       "      <th>host_neighbourhood</th>\n",
       "      <td>Five Points</td>\n",
       "      <td>Cherry Creek</td>\n",
       "      <td>West</td>\n",
       "    </tr>\n",
       "    <tr>\n",
       "      <th>latitude</th>\n",
       "      <td>39.756066</td>\n",
       "      <td>39.715643</td>\n",
       "      <td>39.736545</td>\n",
       "    </tr>\n",
       "    <tr>\n",
       "      <th>longitude</th>\n",
       "      <td>-104.982419</td>\n",
       "      <td>-104.941218</td>\n",
       "      <td>-105.036894</td>\n",
       "    </tr>\n",
       "    <tr>\n",
       "      <th>property_type</th>\n",
       "      <td>Entire home</td>\n",
       "      <td>Entire home</td>\n",
       "      <td>Entire home</td>\n",
       "    </tr>\n",
       "    <tr>\n",
       "      <th>room_type</th>\n",
       "      <td>Entire home/apt</td>\n",
       "      <td>Entire home/apt</td>\n",
       "      <td>Entire home/apt</td>\n",
       "    </tr>\n",
       "    <tr>\n",
       "      <th>bathrooms</th>\n",
       "      <td>3.5 baths</td>\n",
       "      <td>1 bath</td>\n",
       "      <td>1 bath</td>\n",
       "    </tr>\n",
       "    <tr>\n",
       "      <th>bedrooms</th>\n",
       "      <td>6.0</td>\n",
       "      <td>2.0</td>\n",
       "      <td>1.0</td>\n",
       "    </tr>\n",
       "    <tr>\n",
       "      <th>price</th>\n",
       "      <td>561.0</td>\n",
       "      <td>160.0</td>\n",
       "      <td>49.0</td>\n",
       "    </tr>\n",
       "    <tr>\n",
       "      <th>minimum_minimum_nights</th>\n",
       "      <td>1</td>\n",
       "      <td>2</td>\n",
       "      <td>30</td>\n",
       "    </tr>\n",
       "    <tr>\n",
       "      <th>maximum_maximum_nights</th>\n",
       "      <td>1125</td>\n",
       "      <td>1125</td>\n",
       "      <td>365</td>\n",
       "    </tr>\n",
       "    <tr>\n",
       "      <th>calendar_last_scraped</th>\n",
       "      <td>12/29/2023</td>\n",
       "      <td>12/29/2023</td>\n",
       "      <td>12/29/2023</td>\n",
       "    </tr>\n",
       "    <tr>\n",
       "      <th>number_of_reviews</th>\n",
       "      <td>16</td>\n",
       "      <td>12</td>\n",
       "      <td>1</td>\n",
       "    </tr>\n",
       "    <tr>\n",
       "      <th>first_review</th>\n",
       "      <td>5/20/2023</td>\n",
       "      <td>7/20/2023</td>\n",
       "      <td>11/14/2023</td>\n",
       "    </tr>\n",
       "    <tr>\n",
       "      <th>last_review</th>\n",
       "      <td>10/22/2023</td>\n",
       "      <td>11/30/2023</td>\n",
       "      <td>11/14/2023</td>\n",
       "    </tr>\n",
       "    <tr>\n",
       "      <th>last_scraped</th>\n",
       "      <td>12/29/2023</td>\n",
       "      <td>12/29/2023</td>\n",
       "      <td>12/29/2023</td>\n",
       "    </tr>\n",
       "    <tr>\n",
       "      <th>review_scores_rating</th>\n",
       "      <td>4.88</td>\n",
       "      <td>4.67</td>\n",
       "      <td>5.0</td>\n",
       "    </tr>\n",
       "    <tr>\n",
       "      <th>review_scores_accuracy</th>\n",
       "      <td>4.81</td>\n",
       "      <td>4.67</td>\n",
       "      <td>5.0</td>\n",
       "    </tr>\n",
       "    <tr>\n",
       "      <th>review_scores_cleanliness</th>\n",
       "      <td>4.88</td>\n",
       "      <td>4.92</td>\n",
       "      <td>5.0</td>\n",
       "    </tr>\n",
       "    <tr>\n",
       "      <th>review_scores_checkin</th>\n",
       "      <td>5.0</td>\n",
       "      <td>5.0</td>\n",
       "      <td>5.0</td>\n",
       "    </tr>\n",
       "    <tr>\n",
       "      <th>review_scores_communication</th>\n",
       "      <td>4.81</td>\n",
       "      <td>4.83</td>\n",
       "      <td>5.0</td>\n",
       "    </tr>\n",
       "    <tr>\n",
       "      <th>review_scores_location</th>\n",
       "      <td>4.94</td>\n",
       "      <td>4.67</td>\n",
       "      <td>5.0</td>\n",
       "    </tr>\n",
       "    <tr>\n",
       "      <th>review_scores_value</th>\n",
       "      <td>4.56</td>\n",
       "      <td>4.83</td>\n",
       "      <td>5.0</td>\n",
       "    </tr>\n",
       "    <tr>\n",
       "      <th>reviews_per_month</th>\n",
       "      <td>2.14</td>\n",
       "      <td>2.21</td>\n",
       "      <td>0.65</td>\n",
       "    </tr>\n",
       "    <tr>\n",
       "      <th>home_type</th>\n",
       "      <td>Home</td>\n",
       "      <td>Home</td>\n",
       "      <td>Home</td>\n",
       "    </tr>\n",
       "    <tr>\n",
       "      <th>neighborhood_cleansed_id_number</th>\n",
       "      <td>415.0</td>\n",
       "      <td>71.0</td>\n",
       "      <td>226.0</td>\n",
       "    </tr>\n",
       "    <tr>\n",
       "      <th>neighborhood_cleansed_price</th>\n",
       "      <td>174.136585</td>\n",
       "      <td>179.728571</td>\n",
       "      <td>196.633028</td>\n",
       "    </tr>\n",
       "    <tr>\n",
       "      <th>denver_neighborhoods_population</th>\n",
       "      <td>12712.0</td>\n",
       "      <td>5589.0</td>\n",
       "      <td>9740.0</td>\n",
       "    </tr>\n",
       "    <tr>\n",
       "      <th>region_area_sq_miles</th>\n",
       "      <td>0.96</td>\n",
       "      <td>1.61</td>\n",
       "      <td>1.22</td>\n",
       "    </tr>\n",
       "    <tr>\n",
       "      <th>id_review_scores_rating_ac_region_ratio</th>\n",
       "      <td>1.005164</td>\n",
       "      <td>0.993765</td>\n",
       "      <td>1.029163</td>\n",
       "    </tr>\n",
       "    <tr>\n",
       "      <th>id_review_scores_location_ac_region_ratio</th>\n",
       "      <td>1.030195</td>\n",
       "      <td>0.956466</td>\n",
       "      <td>1.049144</td>\n",
       "    </tr>\n",
       "    <tr>\n",
       "      <th>id_bedrooms_count_ac_mean_region_ratio</th>\n",
       "      <td>2.474849</td>\n",
       "      <td>1.116667</td>\n",
       "      <td>0.393357</td>\n",
       "    </tr>\n",
       "    <tr>\n",
       "      <th>id_number_of_reviews_ac_region_ratio</th>\n",
       "      <td>0.000456</td>\n",
       "      <td>0.010471</td>\n",
       "      <td>0.000102</td>\n",
       "    </tr>\n",
       "  </tbody>\n",
       "</table>\n",
       "</div>"
      ],
      "text/plain": [
       "                                                                                        7     \\\n",
       "neighbourhood_cleansed                                                           Five Points   \n",
       "id                                                                      842000000000000000.0   \n",
       "description                                Home in Denver · ★4.88 · 3 bedrooms · 6 beds ·...   \n",
       "host_id                                                                            456393682   \n",
       "host_name                                                                            Jasmine   \n",
       "host_since                                                                         4/27/2022   \n",
       "host_location                                                                     Denver, CO   \n",
       "host_response_rate                                                                      100%   \n",
       "host_acceptance_rate                                                                     98%   \n",
       "host_neighbourhood                                                               Five Points   \n",
       "latitude                                                                           39.756066   \n",
       "longitude                                                                        -104.982419   \n",
       "property_type                                                                    Entire home   \n",
       "room_type                                                                    Entire home/apt   \n",
       "bathrooms                                                                          3.5 baths   \n",
       "bedrooms                                                                                 6.0   \n",
       "price                                                                                  561.0   \n",
       "minimum_minimum_nights                                                                     1   \n",
       "maximum_maximum_nights                                                                  1125   \n",
       "calendar_last_scraped                                                             12/29/2023   \n",
       "number_of_reviews                                                                         16   \n",
       "first_review                                                                       5/20/2023   \n",
       "last_review                                                                       10/22/2023   \n",
       "last_scraped                                                                      12/29/2023   \n",
       "review_scores_rating                                                                    4.88   \n",
       "review_scores_accuracy                                                                  4.81   \n",
       "review_scores_cleanliness                                                               4.88   \n",
       "review_scores_checkin                                                                    5.0   \n",
       "review_scores_communication                                                             4.81   \n",
       "review_scores_location                                                                  4.94   \n",
       "review_scores_value                                                                     4.56   \n",
       "reviews_per_month                                                                       2.14   \n",
       "home_type                                                                               Home   \n",
       "neighborhood_cleansed_id_number                                                        415.0   \n",
       "neighborhood_cleansed_price                                                       174.136585   \n",
       "denver_neighborhoods_population                                                      12712.0   \n",
       "region_area_sq_miles                                                                    0.96   \n",
       "id_review_scores_rating_ac_region_ratio                                             1.005164   \n",
       "id_review_scores_location_ac_region_ratio                                           1.030195   \n",
       "id_bedrooms_count_ac_mean_region_ratio                                              2.474849   \n",
       "id_number_of_reviews_ac_region_ratio                                                0.000456   \n",
       "\n",
       "                                                                                        2394  \\\n",
       "neighbourhood_cleansed                                                          Cherry Creek   \n",
       "id                                                                      842000000000000000.0   \n",
       "description                                Home in Denver · ★4.67 · 2 bedrooms · 2 beds ·...   \n",
       "host_id                                                                             55247149   \n",
       "host_name                                                                           Rossitza   \n",
       "host_since                                                                         1/19/2016   \n",
       "host_location                                                                            NaN   \n",
       "host_response_rate                                                                      100%   \n",
       "host_acceptance_rate                                                                     96%   \n",
       "host_neighbourhood                                                              Cherry Creek   \n",
       "latitude                                                                           39.715643   \n",
       "longitude                                                                        -104.941218   \n",
       "property_type                                                                    Entire home   \n",
       "room_type                                                                    Entire home/apt   \n",
       "bathrooms                                                                             1 bath   \n",
       "bedrooms                                                                                 2.0   \n",
       "price                                                                                  160.0   \n",
       "minimum_minimum_nights                                                                     2   \n",
       "maximum_maximum_nights                                                                  1125   \n",
       "calendar_last_scraped                                                             12/29/2023   \n",
       "number_of_reviews                                                                         12   \n",
       "first_review                                                                       7/20/2023   \n",
       "last_review                                                                       11/30/2023   \n",
       "last_scraped                                                                      12/29/2023   \n",
       "review_scores_rating                                                                    4.67   \n",
       "review_scores_accuracy                                                                  4.67   \n",
       "review_scores_cleanliness                                                               4.92   \n",
       "review_scores_checkin                                                                    5.0   \n",
       "review_scores_communication                                                             4.83   \n",
       "review_scores_location                                                                  4.67   \n",
       "review_scores_value                                                                     4.83   \n",
       "reviews_per_month                                                                       2.21   \n",
       "home_type                                                                               Home   \n",
       "neighborhood_cleansed_id_number                                                         71.0   \n",
       "neighborhood_cleansed_price                                                       179.728571   \n",
       "denver_neighborhoods_population                                                       5589.0   \n",
       "region_area_sq_miles                                                                    1.61   \n",
       "id_review_scores_rating_ac_region_ratio                                             0.993765   \n",
       "id_review_scores_location_ac_region_ratio                                           0.956466   \n",
       "id_bedrooms_count_ac_mean_region_ratio                                              1.116667   \n",
       "id_number_of_reviews_ac_region_ratio                                                0.010471   \n",
       "\n",
       "                                                                                  4206  \n",
       "neighbourhood_cleansed                                                     West Colfax  \n",
       "id                                                                842000000000000000.0  \n",
       "description                                Home in Denver · 1 bedroom · 1 bed · 1 bath  \n",
       "host_id                                                                       24981544  \n",
       "host_name                                                                      Michael  \n",
       "host_since                                                                  12/18/2014  \n",
       "host_location                                                               Denver, CO  \n",
       "host_response_rate                                                                100%  \n",
       "host_acceptance_rate                                                               93%  \n",
       "host_neighbourhood                                                                West  \n",
       "latitude                                                                     39.736545  \n",
       "longitude                                                                  -105.036894  \n",
       "property_type                                                              Entire home  \n",
       "room_type                                                              Entire home/apt  \n",
       "bathrooms                                                                       1 bath  \n",
       "bedrooms                                                                           1.0  \n",
       "price                                                                             49.0  \n",
       "minimum_minimum_nights                                                              30  \n",
       "maximum_maximum_nights                                                             365  \n",
       "calendar_last_scraped                                                       12/29/2023  \n",
       "number_of_reviews                                                                    1  \n",
       "first_review                                                                11/14/2023  \n",
       "last_review                                                                 11/14/2023  \n",
       "last_scraped                                                                12/29/2023  \n",
       "review_scores_rating                                                               5.0  \n",
       "review_scores_accuracy                                                             5.0  \n",
       "review_scores_cleanliness                                                          5.0  \n",
       "review_scores_checkin                                                              5.0  \n",
       "review_scores_communication                                                        5.0  \n",
       "review_scores_location                                                             5.0  \n",
       "review_scores_value                                                                5.0  \n",
       "reviews_per_month                                                                 0.65  \n",
       "home_type                                                                         Home  \n",
       "neighborhood_cleansed_id_number                                                  226.0  \n",
       "neighborhood_cleansed_price                                                 196.633028  \n",
       "denver_neighborhoods_population                                                 9740.0  \n",
       "region_area_sq_miles                                                              1.22  \n",
       "id_review_scores_rating_ac_region_ratio                                       1.029163  \n",
       "id_review_scores_location_ac_region_ratio                                     1.049144  \n",
       "id_bedrooms_count_ac_mean_region_ratio                                        0.393357  \n",
       "id_number_of_reviews_ac_region_ratio                                          0.000102  "
      ]
     },
     "execution_count": 7,
     "metadata": {},
     "output_type": "execute_result"
    }
   ],
   "source": [
    "id_842000000000000000.T"
   ]
  },
  {
   "cell_type": "code",
   "execution_count": 8,
   "metadata": {},
   "outputs": [
    {
     "data": {
      "text/plain": [
       "(4889, 41)"
      ]
     },
     "execution_count": 8,
     "metadata": {},
     "output_type": "execute_result"
    }
   ],
   "source": [
    "airbnb_data_cleaned_v2.shape"
   ]
  },
  {
   "cell_type": "code",
   "execution_count": 9,
   "metadata": {
    "scrolled": true
   },
   "outputs": [
    {
     "data": {
      "text/html": [
       "<div>\n",
       "<style scoped>\n",
       "    .dataframe tbody tr th:only-of-type {\n",
       "        vertical-align: middle;\n",
       "    }\n",
       "\n",
       "    .dataframe tbody tr th {\n",
       "        vertical-align: top;\n",
       "    }\n",
       "\n",
       "    .dataframe thead th {\n",
       "        text-align: right;\n",
       "    }\n",
       "</style>\n",
       "<table border=\"1\" class=\"dataframe\">\n",
       "  <thead>\n",
       "    <tr style=\"text-align: right;\">\n",
       "      <th></th>\n",
       "      <th>neighbourhood_cleansed</th>\n",
       "      <th>id</th>\n",
       "      <th>description</th>\n",
       "      <th>host_id</th>\n",
       "      <th>host_name</th>\n",
       "      <th>host_since</th>\n",
       "      <th>host_location</th>\n",
       "      <th>host_response_rate</th>\n",
       "      <th>host_acceptance_rate</th>\n",
       "      <th>host_neighbourhood</th>\n",
       "      <th>...</th>\n",
       "      <th>reviews_per_month</th>\n",
       "      <th>home_type</th>\n",
       "      <th>neighborhood_cleansed_id_number</th>\n",
       "      <th>neighborhood_cleansed_price</th>\n",
       "      <th>denver_neighborhoods_population</th>\n",
       "      <th>region_area_sq_miles</th>\n",
       "      <th>id_review_scores_rating_ac_region_ratio</th>\n",
       "      <th>id_review_scores_location_ac_region_ratio</th>\n",
       "      <th>id_bedrooms_count_ac_mean_region_ratio</th>\n",
       "      <th>id_number_of_reviews_ac_region_ratio</th>\n",
       "    </tr>\n",
       "  </thead>\n",
       "  <tbody>\n",
       "    <tr>\n",
       "      <th>7</th>\n",
       "      <td>Five Points</td>\n",
       "      <td>8.420000e+17</td>\n",
       "      <td>Home in Denver · ★4.88 · 3 bedrooms · 6 beds ·...</td>\n",
       "      <td>456393682</td>\n",
       "      <td>Jasmine</td>\n",
       "      <td>4/27/2022</td>\n",
       "      <td>Denver, CO</td>\n",
       "      <td>100%</td>\n",
       "      <td>98%</td>\n",
       "      <td>Five Points</td>\n",
       "      <td>...</td>\n",
       "      <td>2.14</td>\n",
       "      <td>Home</td>\n",
       "      <td>415.0</td>\n",
       "      <td>174.136585</td>\n",
       "      <td>12712.0</td>\n",
       "      <td>0.96</td>\n",
       "      <td>1.005164</td>\n",
       "      <td>1.030195</td>\n",
       "      <td>2.474849</td>\n",
       "      <td>0.000456</td>\n",
       "    </tr>\n",
       "  </tbody>\n",
       "</table>\n",
       "<p>1 rows × 41 columns</p>\n",
       "</div>"
      ],
      "text/plain": [
       "  neighbourhood_cleansed            id  \\\n",
       "7            Five Points  8.420000e+17   \n",
       "\n",
       "                                         description    host_id host_name  \\\n",
       "7  Home in Denver · ★4.88 · 3 bedrooms · 6 beds ·...  456393682   Jasmine   \n",
       "\n",
       "  host_since host_location host_response_rate host_acceptance_rate  \\\n",
       "7  4/27/2022    Denver, CO               100%                  98%   \n",
       "\n",
       "  host_neighbourhood  ...  reviews_per_month  home_type  \\\n",
       "7        Five Points  ...               2.14       Home   \n",
       "\n",
       "  neighborhood_cleansed_id_number neighborhood_cleansed_price  \\\n",
       "7                           415.0                  174.136585   \n",
       "\n",
       "  denver_neighborhoods_population  region_area_sq_miles  \\\n",
       "7                         12712.0                  0.96   \n",
       "\n",
       "   id_review_scores_rating_ac_region_ratio  \\\n",
       "7                                 1.005164   \n",
       "\n",
       "   id_review_scores_location_ac_region_ratio  \\\n",
       "7                                   1.030195   \n",
       "\n",
       "   id_bedrooms_count_ac_mean_region_ratio id_number_of_reviews_ac_region_ratio  \n",
       "7                                2.474849                             0.000456  \n",
       "\n",
       "[1 rows x 41 columns]"
      ]
     },
     "execution_count": 9,
     "metadata": {},
     "output_type": "execute_result"
    }
   ],
   "source": [
    "result = airbnb_data_cleaned_v2.loc[(airbnb_data_cleaned_v2['id'] == 842000000000000000) & (airbnb_data_cleaned_v2['neighbourhood_cleansed'] == 'Five Points')]\n",
    "result"
   ]
  },
  {
   "cell_type": "code",
   "execution_count": 10,
   "metadata": {},
   "outputs": [
    {
     "data": {
      "text/html": [
       "<div>\n",
       "<style scoped>\n",
       "    .dataframe tbody tr th:only-of-type {\n",
       "        vertical-align: middle;\n",
       "    }\n",
       "\n",
       "    .dataframe tbody tr th {\n",
       "        vertical-align: top;\n",
       "    }\n",
       "\n",
       "    .dataframe thead th {\n",
       "        text-align: right;\n",
       "    }\n",
       "</style>\n",
       "<table border=\"1\" class=\"dataframe\">\n",
       "  <thead>\n",
       "    <tr style=\"text-align: right;\">\n",
       "      <th></th>\n",
       "      <th>neighbourhood_cleansed</th>\n",
       "      <th>id</th>\n",
       "      <th>description</th>\n",
       "      <th>host_id</th>\n",
       "      <th>host_name</th>\n",
       "      <th>host_since</th>\n",
       "      <th>host_location</th>\n",
       "      <th>host_response_rate</th>\n",
       "      <th>host_acceptance_rate</th>\n",
       "      <th>host_neighbourhood</th>\n",
       "      <th>...</th>\n",
       "      <th>reviews_per_month</th>\n",
       "      <th>home_type</th>\n",
       "      <th>neighborhood_cleansed_id_number</th>\n",
       "      <th>neighborhood_cleansed_price</th>\n",
       "      <th>denver_neighborhoods_population</th>\n",
       "      <th>region_area_sq_miles</th>\n",
       "      <th>id_review_scores_rating_ac_region_ratio</th>\n",
       "      <th>id_review_scores_location_ac_region_ratio</th>\n",
       "      <th>id_bedrooms_count_ac_mean_region_ratio</th>\n",
       "      <th>id_number_of_reviews_ac_region_ratio</th>\n",
       "    </tr>\n",
       "  </thead>\n",
       "  <tbody>\n",
       "    <tr>\n",
       "      <th>0</th>\n",
       "      <td>North Park Hill</td>\n",
       "      <td>6.070000e+17</td>\n",
       "      <td>Home in Denver · 1 bedroom · 1 bed · 1 shared ...</td>\n",
       "      <td>430149575</td>\n",
       "      <td>Roye</td>\n",
       "      <td>11/2/2021</td>\n",
       "      <td>NaN</td>\n",
       "      <td>100%</td>\n",
       "      <td>75%</td>\n",
       "      <td>Congress Park</td>\n",
       "      <td>...</td>\n",
       "      <td>0.11</td>\n",
       "      <td>Home</td>\n",
       "      <td>73.0</td>\n",
       "      <td>158.577465</td>\n",
       "      <td>9382.0</td>\n",
       "      <td>1.52</td>\n",
       "      <td>0.616353</td>\n",
       "      <td>0.819121</td>\n",
       "      <td>0.376289</td>\n",
       "      <td>0.000303</td>\n",
       "    </tr>\n",
       "    <tr>\n",
       "      <th>1</th>\n",
       "      <td>Hale</td>\n",
       "      <td>5.460000e+17</td>\n",
       "      <td>Rental unit in Denver · 2 bedrooms · 3 beds · ...</td>\n",
       "      <td>169214047</td>\n",
       "      <td>Jerrod</td>\n",
       "      <td>1/22/2018</td>\n",
       "      <td>Chicago, IL</td>\n",
       "      <td>NaN</td>\n",
       "      <td>0%</td>\n",
       "      <td>East</td>\n",
       "      <td>...</td>\n",
       "      <td>NaN</td>\n",
       "      <td>Rental</td>\n",
       "      <td>63.0</td>\n",
       "      <td>116.065574</td>\n",
       "      <td>6936.0</td>\n",
       "      <td>0.73</td>\n",
       "      <td>NaN</td>\n",
       "      <td>NaN</td>\n",
       "      <td>1.657895</td>\n",
       "      <td>0.000000</td>\n",
       "    </tr>\n",
       "    <tr>\n",
       "      <th>2</th>\n",
       "      <td>Five Points</td>\n",
       "      <td>5.242953e+07</td>\n",
       "      <td>Townhouse in Denver · ★4.78 · 3 bedrooms · 4 b...</td>\n",
       "      <td>107279139</td>\n",
       "      <td>Kyle And Kimberly</td>\n",
       "      <td>12/14/2016</td>\n",
       "      <td>Denver, CO</td>\n",
       "      <td>100%</td>\n",
       "      <td>100%</td>\n",
       "      <td>South</td>\n",
       "      <td>...</td>\n",
       "      <td>2.52</td>\n",
       "      <td>Townhouse</td>\n",
       "      <td>415.0</td>\n",
       "      <td>174.136585</td>\n",
       "      <td>12712.0</td>\n",
       "      <td>0.96</td>\n",
       "      <td>0.984566</td>\n",
       "      <td>1.028110</td>\n",
       "      <td>1.649899</td>\n",
       "      <td>0.001940</td>\n",
       "    </tr>\n",
       "    <tr>\n",
       "      <th>3</th>\n",
       "      <td>West Colfax</td>\n",
       "      <td>6.320000e+17</td>\n",
       "      <td>Townhouse in Denver · ★New · 2 bedrooms · 2 be...</td>\n",
       "      <td>416194740</td>\n",
       "      <td>Clayton</td>\n",
       "      <td>7/31/2021</td>\n",
       "      <td>Colorado, United States</td>\n",
       "      <td>100%</td>\n",
       "      <td>100%</td>\n",
       "      <td>West</td>\n",
       "      <td>...</td>\n",
       "      <td>NaN</td>\n",
       "      <td>Townhouse</td>\n",
       "      <td>226.0</td>\n",
       "      <td>196.633028</td>\n",
       "      <td>9740.0</td>\n",
       "      <td>1.22</td>\n",
       "      <td>NaN</td>\n",
       "      <td>NaN</td>\n",
       "      <td>0.786713</td>\n",
       "      <td>0.000000</td>\n",
       "    </tr>\n",
       "    <tr>\n",
       "      <th>4</th>\n",
       "      <td>Sunnyside</td>\n",
       "      <td>6.880000e+17</td>\n",
       "      <td>Home in Denver · ★5.0 · 2 bedrooms · 2 beds · ...</td>\n",
       "      <td>133612752</td>\n",
       "      <td>Ryan</td>\n",
       "      <td>6/5/2017</td>\n",
       "      <td>Denver, CO</td>\n",
       "      <td>NaN</td>\n",
       "      <td>91%</td>\n",
       "      <td>Northwest</td>\n",
       "      <td>...</td>\n",
       "      <td>0.99</td>\n",
       "      <td>Home</td>\n",
       "      <td>144.0</td>\n",
       "      <td>189.361702</td>\n",
       "      <td>9726.0</td>\n",
       "      <td>1.32</td>\n",
       "      <td>1.018330</td>\n",
       "      <td>1.004938</td>\n",
       "      <td>0.773842</td>\n",
       "      <td>0.001195</td>\n",
       "    </tr>\n",
       "    <tr>\n",
       "      <th>5</th>\n",
       "      <td>Jefferson Park</td>\n",
       "      <td>4.331644e+07</td>\n",
       "      <td>Townhouse in Denver · ★4.96 · 3 bedrooms · 5 b...</td>\n",
       "      <td>299373263</td>\n",
       "      <td>Dania</td>\n",
       "      <td>10/1/2019</td>\n",
       "      <td>NaN</td>\n",
       "      <td>100%</td>\n",
       "      <td>95%</td>\n",
       "      <td>Jefferson Park</td>\n",
       "      <td>...</td>\n",
       "      <td>0.67</td>\n",
       "      <td>Townhouse</td>\n",
       "      <td>96.0</td>\n",
       "      <td>298.126316</td>\n",
       "      <td>2552.0</td>\n",
       "      <td>0.45</td>\n",
       "      <td>1.026378</td>\n",
       "      <td>1.021534</td>\n",
       "      <td>2.281553</td>\n",
       "      <td>0.004892</td>\n",
       "    </tr>\n",
       "    <tr>\n",
       "      <th>6</th>\n",
       "      <td>Chaffee Park</td>\n",
       "      <td>5.389239e+07</td>\n",
       "      <td>Guesthouse in Denver · ★4.97 · 1 bedroom · 1 b...</td>\n",
       "      <td>436546995</td>\n",
       "      <td>Conor</td>\n",
       "      <td>12/18/2021</td>\n",
       "      <td>Denver, CO</td>\n",
       "      <td>100%</td>\n",
       "      <td>100%</td>\n",
       "      <td>Chaffee Park</td>\n",
       "      <td>...</td>\n",
       "      <td>2.61</td>\n",
       "      <td>Guesthouse</td>\n",
       "      <td>42.0</td>\n",
       "      <td>172.000000</td>\n",
       "      <td>3874.0</td>\n",
       "      <td>0.87</td>\n",
       "      <td>1.010487</td>\n",
       "      <td>1.018397</td>\n",
       "      <td>0.428571</td>\n",
       "      <td>0.027089</td>\n",
       "    </tr>\n",
       "    <tr>\n",
       "      <th>8</th>\n",
       "      <td>Sunnyside</td>\n",
       "      <td>7.180000e+17</td>\n",
       "      <td>Home in Denver · 2 bedrooms · 2 beds · 2 baths</td>\n",
       "      <td>110328442</td>\n",
       "      <td>David</td>\n",
       "      <td>1/7/2017</td>\n",
       "      <td>Denver, CO</td>\n",
       "      <td>NaN</td>\n",
       "      <td>NaN</td>\n",
       "      <td>Northwest</td>\n",
       "      <td>...</td>\n",
       "      <td>NaN</td>\n",
       "      <td>Home</td>\n",
       "      <td>144.0</td>\n",
       "      <td>189.361702</td>\n",
       "      <td>9726.0</td>\n",
       "      <td>1.32</td>\n",
       "      <td>NaN</td>\n",
       "      <td>NaN</td>\n",
       "      <td>0.773842</td>\n",
       "      <td>0.000000</td>\n",
       "    </tr>\n",
       "    <tr>\n",
       "      <th>9</th>\n",
       "      <td>West Colfax</td>\n",
       "      <td>9.920000e+17</td>\n",
       "      <td>Rental unit in Denver · Studio · 1 bed · 1 bath</td>\n",
       "      <td>263502162</td>\n",
       "      <td>Landing</td>\n",
       "      <td>5/22/2019</td>\n",
       "      <td>San Francisco, CA</td>\n",
       "      <td>91%</td>\n",
       "      <td>98%</td>\n",
       "      <td>Five Points South</td>\n",
       "      <td>...</td>\n",
       "      <td>NaN</td>\n",
       "      <td>Rental</td>\n",
       "      <td>226.0</td>\n",
       "      <td>196.633028</td>\n",
       "      <td>9740.0</td>\n",
       "      <td>1.22</td>\n",
       "      <td>NaN</td>\n",
       "      <td>NaN</td>\n",
       "      <td>0.393357</td>\n",
       "      <td>0.000000</td>\n",
       "    </tr>\n",
       "    <tr>\n",
       "      <th>10</th>\n",
       "      <td>West Highland</td>\n",
       "      <td>9.350000e+17</td>\n",
       "      <td>Home in Denver · ★4.83 · 2 bedrooms · 2 beds ·...</td>\n",
       "      <td>71753330</td>\n",
       "      <td>Luke</td>\n",
       "      <td>5/13/2016</td>\n",
       "      <td>Denver, CO</td>\n",
       "      <td>100%</td>\n",
       "      <td>100%</td>\n",
       "      <td>Northwest</td>\n",
       "      <td>...</td>\n",
       "      <td>3.10</td>\n",
       "      <td>Home</td>\n",
       "      <td>147.0</td>\n",
       "      <td>465.826087</td>\n",
       "      <td>8540.0</td>\n",
       "      <td>0.88</td>\n",
       "      <td>0.987793</td>\n",
       "      <td>1.015245</td>\n",
       "      <td>0.884146</td>\n",
       "      <td>0.001147</td>\n",
       "    </tr>\n",
       "  </tbody>\n",
       "</table>\n",
       "<p>10 rows × 41 columns</p>\n",
       "</div>"
      ],
      "text/plain": [
       "   neighbourhood_cleansed            id  \\\n",
       "0         North Park Hill  6.070000e+17   \n",
       "1                    Hale  5.460000e+17   \n",
       "2             Five Points  5.242953e+07   \n",
       "3             West Colfax  6.320000e+17   \n",
       "4               Sunnyside  6.880000e+17   \n",
       "5          Jefferson Park  4.331644e+07   \n",
       "6            Chaffee Park  5.389239e+07   \n",
       "8               Sunnyside  7.180000e+17   \n",
       "9             West Colfax  9.920000e+17   \n",
       "10          West Highland  9.350000e+17   \n",
       "\n",
       "                                          description    host_id  \\\n",
       "0   Home in Denver · 1 bedroom · 1 bed · 1 shared ...  430149575   \n",
       "1   Rental unit in Denver · 2 bedrooms · 3 beds · ...  169214047   \n",
       "2   Townhouse in Denver · ★4.78 · 3 bedrooms · 4 b...  107279139   \n",
       "3   Townhouse in Denver · ★New · 2 bedrooms · 2 be...  416194740   \n",
       "4   Home in Denver · ★5.0 · 2 bedrooms · 2 beds · ...  133612752   \n",
       "5   Townhouse in Denver · ★4.96 · 3 bedrooms · 5 b...  299373263   \n",
       "6   Guesthouse in Denver · ★4.97 · 1 bedroom · 1 b...  436546995   \n",
       "8      Home in Denver · 2 bedrooms · 2 beds · 2 baths  110328442   \n",
       "9     Rental unit in Denver · Studio · 1 bed · 1 bath  263502162   \n",
       "10  Home in Denver · ★4.83 · 2 bedrooms · 2 beds ·...   71753330   \n",
       "\n",
       "            host_name  host_since            host_location host_response_rate  \\\n",
       "0                Roye   11/2/2021                      NaN               100%   \n",
       "1              Jerrod   1/22/2018              Chicago, IL                NaN   \n",
       "2   Kyle And Kimberly  12/14/2016               Denver, CO               100%   \n",
       "3             Clayton   7/31/2021  Colorado, United States               100%   \n",
       "4                Ryan    6/5/2017               Denver, CO                NaN   \n",
       "5               Dania   10/1/2019                      NaN               100%   \n",
       "6               Conor  12/18/2021               Denver, CO               100%   \n",
       "8               David    1/7/2017               Denver, CO                NaN   \n",
       "9             Landing   5/22/2019        San Francisco, CA                91%   \n",
       "10               Luke   5/13/2016               Denver, CO               100%   \n",
       "\n",
       "   host_acceptance_rate host_neighbourhood  ...  reviews_per_month  \\\n",
       "0                   75%      Congress Park  ...               0.11   \n",
       "1                    0%               East  ...                NaN   \n",
       "2                  100%              South  ...               2.52   \n",
       "3                  100%               West  ...                NaN   \n",
       "4                   91%          Northwest  ...               0.99   \n",
       "5                   95%     Jefferson Park  ...               0.67   \n",
       "6                  100%       Chaffee Park  ...               2.61   \n",
       "8                   NaN          Northwest  ...                NaN   \n",
       "9                   98%  Five Points South  ...                NaN   \n",
       "10                 100%          Northwest  ...               3.10   \n",
       "\n",
       "     home_type neighborhood_cleansed_id_number neighborhood_cleansed_price  \\\n",
       "0         Home                            73.0                  158.577465   \n",
       "1       Rental                            63.0                  116.065574   \n",
       "2    Townhouse                           415.0                  174.136585   \n",
       "3    Townhouse                           226.0                  196.633028   \n",
       "4         Home                           144.0                  189.361702   \n",
       "5    Townhouse                            96.0                  298.126316   \n",
       "6   Guesthouse                            42.0                  172.000000   \n",
       "8         Home                           144.0                  189.361702   \n",
       "9       Rental                           226.0                  196.633028   \n",
       "10        Home                           147.0                  465.826087   \n",
       "\n",
       "   denver_neighborhoods_population  region_area_sq_miles  \\\n",
       "0                           9382.0                  1.52   \n",
       "1                           6936.0                  0.73   \n",
       "2                          12712.0                  0.96   \n",
       "3                           9740.0                  1.22   \n",
       "4                           9726.0                  1.32   \n",
       "5                           2552.0                  0.45   \n",
       "6                           3874.0                  0.87   \n",
       "8                           9726.0                  1.32   \n",
       "9                           9740.0                  1.22   \n",
       "10                          8540.0                  0.88   \n",
       "\n",
       "    id_review_scores_rating_ac_region_ratio  \\\n",
       "0                                  0.616353   \n",
       "1                                       NaN   \n",
       "2                                  0.984566   \n",
       "3                                       NaN   \n",
       "4                                  1.018330   \n",
       "5                                  1.026378   \n",
       "6                                  1.010487   \n",
       "8                                       NaN   \n",
       "9                                       NaN   \n",
       "10                                 0.987793   \n",
       "\n",
       "    id_review_scores_location_ac_region_ratio  \\\n",
       "0                                    0.819121   \n",
       "1                                         NaN   \n",
       "2                                    1.028110   \n",
       "3                                         NaN   \n",
       "4                                    1.004938   \n",
       "5                                    1.021534   \n",
       "6                                    1.018397   \n",
       "8                                         NaN   \n",
       "9                                         NaN   \n",
       "10                                   1.015245   \n",
       "\n",
       "    id_bedrooms_count_ac_mean_region_ratio  \\\n",
       "0                                 0.376289   \n",
       "1                                 1.657895   \n",
       "2                                 1.649899   \n",
       "3                                 0.786713   \n",
       "4                                 0.773842   \n",
       "5                                 2.281553   \n",
       "6                                 0.428571   \n",
       "8                                 0.773842   \n",
       "9                                 0.393357   \n",
       "10                                0.884146   \n",
       "\n",
       "   id_number_of_reviews_ac_region_ratio  \n",
       "0                              0.000303  \n",
       "1                              0.000000  \n",
       "2                              0.001940  \n",
       "3                              0.000000  \n",
       "4                              0.001195  \n",
       "5                              0.004892  \n",
       "6                              0.027089  \n",
       "8                              0.000000  \n",
       "9                              0.000000  \n",
       "10                             0.001147  \n",
       "\n",
       "[10 rows x 41 columns]"
      ]
     },
     "execution_count": 10,
     "metadata": {},
     "output_type": "execute_result"
    }
   ],
   "source": [
    "airbnb_data_cleaned_v2 = airbnb_data_cleaned_v2.drop([7,])\n",
    "airbnb_data_cleaned_v2.head(10)\n",
    "#df.drop([0, 1])"
   ]
  },
  {
   "cell_type": "code",
   "execution_count": 11,
   "metadata": {},
   "outputs": [
    {
     "data": {
      "text/plain": [
       "(4888, 41)"
      ]
     },
     "execution_count": 11,
     "metadata": {},
     "output_type": "execute_result"
    }
   ],
   "source": [
    "airbnb_data_cleaned_v2.shape"
   ]
  },
  {
   "cell_type": "markdown",
   "metadata": {},
   "source": [
    "## 4.6 Train/Test Split<a id='4.6_Train/Test_Split'></a>"
   ]
  },
  {
   "cell_type": "markdown",
   "metadata": {},
   "source": [
    "So far, you've treated airbnb data as a single entity. In machine learning, when you train your model on all of your data, you end up with no data set aside to evaluate model performance. You could keep making more and more complex models that fit the data better and better and not realise you were overfitting to that one set of samples. By partitioning the data into training and testing splits, without letting a model (or missing-value imputation) learn anything about the test split, you have a somewhat independent assessment of how your model might perform in the future. An often overlooked subtlety here is that people all too frequently use the test set to assess model performance _and then compare multiple models to pick the best_. This means their overall model selection process is  fitting to one specific data set, now the test split. You could keep going, trying to get better and better performance on that one data set, but that's  where cross-validation becomes especially useful. While training models, a test split is very useful as a final check on expected future performance."
   ]
  },
  {
   "cell_type": "markdown",
   "metadata": {},
   "source": [
    "What partition sizes would you have with a 70/30 train/test split?"
   ]
  },
  {
   "cell_type": "code",
   "execution_count": 12,
   "metadata": {},
   "outputs": [
    {
     "data": {
      "text/plain": [
       "(3421.6, 1466.3999999999999)"
      ]
     },
     "execution_count": 12,
     "metadata": {},
     "output_type": "execute_result"
    }
   ],
   "source": [
    "len(airbnb_data_cleaned_v2) * .7, len(airbnb_data_cleaned_v2) * .3"
   ]
  },
  {
   "cell_type": "code",
   "execution_count": 13,
   "metadata": {},
   "outputs": [],
   "source": [
    "X_train, X_test, y_train, y_test = train_test_split(airbnb_data_cleaned_v2.drop(columns='price'), \n",
    "                                                    airbnb_data_cleaned_v2.price, test_size=0.3, \n",
    "                                                    random_state=47)"
   ]
  },
  {
   "cell_type": "code",
   "execution_count": 14,
   "metadata": {},
   "outputs": [
    {
     "data": {
      "text/plain": [
       "((3421, 40), (1467, 40))"
      ]
     },
     "execution_count": 14,
     "metadata": {},
     "output_type": "execute_result"
    }
   ],
   "source": [
    "X_train.shape, X_test.shape"
   ]
  },
  {
   "cell_type": "code",
   "execution_count": 15,
   "metadata": {},
   "outputs": [
    {
     "data": {
      "text/plain": [
       "((3421,), (1467,))"
      ]
     },
     "execution_count": 15,
     "metadata": {},
     "output_type": "execute_result"
    }
   ],
   "source": [
    "y_train.shape, y_test.shape"
   ]
  },
  {
   "cell_type": "code",
   "execution_count": 16,
   "metadata": {},
   "outputs": [
    {
     "data": {
      "text/plain": [
       "((3421, 23), (1467, 23))"
      ]
     },
     "execution_count": 16,
     "metadata": {},
     "output_type": "execute_result"
    }
   ],
   "source": [
    "#Save the 'Name', 'state', and 'Region' columns from the train/test data into names_train and names_test\n",
    "#Then drop those columns from `X_train` and `X_test`. Use 'inplace=True'\n",
    "names_list = ['id', 'neighbourhood_cleansed', 'description', 'host_name', 'host_since', 'host_location',\n",
    "              'host_response_rate', 'host_acceptance_rate', 'property_type', 'room_type', 'bathrooms', 'calendar_last_scraped',\n",
    "              'first_review', 'last_review', 'last_scraped', 'home_type', 'host_neighbourhood']\n",
    "names_train = X_train[names_list]\n",
    "names_test = X_test[names_list]\n",
    "X_train.drop(columns=names_list, inplace=True)\n",
    "X_test.drop(columns=names_list, inplace=True)\n",
    "X_train.shape, X_test.shape"
   ]
  },
  {
   "cell_type": "code",
   "execution_count": 17,
   "metadata": {},
   "outputs": [
    {
     "data": {
      "text/plain": [
       "host_id                                        int64\n",
       "latitude                                     float64\n",
       "longitude                                    float64\n",
       "bedrooms                                     float64\n",
       "minimum_minimum_nights                         int64\n",
       "maximum_maximum_nights                         int64\n",
       "number_of_reviews                              int64\n",
       "review_scores_rating                         float64\n",
       "review_scores_accuracy                       float64\n",
       "review_scores_cleanliness                    float64\n",
       "review_scores_checkin                        float64\n",
       "review_scores_communication                  float64\n",
       "review_scores_location                       float64\n",
       "review_scores_value                          float64\n",
       "reviews_per_month                            float64\n",
       "neighborhood_cleansed_id_number              float64\n",
       "neighborhood_cleansed_price                  float64\n",
       "denver_neighborhoods_population              float64\n",
       "region_area_sq_miles                         float64\n",
       "id_review_scores_rating_ac_region_ratio      float64\n",
       "id_review_scores_location_ac_region_ratio    float64\n",
       "id_bedrooms_count_ac_mean_region_ratio       float64\n",
       "id_number_of_reviews_ac_region_ratio         float64\n",
       "dtype: object"
      ]
     },
     "execution_count": 17,
     "metadata": {},
     "output_type": "execute_result"
    }
   ],
   "source": [
    "#Check the `dtypes` attribute of `X_train` to verify all features are numeric\n",
    "X_train.dtypes"
   ]
  },
  {
   "cell_type": "code",
   "execution_count": 18,
   "metadata": {},
   "outputs": [
    {
     "data": {
      "text/plain": [
       "host_id                                        int64\n",
       "latitude                                     float64\n",
       "longitude                                    float64\n",
       "bedrooms                                     float64\n",
       "minimum_minimum_nights                         int64\n",
       "maximum_maximum_nights                         int64\n",
       "number_of_reviews                              int64\n",
       "review_scores_rating                         float64\n",
       "review_scores_accuracy                       float64\n",
       "review_scores_cleanliness                    float64\n",
       "review_scores_checkin                        float64\n",
       "review_scores_communication                  float64\n",
       "review_scores_location                       float64\n",
       "review_scores_value                          float64\n",
       "reviews_per_month                            float64\n",
       "neighborhood_cleansed_id_number              float64\n",
       "neighborhood_cleansed_price                  float64\n",
       "denver_neighborhoods_population              float64\n",
       "region_area_sq_miles                         float64\n",
       "id_review_scores_rating_ac_region_ratio      float64\n",
       "id_review_scores_location_ac_region_ratio    float64\n",
       "id_bedrooms_count_ac_mean_region_ratio       float64\n",
       "id_number_of_reviews_ac_region_ratio         float64\n",
       "dtype: object"
      ]
     },
     "execution_count": 18,
     "metadata": {},
     "output_type": "execute_result"
    }
   ],
   "source": [
    "#Code task 3#\n",
    "#Repeat this check for the test split in `X_test`\n",
    "X_test.dtypes"
   ]
  },
  {
   "cell_type": "markdown",
   "metadata": {},
   "source": [
    "You have only numeric features in your X now!"
   ]
  },
  {
   "cell_type": "markdown",
   "metadata": {},
   "source": [
    "## 4.7 Initial Not-Even-A-Model<a id='4.7_Initial_Not-Even-A-Model'></a>"
   ]
  },
  {
   "cell_type": "markdown",
   "metadata": {},
   "source": [
    "A good place to start is to see how good the mean is as a predictor. In other words, what if you simply say your best guess is the average price?"
   ]
  },
  {
   "cell_type": "code",
   "execution_count": 19,
   "metadata": {},
   "outputs": [
    {
     "data": {
      "text/plain": [
       "198.97836889798305"
      ]
     },
     "execution_count": 19,
     "metadata": {},
     "output_type": "execute_result"
    }
   ],
   "source": [
    "#Calculate the mean of `y_train`\n",
    "train_mean = y_train.mean()\n",
    "train_mean"
   ]
  },
  {
   "cell_type": "markdown",
   "metadata": {},
   "source": [
    "`sklearn`'s `DummyRegressor` easily does this:"
   ]
  },
  {
   "cell_type": "code",
   "execution_count": 20,
   "metadata": {},
   "outputs": [
    {
     "data": {
      "text/plain": [
       "array([[198.9783689]])"
      ]
     },
     "execution_count": 20,
     "metadata": {},
     "output_type": "execute_result"
    }
   ],
   "source": [
    "#Fit the dummy regressor on the training data\n",
    "#Hint, call its `.fit()` method with `X_train` and `y_train` as arguments\n",
    "#Then print the object's `constant_` attribute and verify it's the same as the mean above\n",
    "dumb_reg = DummyRegressor(strategy='mean')\n",
    "dumb_reg.fit(X_train, y_train)\n",
    "dumb_reg.constant_"
   ]
  },
  {
   "cell_type": "markdown",
   "metadata": {},
   "source": [
    "How good is this? How closely does this match, or explain, the actual values? There are many ways of assessing how good one set of values agrees with another, which brings us to the subject of metrics."
   ]
  },
  {
   "cell_type": "markdown",
   "metadata": {},
   "source": [
    "### 4.7.1 Metrics<a id='4.7.1_Metrics'></a>"
   ]
  },
  {
   "cell_type": "markdown",
   "metadata": {},
   "source": [
    "#### 4.7.1.1 R-squared, or coefficient of determination<a id='4.7.1.1_R-squared,_or_coefficient_of_determination'></a>"
   ]
  },
  {
   "cell_type": "markdown",
   "metadata": {},
   "source": [
    "One measure is $R^2$, the [coefficient of determination](https://en.wikipedia.org/wiki/Coefficient_of_determination). This is a measure of the proportion of variance in the dependent variable (our price) that is predicted by our \"model\". The linked Wikipedia articles gives a nice explanation of how negative values can arise. This is frequently a cause of confusion for newcomers who, reasonably, ask how can a squared value be negative?\n",
    "\n",
    "Recall the mean can be denoted by $\\bar{y}$, where\n",
    "\n",
    "$$\\bar{y} = \\frac{1}{n}\\sum_{i=1}^ny_i$$\n",
    "\n",
    "and where $y_i$ are the individual values of the dependent variable.\n",
    "\n",
    "The total sum of squares (error), can be expressed as\n",
    "\n",
    "$$SS_{tot} = \\sum_i(y_i-\\bar{y})^2$$\n",
    "\n",
    "The above formula should be familiar as it's simply the variance without the denominator to scale (divide) by the sample size.\n",
    "\n",
    "The residual sum of squares is similarly defined to be\n",
    "\n",
    "$$SS_{res} = \\sum_i(y_i-\\hat{y})^2$$\n",
    "\n",
    "where $\\hat{y}$ are our predicted values for the depended variable.\n",
    "\n",
    "The coefficient of determination, $R^2$, here is given by\n",
    "\n",
    "$$R^2 = 1 - \\frac{SS_{res}}{SS_{tot}}$$\n",
    "\n",
    "Putting it into words, it's one minus the ratio of the residual variance to the original variance. Thus, the baseline model here, which always predicts $\\bar{y}$, should give $R^2=0$. A model that perfectly predicts the observed values would have no residual error and so give $R^2=1$. Models that do worse than predicting the mean will have increased the sum of squares of residuals and so produce a negative $R^2$."
   ]
  },
  {
   "cell_type": "code",
   "execution_count": 21,
   "metadata": {},
   "outputs": [],
   "source": [
    "#Calculate the R^2 as defined above\n",
    "def r_squared(y, ypred):\n",
    "    \"\"\"R-squared score.\n",
    "    \n",
    "    Calculate the R-squared, or coefficient of determination, of the input.\n",
    "    \n",
    "    Arguments:\n",
    "    y -- the observed values\n",
    "    ypred -- the predicted values\n",
    "    \"\"\"\n",
    "    ybar = np.sum(y) / len(y) #yes, we could use np.mean(y)\n",
    "    sum_sq_tot = np.sum((y - ybar)**2) #total sum of squares error\n",
    "    sum_sq_res = np.sum((y - ypred)**2) #residual sum of squares error\n",
    "    R2 = 1.0 - sum_sq_res / sum_sq_tot\n",
    "    return R2"
   ]
  },
  {
   "cell_type": "markdown",
   "metadata": {},
   "source": [
    "Make your predictions by creating an array of length the size of the training set with the single value of the mean."
   ]
  },
  {
   "cell_type": "code",
   "execution_count": 22,
   "metadata": {},
   "outputs": [
    {
     "data": {
      "text/plain": [
       "array([198.9783689, 198.9783689, 198.9783689, 198.9783689, 198.9783689])"
      ]
     },
     "execution_count": 22,
     "metadata": {},
     "output_type": "execute_result"
    }
   ],
   "source": [
    "y_tr_pred_ = train_mean * np.ones(len(y_train))\n",
    "y_tr_pred_[:5]"
   ]
  },
  {
   "cell_type": "markdown",
   "metadata": {},
   "source": [
    "Remember the `sklearn` dummy regressor? "
   ]
  },
  {
   "cell_type": "code",
   "execution_count": 23,
   "metadata": {},
   "outputs": [
    {
     "data": {
      "text/plain": [
       "array([198.9783689, 198.9783689, 198.9783689, 198.9783689, 198.9783689])"
      ]
     },
     "execution_count": 23,
     "metadata": {},
     "output_type": "execute_result"
    }
   ],
   "source": [
    "y_tr_pred = dumb_reg.predict(X_train)\n",
    "y_tr_pred[:5]"
   ]
  },
  {
   "cell_type": "markdown",
   "metadata": {},
   "source": [
    "You can see that `DummyRegressor` produces exactly the same results and saves you having to mess about broadcasting the mean (or whichever other statistic we used - check out the [documentation](https://scikit-learn.org/stable/modules/generated/sklearn.dummy.DummyRegressor.html) to see what's available) to an array of the appropriate length. It also gives you an object with `fit()` and `predict()` methods as well so you can use them as conveniently as any other `sklearn` estimator."
   ]
  },
  {
   "cell_type": "code",
   "execution_count": 24,
   "metadata": {},
   "outputs": [
    {
     "data": {
      "text/plain": [
       "0.0"
      ]
     },
     "execution_count": 24,
     "metadata": {},
     "output_type": "execute_result"
    }
   ],
   "source": [
    "r_squared(y_train, y_tr_pred)"
   ]
  },
  {
   "cell_type": "markdown",
   "metadata": {},
   "source": [
    "Exactly as expected, if you use the average value as your prediction, you get an $R^2$ of zero _on our training set_. What if you use this \"model\" to predict unseen values from the test set? Remember, of course, that your \"model\" is trained on the training set; you still use the training set mean as your prediction."
   ]
  },
  {
   "cell_type": "markdown",
   "metadata": {},
   "source": [
    "Make your predictions by creating an array of length the size of the test set with the single value of the (training) mean."
   ]
  },
  {
   "cell_type": "code",
   "execution_count": 25,
   "metadata": {},
   "outputs": [
    {
     "data": {
      "text/plain": [
       "-0.00030223388285577357"
      ]
     },
     "execution_count": 25,
     "metadata": {},
     "output_type": "execute_result"
    }
   ],
   "source": [
    "y_te_pred = train_mean * np.ones(len(y_test))\n",
    "r_squared(y_test, y_te_pred)"
   ]
  },
  {
   "cell_type": "markdown",
   "metadata": {},
   "source": [
    "Generally, you can expect performance on a test set to be slightly worse than on the training set. As you are getting an $R^2$ of zero on the training set, there's nowhere to go but negative!"
   ]
  },
  {
   "cell_type": "markdown",
   "metadata": {},
   "source": [
    "$R^2$ is a common metric, and interpretable in terms of the amount of variance explained, it's less appealing if you want an idea of how \"close\" your predictions are to the true values. Metrics that summarise the difference between predicted and actual values are _mean absolute error_ and _mean squared error_."
   ]
  },
  {
   "cell_type": "markdown",
   "metadata": {},
   "source": [
    "#### 4.7.1.2 Mean Absolute Error<a id='4.7.1.2_Mean_Absolute_Error'></a>"
   ]
  },
  {
   "cell_type": "markdown",
   "metadata": {},
   "source": [
    "This is very simply the average of the absolute errors:\n",
    "\n",
    "$$MAE = \\frac{1}{n}\\sum_i^n|y_i - \\hat{y}|$$"
   ]
  },
  {
   "cell_type": "code",
   "execution_count": 26,
   "metadata": {},
   "outputs": [],
   "source": [
    "#Code task 7#\n",
    "#Calculate the MAE as defined above\n",
    "def mae(y, ypred):\n",
    "    \"\"\"Mean absolute error.\n",
    "    \n",
    "    Calculate the mean absolute error of the arguments\n",
    "\n",
    "    Arguments:\n",
    "    y -- the observed values\n",
    "    ypred -- the predicted values\n",
    "    \"\"\"\n",
    "    abs_error = np.abs(y - ypred)\n",
    "    mae = np.mean(abs_error)\n",
    "    return mae"
   ]
  },
  {
   "cell_type": "code",
   "execution_count": 27,
   "metadata": {},
   "outputs": [
    {
     "data": {
      "text/plain": [
       "143.9738351111457"
      ]
     },
     "execution_count": 27,
     "metadata": {},
     "output_type": "execute_result"
    }
   ],
   "source": [
    "mae(y_train, y_tr_pred)"
   ]
  },
  {
   "cell_type": "code",
   "execution_count": 28,
   "metadata": {},
   "outputs": [
    {
     "data": {
      "text/plain": [
       "168.34917577726247"
      ]
     },
     "execution_count": 28,
     "metadata": {},
     "output_type": "execute_result"
    }
   ],
   "source": [
    "mae(y_test, y_te_pred)"
   ]
  },
  {
   "cell_type": "markdown",
   "metadata": {},
   "source": [
    "Mean absolute error is arguably the most intuitive of all the metrics, this essentially tells you that, on average, you might expect to be off by around \\\\$168 if you guessed price based on an average of known values."
   ]
  },
  {
   "cell_type": "markdown",
   "metadata": {},
   "source": [
    "#### 4.7.1.3 Mean Squared Error<a id='4.7.1.3_Mean_Squared_Error'></a>"
   ]
  },
  {
   "cell_type": "markdown",
   "metadata": {},
   "source": [
    "Another common metric (and an important one internally for optimizing machine learning models) is the mean squared error. This is simply the average of the square of the errors:\n",
    "\n",
    "$$MSE = \\frac{1}{n}\\sum_i^n(y_i - \\hat{y})^2$$"
   ]
  },
  {
   "cell_type": "code",
   "execution_count": 29,
   "metadata": {
    "scrolled": true
   },
   "outputs": [],
   "source": [
    "#Code task 8#\n",
    "#Calculate the MSE as defined above\n",
    "def mse(y, ypred):\n",
    "    \"\"\"Mean square error.\n",
    "    \n",
    "    Calculate the mean square error of the arguments\n",
    "\n",
    "    Arguments:\n",
    "    y -- the observed values\n",
    "    ypred -- the predicted values\n",
    "    \"\"\"\n",
    "    sq_error = (y - ypred)**2\n",
    "    mse = np.mean(sq_error)\n",
    "    return mse"
   ]
  },
  {
   "cell_type": "code",
   "execution_count": 30,
   "metadata": {},
   "outputs": [
    {
     "data": {
      "text/plain": [
       "1173540.9717624376"
      ]
     },
     "execution_count": 30,
     "metadata": {},
     "output_type": "execute_result"
    }
   ],
   "source": [
    "mse(y_train, y_tr_pred)"
   ]
  },
  {
   "cell_type": "code",
   "execution_count": 31,
   "metadata": {},
   "outputs": [
    {
     "data": {
      "text/plain": [
       "2500877.3727973187"
      ]
     },
     "execution_count": 31,
     "metadata": {},
     "output_type": "execute_result"
    }
   ],
   "source": [
    "mse(y_test, y_te_pred)"
   ]
  },
  {
   "cell_type": "markdown",
   "metadata": {},
   "source": [
    "So here, you get a slightly better MSE on the test set than you did on the train set. And what does a squared error mean anyway? To convert this back to our measurement space, we often take the square root, to form the _root mean square error_ thus:"
   ]
  },
  {
   "cell_type": "code",
   "execution_count": 32,
   "metadata": {},
   "outputs": [
    {
     "data": {
      "text/plain": [
       "array([1083.30096084, 1581.41625539])"
      ]
     },
     "execution_count": 32,
     "metadata": {},
     "output_type": "execute_result"
    }
   ],
   "source": [
    "np.sqrt([mse(y_train, y_tr_pred), mse(y_test, y_te_pred)])"
   ]
  },
  {
   "cell_type": "markdown",
   "metadata": {},
   "source": [
    "### 4.7.2 sklearn metrics<a id='4.7.2_sklearn_metrics'></a>"
   ]
  },
  {
   "cell_type": "markdown",
   "metadata": {},
   "source": [
    "Functions are good, but you don't want to have to define functions every time we want to assess performance. `sklearn.metrics` provides many commonly used metrics, included the ones above."
   ]
  },
  {
   "cell_type": "markdown",
   "metadata": {},
   "source": [
    "##### 4.7.2.0.1 R-squared<a id='4.7.2.0.1_R-squared'></a>"
   ]
  },
  {
   "cell_type": "code",
   "execution_count": 33,
   "metadata": {},
   "outputs": [
    {
     "data": {
      "text/plain": [
       "(0.0, -0.00030223388285577357)"
      ]
     },
     "execution_count": 33,
     "metadata": {},
     "output_type": "execute_result"
    }
   ],
   "source": [
    "r2_score(y_train, y_tr_pred), r2_score(y_test, y_te_pred)"
   ]
  },
  {
   "cell_type": "markdown",
   "metadata": {},
   "source": [
    "##### 4.7.2.0.2 Mean absolute error<a id='4.7.2.0.2_Mean_absolute_error'></a>"
   ]
  },
  {
   "cell_type": "code",
   "execution_count": 34,
   "metadata": {},
   "outputs": [
    {
     "data": {
      "text/plain": [
       "(143.9738351111457, 168.34917577726247)"
      ]
     },
     "execution_count": 34,
     "metadata": {},
     "output_type": "execute_result"
    }
   ],
   "source": [
    "mean_absolute_error(y_train, y_tr_pred), mean_absolute_error(y_test, y_te_pred)"
   ]
  },
  {
   "cell_type": "markdown",
   "metadata": {},
   "source": [
    "##### 4.7.2.0.3 Mean squared error<a id='4.7.2.0.3_Mean_squared_error'></a>"
   ]
  },
  {
   "cell_type": "code",
   "execution_count": 35,
   "metadata": {},
   "outputs": [
    {
     "data": {
      "text/plain": [
       "(1173540.9717624376, 2500877.3727973187)"
      ]
     },
     "execution_count": 35,
     "metadata": {},
     "output_type": "execute_result"
    }
   ],
   "source": [
    "mean_squared_error(y_train, y_tr_pred), mean_squared_error(y_test, y_te_pred)"
   ]
  },
  {
   "cell_type": "markdown",
   "metadata": {},
   "source": [
    "### 4.7.3 Note On Calculating Metrics<a id='4.7.3_Note_On_Calculating_Metrics'></a>"
   ]
  },
  {
   "cell_type": "markdown",
   "metadata": {},
   "source": [
    "When calling functions to calculate metrics, it is important to take care in the order of the arguments. Two of the metrics above actually don't care if the arguments are reversed; one does. Which one cares?"
   ]
  },
  {
   "cell_type": "markdown",
   "metadata": {},
   "source": [
    "In a Jupyter code cell, running `r2_score?` will bring up the docstring for the function, and `r2_score??` will bring up the actual code of the function! Try them and compare the source for `sklearn`'s function with yours. Feel free to explore what happens when you reverse the order of the arguments and compare behaviour of `sklearn`'s function and yours."
   ]
  },
  {
   "cell_type": "code",
   "execution_count": 36,
   "metadata": {},
   "outputs": [
    {
     "data": {
      "text/plain": [
       "(0.0, -1.4527733566865954e+33)"
      ]
     },
     "execution_count": 36,
     "metadata": {},
     "output_type": "execute_result"
    }
   ],
   "source": [
    "# train set - sklearn\n",
    "# correct order, incorrect order\n",
    "r2_score(y_train, y_tr_pred), r2_score(y_tr_pred, y_train)"
   ]
  },
  {
   "cell_type": "code",
   "execution_count": 37,
   "metadata": {},
   "outputs": [
    {
     "data": {
      "text/plain": [
       "(-0.00030223388285577357, 0.0)"
      ]
     },
     "execution_count": 37,
     "metadata": {},
     "output_type": "execute_result"
    }
   ],
   "source": [
    "# test set - sklearn\n",
    "# correct order, incorrect order\n",
    "r2_score(y_test, y_te_pred), r2_score(y_te_pred, y_test)"
   ]
  },
  {
   "cell_type": "code",
   "execution_count": 38,
   "metadata": {},
   "outputs": [
    {
     "data": {
      "text/plain": [
       "(0.0, -1.4527733566865954e+33)"
      ]
     },
     "execution_count": 38,
     "metadata": {},
     "output_type": "execute_result"
    }
   ],
   "source": [
    "# train set - using our homebrew function\n",
    "# correct order, incorrect order\n",
    "r_squared(y_train, y_tr_pred), r_squared(y_tr_pred, y_train)"
   ]
  },
  {
   "cell_type": "code",
   "execution_count": 39,
   "metadata": {},
   "outputs": [
    {
     "name": "stderr",
     "output_type": "stream",
     "text": [
      "C:\\Users\\sepeh\\AppData\\Local\\Temp\\ipykernel_18864\\94046847.py:14: RuntimeWarning: divide by zero encountered in double_scalars\n",
      "  R2 = 1.0 - sum_sq_res / sum_sq_tot\n"
     ]
    },
    {
     "data": {
      "text/plain": [
       "(-0.00030223388285577357, -inf)"
      ]
     },
     "execution_count": 39,
     "metadata": {},
     "output_type": "execute_result"
    }
   ],
   "source": [
    "# test set - using our homebrew function\n",
    "# correct order, incorrect order\n",
    "r_squared(y_test, y_te_pred), r_squared(y_te_pred, y_test)"
   ]
  },
  {
   "cell_type": "markdown",
   "metadata": {},
   "source": [
    "You can get very different results swapping the argument order. It's worth highlighting this because data scientists do this too much in the real world! Don't be one of them! Frequently the argument order doesn't matter, but it will bite you when you do it with a function that does care. It's sloppy, bad practice and if you don't make a habit of putting arguments in the right order, you will forget!\n",
    "\n",
    "Remember:\n",
    "* argument order matters,\n",
    "* check function syntax with `func?` in a code cell"
   ]
  },
  {
   "cell_type": "markdown",
   "metadata": {},
   "source": [
    "## 4.8 Initial Models<a id='4.8_Initial_Models'></a>"
   ]
  },
  {
   "cell_type": "markdown",
   "metadata": {},
   "source": [
    "### 4.8.1 Imputing missing feature (predictor) values<a id='4.8.1_Imputing_missing_feature_(predictor)_values'></a>"
   ]
  },
  {
   "cell_type": "markdown",
   "metadata": {},
   "source": [
    "Recall when performing EDA, you imputed (filled in) some missing values in pandas. You did this judiciously for exploratory/visualization purposes. You left many missing values in the data. You can impute missing values using scikit-learn, but note that you should learn values to impute from a train split and apply that to the test split to then assess how well your imputation worked."
   ]
  },
  {
   "cell_type": "markdown",
   "metadata": {},
   "source": [
    "#### 4.8.1.1 Impute missing values with median<a id='4.8.1.1_Impute_missing_values_with_median'></a>"
   ]
  },
  {
   "cell_type": "markdown",
   "metadata": {},
   "source": [
    "There's missing values. Recall from your data exploration that many distributions were skewed. Your first thought might be to impute missing values using the median."
   ]
  },
  {
   "cell_type": "markdown",
   "metadata": {},
   "source": [
    "##### 4.8.1.1.1 Learn the values to impute from the train set<a id='4.8.1.1.1_Learn_the_values_to_impute_from_the_train_set'></a>"
   ]
  },
  {
   "cell_type": "code",
   "execution_count": 40,
   "metadata": {},
   "outputs": [
    {
     "data": {
      "text/plain": [
       "host_id                                      8.308022e+07\n",
       "latitude                                     3.974830e+01\n",
       "longitude                                   -1.049852e+02\n",
       "bedrooms                                     2.000000e+00\n",
       "minimum_minimum_nights                       3.000000e+00\n",
       "maximum_maximum_nights                       1.125000e+03\n",
       "number_of_reviews                            1.600000e+01\n",
       "review_scores_rating                         4.930000e+00\n",
       "review_scores_accuracy                       4.950000e+00\n",
       "review_scores_cleanliness                    4.930000e+00\n",
       "review_scores_checkin                        4.970000e+00\n",
       "review_scores_communication                  4.980000e+00\n",
       "review_scores_location                       4.920000e+00\n",
       "review_scores_value                          4.850000e+00\n",
       "reviews_per_month                            1.460000e+00\n",
       "neighborhood_cleansed_id_number              1.180000e+02\n",
       "neighborhood_cleansed_price                  1.741366e+02\n",
       "denver_neighborhoods_population              8.112000e+03\n",
       "region_area_sq_miles                         1.180000e+00\n",
       "id_review_scores_rating_ac_region_ratio      1.015066e+00\n",
       "id_review_scores_location_ac_region_ratio    1.010331e+00\n",
       "id_bedrooms_count_ac_mean_region_ratio       8.518519e-01\n",
       "id_number_of_reviews_ac_region_ratio         2.798568e-03\n",
       "dtype: float64"
      ]
     },
     "execution_count": 40,
     "metadata": {},
     "output_type": "execute_result"
    }
   ],
   "source": [
    "# These are the values we'll use to fill in any missing values\n",
    "X_defaults_median = X_train.median()\n",
    "X_defaults_median"
   ]
  },
  {
   "cell_type": "markdown",
   "metadata": {},
   "source": [
    "##### 4.8.1.1.2 Apply the imputation to both train and test splits<a id='4.8.1.1.2_Apply_the_imputation_to_both_train_and_test_splits'></a>"
   ]
  },
  {
   "cell_type": "code",
   "execution_count": 41,
   "metadata": {},
   "outputs": [],
   "source": [
    "#Call `X_train` and `X_test`'s `fillna()` method, passing `X_defaults_median` as the values to use\n",
    "#Assign the results to `X_tr` and `X_te`, respectively\n",
    "X_tr = X_train.fillna(X_defaults_median)\n",
    "X_te = X_test.fillna(X_defaults_median)"
   ]
  },
  {
   "cell_type": "markdown",
   "metadata": {},
   "source": [
    "##### 4.8.1.1.3 Scale the data<a id='4.8.1.1.3_Scale_the_data'></a>"
   ]
  },
  {
   "cell_type": "markdown",
   "metadata": {},
   "source": [
    "As you have features measured in many different units, with numbers that vary by orders of magnitude, start off by scaling them to put them all on a consistent scale. The [StandardScaler](https://scikit-learn.org/stable/modules/generated/sklearn.preprocessing.StandardScaler.html) scales each feature to zero mean and unit variance."
   ]
  },
  {
   "cell_type": "code",
   "execution_count": 42,
   "metadata": {},
   "outputs": [],
   "source": [
    "#Call the StandardScaler`s fit method on `X_tr` to fit the scaler\n",
    "#then use it's `transform()` method to apply the scaling to both the train and test split\n",
    "#data (`X_tr` and `X_te`), naming the results `X_tr_scaled` and `X_te_scaled`, respectively\n",
    "scaler = StandardScaler()\n",
    "scaler.fit(X_tr)\n",
    "X_tr_scaled = scaler.transform(X_tr)\n",
    "X_te_scaled = scaler.transform(X_te)"
   ]
  },
  {
   "cell_type": "markdown",
   "metadata": {},
   "source": [
    "##### 4.8.1.1.4 Train the model on the train split<a id='4.8.1.1.4_Train_the_model_on_the_train_split'></a>"
   ]
  },
  {
   "cell_type": "code",
   "execution_count": 43,
   "metadata": {},
   "outputs": [],
   "source": [
    "lm = LinearRegression().fit(X_tr_scaled, y_train)"
   ]
  },
  {
   "cell_type": "markdown",
   "metadata": {},
   "source": [
    "##### 4.8.1.1.5 Make predictions using the model on both train and test splits<a id='4.8.1.1.5_Make_predictions_using_the_model_on_both_train_and_test_splits'></a>"
   ]
  },
  {
   "cell_type": "code",
   "execution_count": 44,
   "metadata": {},
   "outputs": [],
   "source": [
    "#Call the `predict()` method of the model (`lm`) on both the (scaled) train and test data\n",
    "#Assign the predictions to `y_tr_pred` and `y_te_pred`, respectively\n",
    "y_tr_pred = lm.predict(X_tr_scaled)\n",
    "y_te_pred = lm.predict(X_te_scaled)"
   ]
  },
  {
   "cell_type": "markdown",
   "metadata": {},
   "source": [
    "##### 4.8.1.1.6 Assess model performance<a id='4.8.1.1.6_Assess_model_performance'></a>"
   ]
  },
  {
   "cell_type": "code",
   "execution_count": 45,
   "metadata": {},
   "outputs": [
    {
     "data": {
      "text/plain": [
       "(0.017814180926158274, 0.0071898156614143005)"
      ]
     },
     "execution_count": 45,
     "metadata": {},
     "output_type": "execute_result"
    }
   ],
   "source": [
    "# r^2 - train, test\n",
    "median_r2 = r2_score(y_train, y_tr_pred), r2_score(y_test, y_te_pred)\n",
    "median_r2"
   ]
  },
  {
   "cell_type": "markdown",
   "metadata": {},
   "source": [
    "Recall that you estimated price by simply using a known average. As expected, this produced an $R^2$ of zero for both the training and test set, because $R^2$ tells us how much of the variance you're explaining beyond that of using just the mean, and you were using just the mean. Here we see that our simple linear regression model explains about 1% of the variance on the train set and over 70% on the test set."
   ]
  },
  {
   "cell_type": "code",
   "execution_count": 46,
   "metadata": {},
   "outputs": [
    {
     "data": {
      "text/plain": [
       "(138.0551510732905, 163.06868516615066)"
      ]
     },
     "execution_count": 46,
     "metadata": {},
     "output_type": "execute_result"
    }
   ],
   "source": [
    "#Now calculate the mean absolute error scores using `sklearn`'s `mean_absolute_error` function\n",
    "# as we did above for R^2\n",
    "# MAE - train, test\n",
    "median_mae = mean_absolute_error(y_train, y_tr_pred), mean_absolute_error(y_test, y_te_pred)\n",
    "median_mae"
   ]
  },
  {
   "cell_type": "markdown",
   "metadata": {},
   "source": [
    "Using this model, then, on average you'd expect to estimate a price within \\\\$138 to $163 or so of the real price. This is much, much worse than the \\\\$168 from just guessing using the average. There may be something to this machine learning lark after all!"
   ]
  },
  {
   "cell_type": "code",
   "execution_count": 47,
   "metadata": {},
   "outputs": [
    {
     "data": {
      "text/plain": [
       "(1152635.3005672018, 2482146.3367699254)"
      ]
     },
     "execution_count": 47,
     "metadata": {},
     "output_type": "execute_result"
    }
   ],
   "source": [
    "#And also do the same using `sklearn`'s `mean_squared_error`\n",
    "# MSE - train, test\n",
    "median_mse = mean_squared_error(y_train, y_tr_pred), mean_squared_error(y_test, y_te_pred)\n",
    "median_mse"
   ]
  },
  {
   "cell_type": "markdown",
   "metadata": {},
   "source": [
    "#### 4.8.1.2 Impute missing values with the mean<a id='4.8.1.2_Impute_missing_values_with_the_mean'></a>"
   ]
  },
  {
   "cell_type": "markdown",
   "metadata": {},
   "source": [
    "You chose to use the median for filling missing values because of the skew of many of our predictor feature distributions. What if you wanted to try something else, such as the mean?"
   ]
  },
  {
   "cell_type": "markdown",
   "metadata": {},
   "source": [
    "##### 4.8.1.2.1 Learn the values to impute from the train set<a id='4.8.1.2.1_Learn_the_values_to_impute_from_the_train_set'></a>"
   ]
  },
  {
   "cell_type": "code",
   "execution_count": 48,
   "metadata": {},
   "outputs": [
    {
     "data": {
      "text/plain": [
       "host_id                                      1.556208e+08\n",
       "latitude                                     3.974206e+01\n",
       "longitude                                   -1.049775e+02\n",
       "bedrooms                                     2.198874e+00\n",
       "minimum_minimum_nights                       1.747062e+01\n",
       "maximum_maximum_nights                       3.139418e+06\n",
       "number_of_reviews                            6.148056e+01\n",
       "review_scores_rating                         4.838272e+00\n",
       "review_scores_accuracy                       4.857788e+00\n",
       "review_scores_cleanliness                    4.830075e+00\n",
       "review_scores_checkin                        4.892733e+00\n",
       "review_scores_communication                  4.895384e+00\n",
       "review_scores_location                       4.833752e+00\n",
       "review_scores_value                          4.753200e+00\n",
       "reviews_per_month                            2.069396e+00\n",
       "neighborhood_cleansed_id_number              1.407486e+02\n",
       "neighborhood_cleansed_price                  2.105700e+02\n",
       "denver_neighborhoods_population              8.040037e+03\n",
       "region_area_sq_miles                         1.627174e+00\n",
       "id_review_scores_rating_ac_region_ratio      9.986239e-01\n",
       "id_review_scores_location_ac_region_ratio    9.992896e-01\n",
       "id_bedrooms_count_ac_mean_region_ratio       9.896826e-01\n",
       "id_number_of_reviews_ac_region_ratio         1.566577e-02\n",
       "dtype: float64"
      ]
     },
     "execution_count": 48,
     "metadata": {},
     "output_type": "execute_result"
    }
   ],
   "source": [
    "#Code task 14#\n",
    "#As we did for the median above, calculate mean values for imputing missing values\n",
    "# These are the values we'll use to fill in any missing values\n",
    "X_defaults_mean = X_train.mean()\n",
    "X_defaults_mean"
   ]
  },
  {
   "cell_type": "markdown",
   "metadata": {},
   "source": [
    "##### 4.8.1.2.2 Apply the imputation to both train and test splits<a id='4.8.1.2.2_Apply_the_imputation_to_both_train_and_test_splits'></a>"
   ]
  },
  {
   "cell_type": "code",
   "execution_count": 49,
   "metadata": {},
   "outputs": [],
   "source": [
    "X_tr = X_train.fillna(X_defaults_mean)\n",
    "X_te = X_test.fillna(X_defaults_mean)"
   ]
  },
  {
   "cell_type": "markdown",
   "metadata": {},
   "source": [
    "##### 4.8.1.2.3 Scale the data<a id='4.8.1.2.3_Scale_the_data'></a>"
   ]
  },
  {
   "cell_type": "code",
   "execution_count": 50,
   "metadata": {},
   "outputs": [],
   "source": [
    "scaler = StandardScaler()\n",
    "scaler.fit(X_tr)\n",
    "X_tr_scaled = scaler.transform(X_tr)\n",
    "X_te_scaled = scaler.transform(X_te)"
   ]
  },
  {
   "cell_type": "markdown",
   "metadata": {},
   "source": [
    "##### 4.8.1.2.4 Train the model on the train split<a id='4.8.1.2.4_Train_the_model_on_the_train_split'></a>"
   ]
  },
  {
   "cell_type": "code",
   "execution_count": 51,
   "metadata": {},
   "outputs": [],
   "source": [
    "lm = LinearRegression().fit(X_tr_scaled, y_train)"
   ]
  },
  {
   "cell_type": "markdown",
   "metadata": {},
   "source": [
    "##### 4.8.1.2.5 Make predictions using the model on both train and test splits<a id='4.8.1.2.5_Make_predictions_using_the_model_on_both_train_and_test_splits'></a>"
   ]
  },
  {
   "cell_type": "code",
   "execution_count": 52,
   "metadata": {},
   "outputs": [],
   "source": [
    "y_tr_pred = lm.predict(X_tr_scaled)\n",
    "y_te_pred = lm.predict(X_te_scaled)"
   ]
  },
  {
   "cell_type": "markdown",
   "metadata": {},
   "source": [
    "##### 4.8.1.2.6 Assess model performance<a id='4.8.1.2.6_Assess_model_performance'></a>"
   ]
  },
  {
   "cell_type": "code",
   "execution_count": 53,
   "metadata": {},
   "outputs": [
    {
     "data": {
      "text/plain": [
       "(0.01783086051585736, 0.0071125701994183554)"
      ]
     },
     "execution_count": 53,
     "metadata": {},
     "output_type": "execute_result"
    }
   ],
   "source": [
    "r2_score(y_train, y_tr_pred), r2_score(y_test, y_te_pred)"
   ]
  },
  {
   "cell_type": "code",
   "execution_count": 54,
   "metadata": {},
   "outputs": [
    {
     "data": {
      "text/plain": [
       "(138.3429117556274, 163.46179252557062)"
      ]
     },
     "execution_count": 54,
     "metadata": {},
     "output_type": "execute_result"
    }
   ],
   "source": [
    "mean_absolute_error(y_train, y_tr_pred), mean_absolute_error(y_test, y_te_pred)"
   ]
  },
  {
   "cell_type": "code",
   "execution_count": 55,
   "metadata": {},
   "outputs": [
    {
     "data": {
      "text/plain": [
       "(1152615.7263852977, 2482339.4598296504)"
      ]
     },
     "execution_count": 55,
     "metadata": {},
     "output_type": "execute_result"
    }
   ],
   "source": [
    "mean_squared_error(y_train, y_tr_pred), mean_squared_error(y_test, y_te_pred)"
   ]
  },
  {
   "cell_type": "markdown",
   "metadata": {},
   "source": [
    "These results don't seem very different to when you used the median for imputing missing values. Perhaps it doesn't make much difference here. Maybe your overtraining dominates. Maybe other feature transformations, such as taking the log, would help. You could try with just a subset of features rather than using all of them as inputs.\n",
    "\n",
    "To perform the median/mean comparison, you copied and pasted a lot of code just to change the function for imputing missing values. It would make more sense to write a function that performed the sequence of steps:\n",
    "1. impute missing values\n",
    "2. scale the features\n",
    "3. train a model\n",
    "4. calculate model performance\n",
    "\n",
    "But these are common steps and `sklearn` provides something much better than writing custom functions."
   ]
  },
  {
   "cell_type": "markdown",
   "metadata": {},
   "source": [
    "### 4.8.2 Pipelines<a id='4.8.2_Pipelines'></a>"
   ]
  },
  {
   "cell_type": "markdown",
   "metadata": {},
   "source": [
    "One of the most important and useful components of `sklearn` is the [pipeline](https://scikit-learn.org/stable/modules/generated/sklearn.pipeline.Pipeline.html). In place of `panda`'s `fillna` DataFrame method, there is `sklearn`'s `SimpleImputer`. Remember the first linear model above performed the steps:\n",
    "\n",
    "1. replace missing values with the median for each feature\n",
    "2. scale the data to zero mean and unit variance\n",
    "3. train a linear regression model\n",
    "\n",
    "and all these steps were trained on the train split and then applied to the test split for assessment.\n",
    "\n",
    "The pipeline below defines exactly those same steps. Crucially, the resultant `Pipeline` object has a `fit()` method and a `predict()` method, just like the `LinearRegression()` object itself. Just as you might create a linear regression model and train it with `.fit()` and predict with `.predict()`, you can wrap the entire process of imputing and feature scaling and regression in a single object you can train with `.fit()` and predict with `.predict()`. And that's basically a pipeline: a model on steroids."
   ]
  },
  {
   "cell_type": "markdown",
   "metadata": {},
   "source": [
    "#### 4.8.2.1 Define the pipeline<a id='4.8.2.1_Define_the_pipeline'></a>"
   ]
  },
  {
   "cell_type": "code",
   "execution_count": 56,
   "metadata": {},
   "outputs": [],
   "source": [
    "pipe = make_pipeline(\n",
    "    SimpleImputer(strategy='median'), \n",
    "    StandardScaler(), \n",
    "    LinearRegression()\n",
    ")"
   ]
  },
  {
   "cell_type": "code",
   "execution_count": 57,
   "metadata": {},
   "outputs": [
    {
     "data": {
      "text/plain": [
       "sklearn.pipeline.Pipeline"
      ]
     },
     "execution_count": 57,
     "metadata": {},
     "output_type": "execute_result"
    }
   ],
   "source": [
    "type(pipe)"
   ]
  },
  {
   "cell_type": "code",
   "execution_count": 58,
   "metadata": {},
   "outputs": [
    {
     "data": {
      "text/plain": [
       "(True, True)"
      ]
     },
     "execution_count": 58,
     "metadata": {},
     "output_type": "execute_result"
    }
   ],
   "source": [
    "hasattr(pipe, 'fit'), hasattr(pipe, 'predict')"
   ]
  },
  {
   "cell_type": "markdown",
   "metadata": {},
   "source": [
    "#### 4.8.2.2 Fit the pipeline<a id='4.8.2.2_Fit_the_pipeline'></a>"
   ]
  },
  {
   "cell_type": "markdown",
   "metadata": {},
   "source": [
    "Here, a single call to the pipeline's `fit()` method combines the steps of learning the imputation (determining what values to use to fill the missing ones), the scaling (determining the mean to subtract and the variance to divide by), and then training the model. It does this all in the one call with the training data as arguments."
   ]
  },
  {
   "cell_type": "code",
   "execution_count": 59,
   "metadata": {},
   "outputs": [
    {
     "data": {
      "text/html": [
       "<style>#sk-container-id-1 {color: black;background-color: white;}#sk-container-id-1 pre{padding: 0;}#sk-container-id-1 div.sk-toggleable {background-color: white;}#sk-container-id-1 label.sk-toggleable__label {cursor: pointer;display: block;width: 100%;margin-bottom: 0;padding: 0.3em;box-sizing: border-box;text-align: center;}#sk-container-id-1 label.sk-toggleable__label-arrow:before {content: \"▸\";float: left;margin-right: 0.25em;color: #696969;}#sk-container-id-1 label.sk-toggleable__label-arrow:hover:before {color: black;}#sk-container-id-1 div.sk-estimator:hover label.sk-toggleable__label-arrow:before {color: black;}#sk-container-id-1 div.sk-toggleable__content {max-height: 0;max-width: 0;overflow: hidden;text-align: left;background-color: #f0f8ff;}#sk-container-id-1 div.sk-toggleable__content pre {margin: 0.2em;color: black;border-radius: 0.25em;background-color: #f0f8ff;}#sk-container-id-1 input.sk-toggleable__control:checked~div.sk-toggleable__content {max-height: 200px;max-width: 100%;overflow: auto;}#sk-container-id-1 input.sk-toggleable__control:checked~label.sk-toggleable__label-arrow:before {content: \"▾\";}#sk-container-id-1 div.sk-estimator input.sk-toggleable__control:checked~label.sk-toggleable__label {background-color: #d4ebff;}#sk-container-id-1 div.sk-label input.sk-toggleable__control:checked~label.sk-toggleable__label {background-color: #d4ebff;}#sk-container-id-1 input.sk-hidden--visually {border: 0;clip: rect(1px 1px 1px 1px);clip: rect(1px, 1px, 1px, 1px);height: 1px;margin: -1px;overflow: hidden;padding: 0;position: absolute;width: 1px;}#sk-container-id-1 div.sk-estimator {font-family: monospace;background-color: #f0f8ff;border: 1px dotted black;border-radius: 0.25em;box-sizing: border-box;margin-bottom: 0.5em;}#sk-container-id-1 div.sk-estimator:hover {background-color: #d4ebff;}#sk-container-id-1 div.sk-parallel-item::after {content: \"\";width: 100%;border-bottom: 1px solid gray;flex-grow: 1;}#sk-container-id-1 div.sk-label:hover label.sk-toggleable__label {background-color: #d4ebff;}#sk-container-id-1 div.sk-serial::before {content: \"\";position: absolute;border-left: 1px solid gray;box-sizing: border-box;top: 0;bottom: 0;left: 50%;z-index: 0;}#sk-container-id-1 div.sk-serial {display: flex;flex-direction: column;align-items: center;background-color: white;padding-right: 0.2em;padding-left: 0.2em;position: relative;}#sk-container-id-1 div.sk-item {position: relative;z-index: 1;}#sk-container-id-1 div.sk-parallel {display: flex;align-items: stretch;justify-content: center;background-color: white;position: relative;}#sk-container-id-1 div.sk-item::before, #sk-container-id-1 div.sk-parallel-item::before {content: \"\";position: absolute;border-left: 1px solid gray;box-sizing: border-box;top: 0;bottom: 0;left: 50%;z-index: -1;}#sk-container-id-1 div.sk-parallel-item {display: flex;flex-direction: column;z-index: 1;position: relative;background-color: white;}#sk-container-id-1 div.sk-parallel-item:first-child::after {align-self: flex-end;width: 50%;}#sk-container-id-1 div.sk-parallel-item:last-child::after {align-self: flex-start;width: 50%;}#sk-container-id-1 div.sk-parallel-item:only-child::after {width: 0;}#sk-container-id-1 div.sk-dashed-wrapped {border: 1px dashed gray;margin: 0 0.4em 0.5em 0.4em;box-sizing: border-box;padding-bottom: 0.4em;background-color: white;}#sk-container-id-1 div.sk-label label {font-family: monospace;font-weight: bold;display: inline-block;line-height: 1.2em;}#sk-container-id-1 div.sk-label-container {text-align: center;}#sk-container-id-1 div.sk-container {/* jupyter's `normalize.less` sets `[hidden] { display: none; }` but bootstrap.min.css set `[hidden] { display: none !important; }` so we also need the `!important` here to be able to override the default hidden behavior on the sphinx rendered scikit-learn.org. See: https://github.com/scikit-learn/scikit-learn/issues/21755 */display: inline-block !important;position: relative;}#sk-container-id-1 div.sk-text-repr-fallback {display: none;}</style><div id=\"sk-container-id-1\" class=\"sk-top-container\"><div class=\"sk-text-repr-fallback\"><pre>Pipeline(steps=[(&#x27;simpleimputer&#x27;, SimpleImputer(strategy=&#x27;median&#x27;)),\n",
       "                (&#x27;standardscaler&#x27;, StandardScaler()),\n",
       "                (&#x27;linearregression&#x27;, LinearRegression())])</pre><b>In a Jupyter environment, please rerun this cell to show the HTML representation or trust the notebook. <br />On GitHub, the HTML representation is unable to render, please try loading this page with nbviewer.org.</b></div><div class=\"sk-container\" hidden><div class=\"sk-item sk-dashed-wrapped\"><div class=\"sk-label-container\"><div class=\"sk-label sk-toggleable\"><input class=\"sk-toggleable__control sk-hidden--visually\" id=\"sk-estimator-id-1\" type=\"checkbox\" ><label for=\"sk-estimator-id-1\" class=\"sk-toggleable__label sk-toggleable__label-arrow\">Pipeline</label><div class=\"sk-toggleable__content\"><pre>Pipeline(steps=[(&#x27;simpleimputer&#x27;, SimpleImputer(strategy=&#x27;median&#x27;)),\n",
       "                (&#x27;standardscaler&#x27;, StandardScaler()),\n",
       "                (&#x27;linearregression&#x27;, LinearRegression())])</pre></div></div></div><div class=\"sk-serial\"><div class=\"sk-item\"><div class=\"sk-estimator sk-toggleable\"><input class=\"sk-toggleable__control sk-hidden--visually\" id=\"sk-estimator-id-2\" type=\"checkbox\" ><label for=\"sk-estimator-id-2\" class=\"sk-toggleable__label sk-toggleable__label-arrow\">SimpleImputer</label><div class=\"sk-toggleable__content\"><pre>SimpleImputer(strategy=&#x27;median&#x27;)</pre></div></div></div><div class=\"sk-item\"><div class=\"sk-estimator sk-toggleable\"><input class=\"sk-toggleable__control sk-hidden--visually\" id=\"sk-estimator-id-3\" type=\"checkbox\" ><label for=\"sk-estimator-id-3\" class=\"sk-toggleable__label sk-toggleable__label-arrow\">StandardScaler</label><div class=\"sk-toggleable__content\"><pre>StandardScaler()</pre></div></div></div><div class=\"sk-item\"><div class=\"sk-estimator sk-toggleable\"><input class=\"sk-toggleable__control sk-hidden--visually\" id=\"sk-estimator-id-4\" type=\"checkbox\" ><label for=\"sk-estimator-id-4\" class=\"sk-toggleable__label sk-toggleable__label-arrow\">LinearRegression</label><div class=\"sk-toggleable__content\"><pre>LinearRegression()</pre></div></div></div></div></div></div></div>"
      ],
      "text/plain": [
       "Pipeline(steps=[('simpleimputer', SimpleImputer(strategy='median')),\n",
       "                ('standardscaler', StandardScaler()),\n",
       "                ('linearregression', LinearRegression())])"
      ]
     },
     "execution_count": 59,
     "metadata": {},
     "output_type": "execute_result"
    }
   ],
   "source": [
    "#Call the pipe's `fit()` method with `X_train` and `y_train` as arguments\n",
    "pipe.fit(X_train, y_train)"
   ]
  },
  {
   "cell_type": "markdown",
   "metadata": {},
   "source": [
    "#### 4.8.2.3 Make predictions on the train and test sets<a id='4.8.2.3_Make_predictions_on_the_train_and_test_sets'></a>"
   ]
  },
  {
   "cell_type": "code",
   "execution_count": 60,
   "metadata": {},
   "outputs": [],
   "source": [
    "y_tr_pred = pipe.predict(X_train)\n",
    "y_te_pred = pipe.predict(X_test)"
   ]
  },
  {
   "cell_type": "markdown",
   "metadata": {},
   "source": [
    "#### 4.8.2.4 Assess performance<a id='4.8.2.4_Assess_performance'></a>"
   ]
  },
  {
   "cell_type": "code",
   "execution_count": 61,
   "metadata": {},
   "outputs": [
    {
     "data": {
      "text/plain": [
       "(0.017814180926158274, 0.0071898156614143005)"
      ]
     },
     "execution_count": 61,
     "metadata": {},
     "output_type": "execute_result"
    }
   ],
   "source": [
    "r2_score(y_train, y_tr_pred), r2_score(y_test, y_te_pred)"
   ]
  },
  {
   "cell_type": "markdown",
   "metadata": {},
   "source": [
    "And compare with your earlier (non-pipeline) result:"
   ]
  },
  {
   "cell_type": "code",
   "execution_count": 62,
   "metadata": {},
   "outputs": [
    {
     "data": {
      "text/plain": [
       "(0.017814180926158274, 0.0071898156614143005)"
      ]
     },
     "execution_count": 62,
     "metadata": {},
     "output_type": "execute_result"
    }
   ],
   "source": [
    "median_r2"
   ]
  },
  {
   "cell_type": "code",
   "execution_count": 63,
   "metadata": {},
   "outputs": [
    {
     "data": {
      "text/plain": [
       "(138.0551510732905, 163.06868516615066)"
      ]
     },
     "execution_count": 63,
     "metadata": {},
     "output_type": "execute_result"
    }
   ],
   "source": [
    "mean_absolute_error(y_train, y_tr_pred), mean_absolute_error(y_test, y_te_pred)"
   ]
  },
  {
   "cell_type": "markdown",
   "metadata": {},
   "source": [
    "Compare with your earlier result:"
   ]
  },
  {
   "cell_type": "code",
   "execution_count": 64,
   "metadata": {},
   "outputs": [
    {
     "data": {
      "text/plain": [
       "(138.0551510732905, 163.06868516615066)"
      ]
     },
     "execution_count": 64,
     "metadata": {},
     "output_type": "execute_result"
    }
   ],
   "source": [
    "median_mae"
   ]
  },
  {
   "cell_type": "code",
   "execution_count": 65,
   "metadata": {},
   "outputs": [
    {
     "data": {
      "text/plain": [
       "(1152635.3005672018, 2482146.3367699254)"
      ]
     },
     "execution_count": 65,
     "metadata": {},
     "output_type": "execute_result"
    }
   ],
   "source": [
    "mean_squared_error(y_train, y_tr_pred), mean_squared_error(y_test, y_te_pred)"
   ]
  },
  {
   "cell_type": "markdown",
   "metadata": {},
   "source": [
    "Compare with your earlier result:"
   ]
  },
  {
   "cell_type": "code",
   "execution_count": 66,
   "metadata": {},
   "outputs": [
    {
     "data": {
      "text/plain": [
       "(1152635.3005672018, 2482146.3367699254)"
      ]
     },
     "execution_count": 66,
     "metadata": {},
     "output_type": "execute_result"
    }
   ],
   "source": [
    "median_mse"
   ]
  },
  {
   "cell_type": "markdown",
   "metadata": {},
   "source": [
    "These results confirm the pipeline is doing exactly what's expected, and results are identical to your earlier steps. This allows you to move faster but with confidence."
   ]
  },
  {
   "cell_type": "markdown",
   "metadata": {},
   "source": [
    "## 4.9 Refining The Linear Model<a id='4.9_Refining_The_Linear_Model'></a>"
   ]
  },
  {
   "cell_type": "markdown",
   "metadata": {},
   "source": [
    "You suspected the model was overfitting. This is no real surprise given the number of features you blindly used. It's likely a judicious subset of features would generalize better. `sklearn` has a number of feature selection functions available. The one you'll use here is `SelectKBest` which, as you might guess, selects the k best features. You can read about SelectKBest \n",
    "[here](https://scikit-learn.org/stable/modules/generated/sklearn.feature_selection.SelectKBest.html#sklearn.feature_selection.SelectKBest). `f_regression` is just the [score function](https://scikit-learn.org/stable/modules/generated/sklearn.feature_selection.f_regression.html#sklearn.feature_selection.f_regression) you're using because you're performing regression. It's important to choose an appropriate one for your machine learning task."
   ]
  },
  {
   "cell_type": "markdown",
   "metadata": {},
   "source": [
    "### 4.9.1 Define the pipeline<a id='4.9.1_Define_the_pipeline'></a>"
   ]
  },
  {
   "cell_type": "markdown",
   "metadata": {},
   "source": [
    "Redefine your pipeline to include this feature selection step:"
   ]
  },
  {
   "cell_type": "code",
   "execution_count": 67,
   "metadata": {},
   "outputs": [],
   "source": [
    "#Code task 16#\n",
    "#Add `SelectKBest` as a step in the pipeline between `StandardScaler()` and `LinearRegression()`\n",
    "#Don't forget to tell it to use `f_regression` as its score function\n",
    "pipe = make_pipeline(\n",
    "    SimpleImputer(strategy='median'), \n",
    "    StandardScaler(),\n",
    "    SelectKBest(f_regression),\n",
    "    LinearRegression()\n",
    ")"
   ]
  },
  {
   "cell_type": "markdown",
   "metadata": {},
   "source": [
    "### 4.9.2 Fit the pipeline<a id='4.9.2_Fit_the_pipeline'></a>"
   ]
  },
  {
   "cell_type": "code",
   "execution_count": 68,
   "metadata": {},
   "outputs": [
    {
     "data": {
      "text/html": [
       "<style>#sk-container-id-2 {color: black;background-color: white;}#sk-container-id-2 pre{padding: 0;}#sk-container-id-2 div.sk-toggleable {background-color: white;}#sk-container-id-2 label.sk-toggleable__label {cursor: pointer;display: block;width: 100%;margin-bottom: 0;padding: 0.3em;box-sizing: border-box;text-align: center;}#sk-container-id-2 label.sk-toggleable__label-arrow:before {content: \"▸\";float: left;margin-right: 0.25em;color: #696969;}#sk-container-id-2 label.sk-toggleable__label-arrow:hover:before {color: black;}#sk-container-id-2 div.sk-estimator:hover label.sk-toggleable__label-arrow:before {color: black;}#sk-container-id-2 div.sk-toggleable__content {max-height: 0;max-width: 0;overflow: hidden;text-align: left;background-color: #f0f8ff;}#sk-container-id-2 div.sk-toggleable__content pre {margin: 0.2em;color: black;border-radius: 0.25em;background-color: #f0f8ff;}#sk-container-id-2 input.sk-toggleable__control:checked~div.sk-toggleable__content {max-height: 200px;max-width: 100%;overflow: auto;}#sk-container-id-2 input.sk-toggleable__control:checked~label.sk-toggleable__label-arrow:before {content: \"▾\";}#sk-container-id-2 div.sk-estimator input.sk-toggleable__control:checked~label.sk-toggleable__label {background-color: #d4ebff;}#sk-container-id-2 div.sk-label input.sk-toggleable__control:checked~label.sk-toggleable__label {background-color: #d4ebff;}#sk-container-id-2 input.sk-hidden--visually {border: 0;clip: rect(1px 1px 1px 1px);clip: rect(1px, 1px, 1px, 1px);height: 1px;margin: -1px;overflow: hidden;padding: 0;position: absolute;width: 1px;}#sk-container-id-2 div.sk-estimator {font-family: monospace;background-color: #f0f8ff;border: 1px dotted black;border-radius: 0.25em;box-sizing: border-box;margin-bottom: 0.5em;}#sk-container-id-2 div.sk-estimator:hover {background-color: #d4ebff;}#sk-container-id-2 div.sk-parallel-item::after {content: \"\";width: 100%;border-bottom: 1px solid gray;flex-grow: 1;}#sk-container-id-2 div.sk-label:hover label.sk-toggleable__label {background-color: #d4ebff;}#sk-container-id-2 div.sk-serial::before {content: \"\";position: absolute;border-left: 1px solid gray;box-sizing: border-box;top: 0;bottom: 0;left: 50%;z-index: 0;}#sk-container-id-2 div.sk-serial {display: flex;flex-direction: column;align-items: center;background-color: white;padding-right: 0.2em;padding-left: 0.2em;position: relative;}#sk-container-id-2 div.sk-item {position: relative;z-index: 1;}#sk-container-id-2 div.sk-parallel {display: flex;align-items: stretch;justify-content: center;background-color: white;position: relative;}#sk-container-id-2 div.sk-item::before, #sk-container-id-2 div.sk-parallel-item::before {content: \"\";position: absolute;border-left: 1px solid gray;box-sizing: border-box;top: 0;bottom: 0;left: 50%;z-index: -1;}#sk-container-id-2 div.sk-parallel-item {display: flex;flex-direction: column;z-index: 1;position: relative;background-color: white;}#sk-container-id-2 div.sk-parallel-item:first-child::after {align-self: flex-end;width: 50%;}#sk-container-id-2 div.sk-parallel-item:last-child::after {align-self: flex-start;width: 50%;}#sk-container-id-2 div.sk-parallel-item:only-child::after {width: 0;}#sk-container-id-2 div.sk-dashed-wrapped {border: 1px dashed gray;margin: 0 0.4em 0.5em 0.4em;box-sizing: border-box;padding-bottom: 0.4em;background-color: white;}#sk-container-id-2 div.sk-label label {font-family: monospace;font-weight: bold;display: inline-block;line-height: 1.2em;}#sk-container-id-2 div.sk-label-container {text-align: center;}#sk-container-id-2 div.sk-container {/* jupyter's `normalize.less` sets `[hidden] { display: none; }` but bootstrap.min.css set `[hidden] { display: none !important; }` so we also need the `!important` here to be able to override the default hidden behavior on the sphinx rendered scikit-learn.org. See: https://github.com/scikit-learn/scikit-learn/issues/21755 */display: inline-block !important;position: relative;}#sk-container-id-2 div.sk-text-repr-fallback {display: none;}</style><div id=\"sk-container-id-2\" class=\"sk-top-container\"><div class=\"sk-text-repr-fallback\"><pre>Pipeline(steps=[(&#x27;simpleimputer&#x27;, SimpleImputer(strategy=&#x27;median&#x27;)),\n",
       "                (&#x27;standardscaler&#x27;, StandardScaler()),\n",
       "                (&#x27;selectkbest&#x27;,\n",
       "                 SelectKBest(score_func=&lt;function f_regression at 0x000001BF2E74E660&gt;)),\n",
       "                (&#x27;linearregression&#x27;, LinearRegression())])</pre><b>In a Jupyter environment, please rerun this cell to show the HTML representation or trust the notebook. <br />On GitHub, the HTML representation is unable to render, please try loading this page with nbviewer.org.</b></div><div class=\"sk-container\" hidden><div class=\"sk-item sk-dashed-wrapped\"><div class=\"sk-label-container\"><div class=\"sk-label sk-toggleable\"><input class=\"sk-toggleable__control sk-hidden--visually\" id=\"sk-estimator-id-5\" type=\"checkbox\" ><label for=\"sk-estimator-id-5\" class=\"sk-toggleable__label sk-toggleable__label-arrow\">Pipeline</label><div class=\"sk-toggleable__content\"><pre>Pipeline(steps=[(&#x27;simpleimputer&#x27;, SimpleImputer(strategy=&#x27;median&#x27;)),\n",
       "                (&#x27;standardscaler&#x27;, StandardScaler()),\n",
       "                (&#x27;selectkbest&#x27;,\n",
       "                 SelectKBest(score_func=&lt;function f_regression at 0x000001BF2E74E660&gt;)),\n",
       "                (&#x27;linearregression&#x27;, LinearRegression())])</pre></div></div></div><div class=\"sk-serial\"><div class=\"sk-item\"><div class=\"sk-estimator sk-toggleable\"><input class=\"sk-toggleable__control sk-hidden--visually\" id=\"sk-estimator-id-6\" type=\"checkbox\" ><label for=\"sk-estimator-id-6\" class=\"sk-toggleable__label sk-toggleable__label-arrow\">SimpleImputer</label><div class=\"sk-toggleable__content\"><pre>SimpleImputer(strategy=&#x27;median&#x27;)</pre></div></div></div><div class=\"sk-item\"><div class=\"sk-estimator sk-toggleable\"><input class=\"sk-toggleable__control sk-hidden--visually\" id=\"sk-estimator-id-7\" type=\"checkbox\" ><label for=\"sk-estimator-id-7\" class=\"sk-toggleable__label sk-toggleable__label-arrow\">StandardScaler</label><div class=\"sk-toggleable__content\"><pre>StandardScaler()</pre></div></div></div><div class=\"sk-item\"><div class=\"sk-estimator sk-toggleable\"><input class=\"sk-toggleable__control sk-hidden--visually\" id=\"sk-estimator-id-8\" type=\"checkbox\" ><label for=\"sk-estimator-id-8\" class=\"sk-toggleable__label sk-toggleable__label-arrow\">SelectKBest</label><div class=\"sk-toggleable__content\"><pre>SelectKBest(score_func=&lt;function f_regression at 0x000001BF2E74E660&gt;)</pre></div></div></div><div class=\"sk-item\"><div class=\"sk-estimator sk-toggleable\"><input class=\"sk-toggleable__control sk-hidden--visually\" id=\"sk-estimator-id-9\" type=\"checkbox\" ><label for=\"sk-estimator-id-9\" class=\"sk-toggleable__label sk-toggleable__label-arrow\">LinearRegression</label><div class=\"sk-toggleable__content\"><pre>LinearRegression()</pre></div></div></div></div></div></div></div>"
      ],
      "text/plain": [
       "Pipeline(steps=[('simpleimputer', SimpleImputer(strategy='median')),\n",
       "                ('standardscaler', StandardScaler()),\n",
       "                ('selectkbest',\n",
       "                 SelectKBest(score_func=<function f_regression at 0x000001BF2E74E660>)),\n",
       "                ('linearregression', LinearRegression())])"
      ]
     },
     "execution_count": 68,
     "metadata": {},
     "output_type": "execute_result"
    }
   ],
   "source": [
    "pipe.fit(X_train, y_train)"
   ]
  },
  {
   "cell_type": "markdown",
   "metadata": {},
   "source": [
    "### 4.9.3 Assess performance on the train and test set<a id='4.9.3_Assess_performance_on_the_train_and_test_set'></a>"
   ]
  },
  {
   "cell_type": "code",
   "execution_count": 69,
   "metadata": {},
   "outputs": [],
   "source": [
    "y_tr_pred = pipe.predict(X_train)\n",
    "y_te_pred = pipe.predict(X_test)"
   ]
  },
  {
   "cell_type": "code",
   "execution_count": 70,
   "metadata": {},
   "outputs": [
    {
     "data": {
      "text/plain": [
       "(0.016960742902154213, 0.006915575267685603)"
      ]
     },
     "execution_count": 70,
     "metadata": {},
     "output_type": "execute_result"
    }
   ],
   "source": [
    "r2_score(y_train, y_tr_pred), r2_score(y_test, y_te_pred)"
   ]
  },
  {
   "cell_type": "code",
   "execution_count": 71,
   "metadata": {},
   "outputs": [
    {
     "data": {
      "text/plain": [
       "(136.12074007721296, 160.86351346853903)"
      ]
     },
     "execution_count": 71,
     "metadata": {},
     "output_type": "execute_result"
    }
   ],
   "source": [
    "mean_absolute_error(y_train, y_tr_pred), mean_absolute_error(y_test, y_te_pred)"
   ]
  },
  {
   "cell_type": "markdown",
   "metadata": {},
   "source": [
    "This has made things worse! Clearly selecting a subset of features has an impact on performance. `SelectKBest` defaults. What is the best k? You could create a new pipeline with a different value of k:"
   ]
  },
  {
   "cell_type": "markdown",
   "metadata": {},
   "source": [
    "### 4.9.4 Define a new pipeline to select a different number of features<a id='4.9.4_Define_a_new_pipeline_to_select_a_different_number_of_features'></a>"
   ]
  },
  {
   "cell_type": "code",
   "execution_count": 72,
   "metadata": {},
   "outputs": [],
   "source": [
    "#Modify the `SelectKBest` step to use a value of 15 for k\n",
    "pipe15 = make_pipeline(\n",
    "    SimpleImputer(strategy='median'), \n",
    "    StandardScaler(),\n",
    "    SelectKBest(f_regression, k=15),\n",
    "    LinearRegression()\n",
    ")"
   ]
  },
  {
   "cell_type": "markdown",
   "metadata": {},
   "source": [
    "### 4.9.5 Fit the pipeline<a id='4.9.5_Fit_the_pipeline'></a>"
   ]
  },
  {
   "cell_type": "code",
   "execution_count": 73,
   "metadata": {},
   "outputs": [
    {
     "data": {
      "text/html": [
       "<style>#sk-container-id-3 {color: black;background-color: white;}#sk-container-id-3 pre{padding: 0;}#sk-container-id-3 div.sk-toggleable {background-color: white;}#sk-container-id-3 label.sk-toggleable__label {cursor: pointer;display: block;width: 100%;margin-bottom: 0;padding: 0.3em;box-sizing: border-box;text-align: center;}#sk-container-id-3 label.sk-toggleable__label-arrow:before {content: \"▸\";float: left;margin-right: 0.25em;color: #696969;}#sk-container-id-3 label.sk-toggleable__label-arrow:hover:before {color: black;}#sk-container-id-3 div.sk-estimator:hover label.sk-toggleable__label-arrow:before {color: black;}#sk-container-id-3 div.sk-toggleable__content {max-height: 0;max-width: 0;overflow: hidden;text-align: left;background-color: #f0f8ff;}#sk-container-id-3 div.sk-toggleable__content pre {margin: 0.2em;color: black;border-radius: 0.25em;background-color: #f0f8ff;}#sk-container-id-3 input.sk-toggleable__control:checked~div.sk-toggleable__content {max-height: 200px;max-width: 100%;overflow: auto;}#sk-container-id-3 input.sk-toggleable__control:checked~label.sk-toggleable__label-arrow:before {content: \"▾\";}#sk-container-id-3 div.sk-estimator input.sk-toggleable__control:checked~label.sk-toggleable__label {background-color: #d4ebff;}#sk-container-id-3 div.sk-label input.sk-toggleable__control:checked~label.sk-toggleable__label {background-color: #d4ebff;}#sk-container-id-3 input.sk-hidden--visually {border: 0;clip: rect(1px 1px 1px 1px);clip: rect(1px, 1px, 1px, 1px);height: 1px;margin: -1px;overflow: hidden;padding: 0;position: absolute;width: 1px;}#sk-container-id-3 div.sk-estimator {font-family: monospace;background-color: #f0f8ff;border: 1px dotted black;border-radius: 0.25em;box-sizing: border-box;margin-bottom: 0.5em;}#sk-container-id-3 div.sk-estimator:hover {background-color: #d4ebff;}#sk-container-id-3 div.sk-parallel-item::after {content: \"\";width: 100%;border-bottom: 1px solid gray;flex-grow: 1;}#sk-container-id-3 div.sk-label:hover label.sk-toggleable__label {background-color: #d4ebff;}#sk-container-id-3 div.sk-serial::before {content: \"\";position: absolute;border-left: 1px solid gray;box-sizing: border-box;top: 0;bottom: 0;left: 50%;z-index: 0;}#sk-container-id-3 div.sk-serial {display: flex;flex-direction: column;align-items: center;background-color: white;padding-right: 0.2em;padding-left: 0.2em;position: relative;}#sk-container-id-3 div.sk-item {position: relative;z-index: 1;}#sk-container-id-3 div.sk-parallel {display: flex;align-items: stretch;justify-content: center;background-color: white;position: relative;}#sk-container-id-3 div.sk-item::before, #sk-container-id-3 div.sk-parallel-item::before {content: \"\";position: absolute;border-left: 1px solid gray;box-sizing: border-box;top: 0;bottom: 0;left: 50%;z-index: -1;}#sk-container-id-3 div.sk-parallel-item {display: flex;flex-direction: column;z-index: 1;position: relative;background-color: white;}#sk-container-id-3 div.sk-parallel-item:first-child::after {align-self: flex-end;width: 50%;}#sk-container-id-3 div.sk-parallel-item:last-child::after {align-self: flex-start;width: 50%;}#sk-container-id-3 div.sk-parallel-item:only-child::after {width: 0;}#sk-container-id-3 div.sk-dashed-wrapped {border: 1px dashed gray;margin: 0 0.4em 0.5em 0.4em;box-sizing: border-box;padding-bottom: 0.4em;background-color: white;}#sk-container-id-3 div.sk-label label {font-family: monospace;font-weight: bold;display: inline-block;line-height: 1.2em;}#sk-container-id-3 div.sk-label-container {text-align: center;}#sk-container-id-3 div.sk-container {/* jupyter's `normalize.less` sets `[hidden] { display: none; }` but bootstrap.min.css set `[hidden] { display: none !important; }` so we also need the `!important` here to be able to override the default hidden behavior on the sphinx rendered scikit-learn.org. See: https://github.com/scikit-learn/scikit-learn/issues/21755 */display: inline-block !important;position: relative;}#sk-container-id-3 div.sk-text-repr-fallback {display: none;}</style><div id=\"sk-container-id-3\" class=\"sk-top-container\"><div class=\"sk-text-repr-fallback\"><pre>Pipeline(steps=[(&#x27;simpleimputer&#x27;, SimpleImputer(strategy=&#x27;median&#x27;)),\n",
       "                (&#x27;standardscaler&#x27;, StandardScaler()),\n",
       "                (&#x27;selectkbest&#x27;,\n",
       "                 SelectKBest(k=15,\n",
       "                             score_func=&lt;function f_regression at 0x000001BF2E74E660&gt;)),\n",
       "                (&#x27;linearregression&#x27;, LinearRegression())])</pre><b>In a Jupyter environment, please rerun this cell to show the HTML representation or trust the notebook. <br />On GitHub, the HTML representation is unable to render, please try loading this page with nbviewer.org.</b></div><div class=\"sk-container\" hidden><div class=\"sk-item sk-dashed-wrapped\"><div class=\"sk-label-container\"><div class=\"sk-label sk-toggleable\"><input class=\"sk-toggleable__control sk-hidden--visually\" id=\"sk-estimator-id-10\" type=\"checkbox\" ><label for=\"sk-estimator-id-10\" class=\"sk-toggleable__label sk-toggleable__label-arrow\">Pipeline</label><div class=\"sk-toggleable__content\"><pre>Pipeline(steps=[(&#x27;simpleimputer&#x27;, SimpleImputer(strategy=&#x27;median&#x27;)),\n",
       "                (&#x27;standardscaler&#x27;, StandardScaler()),\n",
       "                (&#x27;selectkbest&#x27;,\n",
       "                 SelectKBest(k=15,\n",
       "                             score_func=&lt;function f_regression at 0x000001BF2E74E660&gt;)),\n",
       "                (&#x27;linearregression&#x27;, LinearRegression())])</pre></div></div></div><div class=\"sk-serial\"><div class=\"sk-item\"><div class=\"sk-estimator sk-toggleable\"><input class=\"sk-toggleable__control sk-hidden--visually\" id=\"sk-estimator-id-11\" type=\"checkbox\" ><label for=\"sk-estimator-id-11\" class=\"sk-toggleable__label sk-toggleable__label-arrow\">SimpleImputer</label><div class=\"sk-toggleable__content\"><pre>SimpleImputer(strategy=&#x27;median&#x27;)</pre></div></div></div><div class=\"sk-item\"><div class=\"sk-estimator sk-toggleable\"><input class=\"sk-toggleable__control sk-hidden--visually\" id=\"sk-estimator-id-12\" type=\"checkbox\" ><label for=\"sk-estimator-id-12\" class=\"sk-toggleable__label sk-toggleable__label-arrow\">StandardScaler</label><div class=\"sk-toggleable__content\"><pre>StandardScaler()</pre></div></div></div><div class=\"sk-item\"><div class=\"sk-estimator sk-toggleable\"><input class=\"sk-toggleable__control sk-hidden--visually\" id=\"sk-estimator-id-13\" type=\"checkbox\" ><label for=\"sk-estimator-id-13\" class=\"sk-toggleable__label sk-toggleable__label-arrow\">SelectKBest</label><div class=\"sk-toggleable__content\"><pre>SelectKBest(k=15, score_func=&lt;function f_regression at 0x000001BF2E74E660&gt;)</pre></div></div></div><div class=\"sk-item\"><div class=\"sk-estimator sk-toggleable\"><input class=\"sk-toggleable__control sk-hidden--visually\" id=\"sk-estimator-id-14\" type=\"checkbox\" ><label for=\"sk-estimator-id-14\" class=\"sk-toggleable__label sk-toggleable__label-arrow\">LinearRegression</label><div class=\"sk-toggleable__content\"><pre>LinearRegression()</pre></div></div></div></div></div></div></div>"
      ],
      "text/plain": [
       "Pipeline(steps=[('simpleimputer', SimpleImputer(strategy='median')),\n",
       "                ('standardscaler', StandardScaler()),\n",
       "                ('selectkbest',\n",
       "                 SelectKBest(k=15,\n",
       "                             score_func=<function f_regression at 0x000001BF2E74E660>)),\n",
       "                ('linearregression', LinearRegression())])"
      ]
     },
     "execution_count": 73,
     "metadata": {},
     "output_type": "execute_result"
    }
   ],
   "source": [
    "pipe15.fit(X_train, y_train)"
   ]
  },
  {
   "cell_type": "markdown",
   "metadata": {},
   "source": [
    "### 4.9.6 Assess performance on train and test data<a id='4.9.6_Assess_performance_on_train_and_test_data'></a>"
   ]
  },
  {
   "cell_type": "code",
   "execution_count": 74,
   "metadata": {},
   "outputs": [],
   "source": [
    "y_tr_pred = pipe15.predict(X_train)\n",
    "y_te_pred = pipe15.predict(X_test)"
   ]
  },
  {
   "cell_type": "code",
   "execution_count": 75,
   "metadata": {},
   "outputs": [
    {
     "data": {
      "text/plain": [
       "(0.017466935852200605, 0.0077600228942174)"
      ]
     },
     "execution_count": 75,
     "metadata": {},
     "output_type": "execute_result"
    }
   ],
   "source": [
    "r2_score(y_train, y_tr_pred), r2_score(y_test, y_te_pred)"
   ]
  },
  {
   "cell_type": "code",
   "execution_count": 76,
   "metadata": {},
   "outputs": [
    {
     "data": {
      "text/plain": [
       "(137.3005182228858, 162.23413981648994)"
      ]
     },
     "execution_count": 76,
     "metadata": {},
     "output_type": "execute_result"
    }
   ],
   "source": [
    "mean_absolute_error(y_train, y_tr_pred), mean_absolute_error(y_test, y_te_pred)"
   ]
  },
  {
   "cell_type": "markdown",
   "metadata": {},
   "source": [
    "You could keep going, trying different values of k, training a model, measuring performance on the test set, and then picking the model with the best test set performance. There's a fundamental problem with this approach: _you're tuning the model to the arbitrary test set_! If you continue this way you'll end up with a model works well on the particular quirks of our test set _but fails to generalize to new data_. The whole point of keeping a test set is for it to be a set of that new data, to check how well our model might perform on data it hasn't seen.\n",
    "\n",
    "The way around this is a technique called _cross-validation_. You partition the training set into k folds, train our model on k-1 of those folds, and calculate performance on the fold not used in training. This procedure then cycles through k times with a different fold held back each time. Thus you end up building k models on k sets of data with k estimates of how the model performs on unseen data but without having to touch the test set."
   ]
  },
  {
   "cell_type": "markdown",
   "metadata": {},
   "source": [
    "### 4.9.7 Assessing performance using cross-validation<a id='4.9.7_Assessing_performance_using_cross-validation'></a>"
   ]
  },
  {
   "cell_type": "code",
   "execution_count": 77,
   "metadata": {},
   "outputs": [],
   "source": [
    "cv_results = cross_validate(pipe15, X_train, y_train, cv=5)"
   ]
  },
  {
   "cell_type": "code",
   "execution_count": 78,
   "metadata": {},
   "outputs": [
    {
     "data": {
      "text/plain": [
       "array([ 0.01223328,  0.00746688, -0.73043443,  0.01302492,  0.05881354])"
      ]
     },
     "execution_count": 78,
     "metadata": {},
     "output_type": "execute_result"
    }
   ],
   "source": [
    "cv_scores = cv_results['test_score']\n",
    "cv_scores"
   ]
  },
  {
   "cell_type": "markdown",
   "metadata": {},
   "source": [
    "Without using the same random state for initializing the CV folds, your actual numbers will be different."
   ]
  },
  {
   "cell_type": "code",
   "execution_count": 79,
   "metadata": {},
   "outputs": [
    {
     "data": {
      "text/plain": [
       "(-0.1277791621897365, 0.30190428103097333)"
      ]
     },
     "execution_count": 79,
     "metadata": {},
     "output_type": "execute_result"
    }
   ],
   "source": [
    "np.mean(cv_scores), np.std(cv_scores)"
   ]
  },
  {
   "cell_type": "markdown",
   "metadata": {},
   "source": [
    "These results highlight that assessing model performance in inherently open to variability. You'll get different results depending on the quirks of which points are in which fold. An advantage of this is that you can also obtain an estimate of the variability, or uncertainty, in your performance estimate."
   ]
  },
  {
   "cell_type": "code",
   "execution_count": 80,
   "metadata": {},
   "outputs": [
    {
     "data": {
      "text/plain": [
       "array([-0.73,  0.48])"
      ]
     },
     "execution_count": 80,
     "metadata": {},
     "output_type": "execute_result"
    }
   ],
   "source": [
    "np.round((np.mean(cv_scores) - 2 * np.std(cv_scores), np.mean(cv_scores) + 2 * np.std(cv_scores)), 2)"
   ]
  },
  {
   "cell_type": "markdown",
   "metadata": {},
   "source": [
    "### 4.9.8 Hyperparameter search using GridSearchCV<a id='4.9.8_Hyperparameter_search_using_GridSearchCV'></a>"
   ]
  },
  {
   "cell_type": "markdown",
   "metadata": {},
   "source": [
    "Pulling the above together, we have:\n",
    "* a pipeline that\n",
    "    * imputes missing values\n",
    "    * scales the data\n",
    "    * selects the k best features\n",
    "    * trains a linear regression model\n",
    "* a technique (cross-validation) for estimating model performance\n",
    "\n",
    "Now you want to use cross-validation for multiple values of k and use cross-validation to pick the value of k that gives the best performance. `make_pipeline` automatically names each step as the lowercase name of the step and the parameters of the step are then accessed by appending a double underscore followed by the parameter name. You know the name of the step will be 'selectkbest' and you know the parameter is 'k'.\n",
    "\n",
    "You can also list the names of all the parameters in a pipeline like this:"
   ]
  },
  {
   "cell_type": "code",
   "execution_count": 81,
   "metadata": {},
   "outputs": [
    {
     "data": {
      "text/plain": [
       "dict_keys(['memory', 'steps', 'verbose', 'simpleimputer', 'standardscaler', 'selectkbest', 'linearregression', 'simpleimputer__add_indicator', 'simpleimputer__copy', 'simpleimputer__fill_value', 'simpleimputer__keep_empty_features', 'simpleimputer__missing_values', 'simpleimputer__strategy', 'simpleimputer__verbose', 'standardscaler__copy', 'standardscaler__with_mean', 'standardscaler__with_std', 'selectkbest__k', 'selectkbest__score_func', 'linearregression__copy_X', 'linearregression__fit_intercept', 'linearregression__n_jobs', 'linearregression__positive'])"
      ]
     },
     "execution_count": 81,
     "metadata": {},
     "output_type": "execute_result"
    }
   ],
   "source": [
    "#Call `pipe`'s `get_params()` method to get a dict of available parameters and print their names\n",
    "#using dict's `keys()` method\n",
    "pipe.get_params().keys()"
   ]
  },
  {
   "cell_type": "markdown",
   "metadata": {},
   "source": [
    "The above can be particularly useful as your pipelines becomes more complex (you can even nest pipelines within pipelines)."
   ]
  },
  {
   "cell_type": "code",
   "execution_count": 82,
   "metadata": {},
   "outputs": [],
   "source": [
    "k = [k+1 for k in range(len(X_train.columns))]\n",
    "grid_params = {'selectkbest__k': k}"
   ]
  },
  {
   "cell_type": "markdown",
   "metadata": {},
   "source": [
    "Now you have a range of `k` to investigate. Is 1 feature best? 2? 3? 4? All of them? You could write a for loop and iterate over each possible value, doing all the housekeeping oyurselves to track the best value of k. But this is  a common task so there's a built in function in `sklearn`. This is [`GridSearchCV`](https://scikit-learn.org/stable/modules/generated/sklearn.model_selection.GridSearchCV.html).\n",
    "This takes the pipeline object, in fact it takes anything with a `.fit()` and `.predict()` method. In simple cases with no feature selection or imputation or feature scaling etc. you may see the classifier or regressor object itself directly passed into `GridSearchCV`. The other key input is the parameters and values to search over. Optional parameters include the cross-validation strategy and number of CPUs to use."
   ]
  },
  {
   "cell_type": "code",
   "execution_count": 83,
   "metadata": {},
   "outputs": [],
   "source": [
    "lr_grid_cv = GridSearchCV(pipe, param_grid=grid_params, cv=5, n_jobs=-1)"
   ]
  },
  {
   "cell_type": "code",
   "execution_count": 84,
   "metadata": {},
   "outputs": [
    {
     "data": {
      "text/html": [
       "<style>#sk-container-id-4 {color: black;background-color: white;}#sk-container-id-4 pre{padding: 0;}#sk-container-id-4 div.sk-toggleable {background-color: white;}#sk-container-id-4 label.sk-toggleable__label {cursor: pointer;display: block;width: 100%;margin-bottom: 0;padding: 0.3em;box-sizing: border-box;text-align: center;}#sk-container-id-4 label.sk-toggleable__label-arrow:before {content: \"▸\";float: left;margin-right: 0.25em;color: #696969;}#sk-container-id-4 label.sk-toggleable__label-arrow:hover:before {color: black;}#sk-container-id-4 div.sk-estimator:hover label.sk-toggleable__label-arrow:before {color: black;}#sk-container-id-4 div.sk-toggleable__content {max-height: 0;max-width: 0;overflow: hidden;text-align: left;background-color: #f0f8ff;}#sk-container-id-4 div.sk-toggleable__content pre {margin: 0.2em;color: black;border-radius: 0.25em;background-color: #f0f8ff;}#sk-container-id-4 input.sk-toggleable__control:checked~div.sk-toggleable__content {max-height: 200px;max-width: 100%;overflow: auto;}#sk-container-id-4 input.sk-toggleable__control:checked~label.sk-toggleable__label-arrow:before {content: \"▾\";}#sk-container-id-4 div.sk-estimator input.sk-toggleable__control:checked~label.sk-toggleable__label {background-color: #d4ebff;}#sk-container-id-4 div.sk-label input.sk-toggleable__control:checked~label.sk-toggleable__label {background-color: #d4ebff;}#sk-container-id-4 input.sk-hidden--visually {border: 0;clip: rect(1px 1px 1px 1px);clip: rect(1px, 1px, 1px, 1px);height: 1px;margin: -1px;overflow: hidden;padding: 0;position: absolute;width: 1px;}#sk-container-id-4 div.sk-estimator {font-family: monospace;background-color: #f0f8ff;border: 1px dotted black;border-radius: 0.25em;box-sizing: border-box;margin-bottom: 0.5em;}#sk-container-id-4 div.sk-estimator:hover {background-color: #d4ebff;}#sk-container-id-4 div.sk-parallel-item::after {content: \"\";width: 100%;border-bottom: 1px solid gray;flex-grow: 1;}#sk-container-id-4 div.sk-label:hover label.sk-toggleable__label {background-color: #d4ebff;}#sk-container-id-4 div.sk-serial::before {content: \"\";position: absolute;border-left: 1px solid gray;box-sizing: border-box;top: 0;bottom: 0;left: 50%;z-index: 0;}#sk-container-id-4 div.sk-serial {display: flex;flex-direction: column;align-items: center;background-color: white;padding-right: 0.2em;padding-left: 0.2em;position: relative;}#sk-container-id-4 div.sk-item {position: relative;z-index: 1;}#sk-container-id-4 div.sk-parallel {display: flex;align-items: stretch;justify-content: center;background-color: white;position: relative;}#sk-container-id-4 div.sk-item::before, #sk-container-id-4 div.sk-parallel-item::before {content: \"\";position: absolute;border-left: 1px solid gray;box-sizing: border-box;top: 0;bottom: 0;left: 50%;z-index: -1;}#sk-container-id-4 div.sk-parallel-item {display: flex;flex-direction: column;z-index: 1;position: relative;background-color: white;}#sk-container-id-4 div.sk-parallel-item:first-child::after {align-self: flex-end;width: 50%;}#sk-container-id-4 div.sk-parallel-item:last-child::after {align-self: flex-start;width: 50%;}#sk-container-id-4 div.sk-parallel-item:only-child::after {width: 0;}#sk-container-id-4 div.sk-dashed-wrapped {border: 1px dashed gray;margin: 0 0.4em 0.5em 0.4em;box-sizing: border-box;padding-bottom: 0.4em;background-color: white;}#sk-container-id-4 div.sk-label label {font-family: monospace;font-weight: bold;display: inline-block;line-height: 1.2em;}#sk-container-id-4 div.sk-label-container {text-align: center;}#sk-container-id-4 div.sk-container {/* jupyter's `normalize.less` sets `[hidden] { display: none; }` but bootstrap.min.css set `[hidden] { display: none !important; }` so we also need the `!important` here to be able to override the default hidden behavior on the sphinx rendered scikit-learn.org. See: https://github.com/scikit-learn/scikit-learn/issues/21755 */display: inline-block !important;position: relative;}#sk-container-id-4 div.sk-text-repr-fallback {display: none;}</style><div id=\"sk-container-id-4\" class=\"sk-top-container\"><div class=\"sk-text-repr-fallback\"><pre>GridSearchCV(cv=5,\n",
       "             estimator=Pipeline(steps=[(&#x27;simpleimputer&#x27;,\n",
       "                                        SimpleImputer(strategy=&#x27;median&#x27;)),\n",
       "                                       (&#x27;standardscaler&#x27;, StandardScaler()),\n",
       "                                       (&#x27;selectkbest&#x27;,\n",
       "                                        SelectKBest(score_func=&lt;function f_regression at 0x000001BF2E74E660&gt;)),\n",
       "                                       (&#x27;linearregression&#x27;,\n",
       "                                        LinearRegression())]),\n",
       "             n_jobs=-1,\n",
       "             param_grid={&#x27;selectkbest__k&#x27;: [1, 2, 3, 4, 5, 6, 7, 8, 9, 10, 11,\n",
       "                                            12, 13, 14, 15, 16, 17, 18, 19, 20,\n",
       "                                            21, 22, 23]})</pre><b>In a Jupyter environment, please rerun this cell to show the HTML representation or trust the notebook. <br />On GitHub, the HTML representation is unable to render, please try loading this page with nbviewer.org.</b></div><div class=\"sk-container\" hidden><div class=\"sk-item sk-dashed-wrapped\"><div class=\"sk-label-container\"><div class=\"sk-label sk-toggleable\"><input class=\"sk-toggleable__control sk-hidden--visually\" id=\"sk-estimator-id-15\" type=\"checkbox\" ><label for=\"sk-estimator-id-15\" class=\"sk-toggleable__label sk-toggleable__label-arrow\">GridSearchCV</label><div class=\"sk-toggleable__content\"><pre>GridSearchCV(cv=5,\n",
       "             estimator=Pipeline(steps=[(&#x27;simpleimputer&#x27;,\n",
       "                                        SimpleImputer(strategy=&#x27;median&#x27;)),\n",
       "                                       (&#x27;standardscaler&#x27;, StandardScaler()),\n",
       "                                       (&#x27;selectkbest&#x27;,\n",
       "                                        SelectKBest(score_func=&lt;function f_regression at 0x000001BF2E74E660&gt;)),\n",
       "                                       (&#x27;linearregression&#x27;,\n",
       "                                        LinearRegression())]),\n",
       "             n_jobs=-1,\n",
       "             param_grid={&#x27;selectkbest__k&#x27;: [1, 2, 3, 4, 5, 6, 7, 8, 9, 10, 11,\n",
       "                                            12, 13, 14, 15, 16, 17, 18, 19, 20,\n",
       "                                            21, 22, 23]})</pre></div></div></div><div class=\"sk-parallel\"><div class=\"sk-parallel-item\"><div class=\"sk-item\"><div class=\"sk-label-container\"><div class=\"sk-label sk-toggleable\"><input class=\"sk-toggleable__control sk-hidden--visually\" id=\"sk-estimator-id-16\" type=\"checkbox\" ><label for=\"sk-estimator-id-16\" class=\"sk-toggleable__label sk-toggleable__label-arrow\">estimator: Pipeline</label><div class=\"sk-toggleable__content\"><pre>Pipeline(steps=[(&#x27;simpleimputer&#x27;, SimpleImputer(strategy=&#x27;median&#x27;)),\n",
       "                (&#x27;standardscaler&#x27;, StandardScaler()),\n",
       "                (&#x27;selectkbest&#x27;,\n",
       "                 SelectKBest(score_func=&lt;function f_regression at 0x000001BF2E74E660&gt;)),\n",
       "                (&#x27;linearregression&#x27;, LinearRegression())])</pre></div></div></div><div class=\"sk-serial\"><div class=\"sk-item\"><div class=\"sk-serial\"><div class=\"sk-item\"><div class=\"sk-estimator sk-toggleable\"><input class=\"sk-toggleable__control sk-hidden--visually\" id=\"sk-estimator-id-17\" type=\"checkbox\" ><label for=\"sk-estimator-id-17\" class=\"sk-toggleable__label sk-toggleable__label-arrow\">SimpleImputer</label><div class=\"sk-toggleable__content\"><pre>SimpleImputer(strategy=&#x27;median&#x27;)</pre></div></div></div><div class=\"sk-item\"><div class=\"sk-estimator sk-toggleable\"><input class=\"sk-toggleable__control sk-hidden--visually\" id=\"sk-estimator-id-18\" type=\"checkbox\" ><label for=\"sk-estimator-id-18\" class=\"sk-toggleable__label sk-toggleable__label-arrow\">StandardScaler</label><div class=\"sk-toggleable__content\"><pre>StandardScaler()</pre></div></div></div><div class=\"sk-item\"><div class=\"sk-estimator sk-toggleable\"><input class=\"sk-toggleable__control sk-hidden--visually\" id=\"sk-estimator-id-19\" type=\"checkbox\" ><label for=\"sk-estimator-id-19\" class=\"sk-toggleable__label sk-toggleable__label-arrow\">SelectKBest</label><div class=\"sk-toggleable__content\"><pre>SelectKBest(score_func=&lt;function f_regression at 0x000001BF2E74E660&gt;)</pre></div></div></div><div class=\"sk-item\"><div class=\"sk-estimator sk-toggleable\"><input class=\"sk-toggleable__control sk-hidden--visually\" id=\"sk-estimator-id-20\" type=\"checkbox\" ><label for=\"sk-estimator-id-20\" class=\"sk-toggleable__label sk-toggleable__label-arrow\">LinearRegression</label><div class=\"sk-toggleable__content\"><pre>LinearRegression()</pre></div></div></div></div></div></div></div></div></div></div></div></div>"
      ],
      "text/plain": [
       "GridSearchCV(cv=5,\n",
       "             estimator=Pipeline(steps=[('simpleimputer',\n",
       "                                        SimpleImputer(strategy='median')),\n",
       "                                       ('standardscaler', StandardScaler()),\n",
       "                                       ('selectkbest',\n",
       "                                        SelectKBest(score_func=<function f_regression at 0x000001BF2E74E660>)),\n",
       "                                       ('linearregression',\n",
       "                                        LinearRegression())]),\n",
       "             n_jobs=-1,\n",
       "             param_grid={'selectkbest__k': [1, 2, 3, 4, 5, 6, 7, 8, 9, 10, 11,\n",
       "                                            12, 13, 14, 15, 16, 17, 18, 19, 20,\n",
       "                                            21, 22, 23]})"
      ]
     },
     "execution_count": 84,
     "metadata": {},
     "output_type": "execute_result"
    }
   ],
   "source": [
    "lr_grid_cv.fit(X_train, y_train)"
   ]
  },
  {
   "cell_type": "code",
   "execution_count": 85,
   "metadata": {},
   "outputs": [],
   "source": [
    "score_mean = lr_grid_cv.cv_results_['mean_test_score']\n",
    "score_std = lr_grid_cv.cv_results_['std_test_score']\n",
    "cv_k = [k for k in lr_grid_cv.cv_results_['param_selectkbest__k']]"
   ]
  },
  {
   "cell_type": "code",
   "execution_count": 86,
   "metadata": {},
   "outputs": [
    {
     "data": {
      "text/plain": [
       "{'selectkbest__k': 1}"
      ]
     },
     "execution_count": 86,
     "metadata": {},
     "output_type": "execute_result"
    }
   ],
   "source": [
    "#Print the `best_params_` attribute of `lr_grid_cv`\n",
    "lr_grid_cv.best_params_"
   ]
  },
  {
   "cell_type": "code",
   "execution_count": 87,
   "metadata": {},
   "outputs": [
    {
     "data": {
      "image/png": "[encoded data removed]",
      "text/plain": [
       "<Figure size 1000x500 with 1 Axes>"
      ]
     },
     "metadata": {},
     "output_type": "display_data"
    }
   ],
   "source": [
    "#Code task 20#\n",
    "#Assign the value of k from the above dict of `best_params_` and assign it to `best_k`\n",
    "best_k = lr_grid_cv.best_params_['selectkbest__k']\n",
    "plt.subplots(figsize=(10, 5))\n",
    "plt.errorbar(cv_k, score_mean, yerr=score_std)\n",
    "plt.axvline(x=best_k, c='r', ls='--', alpha=.5)\n",
    "plt.xlabel('k')\n",
    "plt.ylabel('CV score (r-squared)')\n",
    "plt.title('Pipeline mean CV score (error bars +/- 1sd)');"
   ]
  },
  {
   "cell_type": "markdown",
   "metadata": {},
   "source": [
    "The above suggests a good value for k is 1. There was an initial rapid increase with k, followed by a slow decline. Also noticeable is the variance of the results greatly increase above k=1. As you increasingly overfit, expect greater swings in performance as different points move in and out of the train/test folds."
   ]
  },
  {
   "cell_type": "markdown",
   "metadata": {},
   "source": [
    "Which features were most useful? Step into your best model, shown below. Starting with the fitted grid search object, you get the best estimator, then the named step 'selectkbest', for which you can its `get_support()` method for a logical mask of the features selected."
   ]
  },
  {
   "cell_type": "code",
   "execution_count": 88,
   "metadata": {},
   "outputs": [],
   "source": [
    "selected = lr_grid_cv.best_estimator_.named_steps.selectkbest.get_support()"
   ]
  },
  {
   "cell_type": "markdown",
   "metadata": {},
   "source": [
    "Similarly, instead of using the 'selectkbest' named step, you can access the named step for the linear regression model and, from that, grab the model coefficients via its `coef_` attribute:"
   ]
  },
  {
   "cell_type": "code",
   "execution_count": 89,
   "metadata": {},
   "outputs": [
    {
     "data": {
      "text/plain": [
       "bedrooms    114.54012\n",
       "dtype: float64"
      ]
     },
     "execution_count": 89,
     "metadata": {},
     "output_type": "execute_result"
    }
   ],
   "source": [
    "#Get the linear model coefficients from the `coef_` attribute and store in `coefs`,\n",
    "#get the matching feature names from the column names of the dataframe,\n",
    "#and display the results as a pandas Series with `coefs` as the values and `features` as the index,\n",
    "#sorting the values in descending order\n",
    "coefs = lr_grid_cv.best_estimator_.named_steps.linearregression.coef_\n",
    "features = X_train.columns[selected]\n",
    "pd.Series(coefs, index=features).sort_values(ascending=False)"
   ]
  },
  {
   "cell_type": "markdown",
   "metadata": {},
   "source": [
    "## 4.10 Random Forest Model<a id='4.10_Random_Forest_Model'></a>"
   ]
  },
  {
   "cell_type": "markdown",
   "metadata": {},
   "source": [
    "A model that can work very well in a lot of cases is the random forest. For regression, this is provided by `sklearn`'s `RandomForestRegressor` class.\n",
    "\n",
    "Time to stop the bad practice of repeatedly checking performance on the test split. Instead, go straight from defining the pipeline to assessing performance using cross-validation. `cross_validate` will perform the fitting as part of the process. This uses the default settings for the random forest so you'll then proceed to investigate some different hyperparameters."
   ]
  },
  {
   "cell_type": "markdown",
   "metadata": {},
   "source": [
    "### 4.10.1 Define the pipeline<a id='4.10.1_Define_the_pipeline'></a>"
   ]
  },
  {
   "cell_type": "code",
   "execution_count": 90,
   "metadata": {},
   "outputs": [],
   "source": [
    "#Define a pipeline comprising the steps:\n",
    "#SimpleImputer() with a strategy of 'median'\n",
    "#StandardScaler(),\n",
    "#and then RandomForestRegressor() with a random state of 47\n",
    "RF_pipe = make_pipeline(\n",
    "    SimpleImputer(strategy='median'),\n",
    "    StandardScaler(),\n",
    "    RandomForestRegressor(random_state=47)\n",
    ")"
   ]
  },
  {
   "cell_type": "markdown",
   "metadata": {},
   "source": [
    "### 4.10.2 Fit and assess performance using cross-validation<a id='4.10.2_Fit_and_assess_performance_using_cross-validation'></a>"
   ]
  },
  {
   "cell_type": "code",
   "execution_count": 91,
   "metadata": {},
   "outputs": [],
   "source": [
    "#Call `cross_validate` to estimate the pipeline's performance.\n",
    "#Pass it the random forest pipe object, `X_train` and `y_train`,\n",
    "#and get it to use 5-fold cross-validation\n",
    "rf_default_cv_results = cross_validate(RF_pipe, X_train, y_train, cv=5)"
   ]
  },
  {
   "cell_type": "code",
   "execution_count": 92,
   "metadata": {},
   "outputs": [
    {
     "data": {
      "text/plain": [
       "array([-1.40537348e-02, -1.15709032e+00, -1.59134696e+01,  9.05383594e-03,\n",
       "       -3.62563669e+00])"
      ]
     },
     "execution_count": 92,
     "metadata": {},
     "output_type": "execute_result"
    }
   ],
   "source": [
    "rf_cv_scores = rf_default_cv_results['test_score']\n",
    "rf_cv_scores"
   ]
  },
  {
   "cell_type": "code",
   "execution_count": 93,
   "metadata": {},
   "outputs": [
    {
     "data": {
      "text/plain": [
       "(-4.140239297950915, 6.033489635298434)"
      ]
     },
     "execution_count": 93,
     "metadata": {},
     "output_type": "execute_result"
    }
   ],
   "source": [
    "np.mean(rf_cv_scores), np.std(rf_cv_scores)"
   ]
  },
  {
   "cell_type": "markdown",
   "metadata": {},
   "source": [
    "### 4.10.3 Hyperparameter search using GridSearchCV<a id='4.10.3_Hyperparameter_search_using_GridSearchCV'></a>"
   ]
  },
  {
   "cell_type": "markdown",
   "metadata": {},
   "source": [
    "Random forest has a number of hyperparameters that can be explored, however here you'll limit yourselves to exploring some different values for the number of trees. You'll try it with and without feature scaling, and try both the mean and median as strategies for imputing missing values."
   ]
  },
  {
   "cell_type": "code",
   "execution_count": 94,
   "metadata": {},
   "outputs": [
    {
     "data": {
      "text/plain": [
       "{'randomforestregressor__n_estimators': [10,\n",
       "  12,\n",
       "  16,\n",
       "  20,\n",
       "  26,\n",
       "  33,\n",
       "  42,\n",
       "  54,\n",
       "  69,\n",
       "  88,\n",
       "  112,\n",
       "  143,\n",
       "  183,\n",
       "  233,\n",
       "  297,\n",
       "  379,\n",
       "  483,\n",
       "  615,\n",
       "  784,\n",
       "  1000],\n",
       " 'standardscaler': [StandardScaler(), None],\n",
       " 'simpleimputer__strategy': ['mean', 'median']}"
      ]
     },
     "execution_count": 94,
     "metadata": {},
     "output_type": "execute_result"
    }
   ],
   "source": [
    "n_est = [int(n) for n in np.logspace(start=1, stop=3, num=20)]\n",
    "grid_params = {\n",
    "        'randomforestregressor__n_estimators': n_est,\n",
    "        'standardscaler': [StandardScaler(), None],\n",
    "        'simpleimputer__strategy': ['mean', 'median']\n",
    "}\n",
    "grid_params"
   ]
  },
  {
   "cell_type": "code",
   "execution_count": 95,
   "metadata": {},
   "outputs": [],
   "source": [
    "#Call `GridSearchCV` with the random forest pipeline, passing in the above `grid_params`\n",
    "#dict for parameters to evaluate, 5-fold cross-validation, and all available CPU cores (if desired)\n",
    "rf_grid_cv = GridSearchCV(RF_pipe, param_grid=grid_params, cv=5, n_jobs=-1)"
   ]
  },
  {
   "cell_type": "code",
   "execution_count": 96,
   "metadata": {},
   "outputs": [
    {
     "data": {
      "text/html": [
       "<style>#sk-container-id-5 {color: black;background-color: white;}#sk-container-id-5 pre{padding: 0;}#sk-container-id-5 div.sk-toggleable {background-color: white;}#sk-container-id-5 label.sk-toggleable__label {cursor: pointer;display: block;width: 100%;margin-bottom: 0;padding: 0.3em;box-sizing: border-box;text-align: center;}#sk-container-id-5 label.sk-toggleable__label-arrow:before {content: \"▸\";float: left;margin-right: 0.25em;color: #696969;}#sk-container-id-5 label.sk-toggleable__label-arrow:hover:before {color: black;}#sk-container-id-5 div.sk-estimator:hover label.sk-toggleable__label-arrow:before {color: black;}#sk-container-id-5 div.sk-toggleable__content {max-height: 0;max-width: 0;overflow: hidden;text-align: left;background-color: #f0f8ff;}#sk-container-id-5 div.sk-toggleable__content pre {margin: 0.2em;color: black;border-radius: 0.25em;background-color: #f0f8ff;}#sk-container-id-5 input.sk-toggleable__control:checked~div.sk-toggleable__content {max-height: 200px;max-width: 100%;overflow: auto;}#sk-container-id-5 input.sk-toggleable__control:checked~label.sk-toggleable__label-arrow:before {content: \"▾\";}#sk-container-id-5 div.sk-estimator input.sk-toggleable__control:checked~label.sk-toggleable__label {background-color: #d4ebff;}#sk-container-id-5 div.sk-label input.sk-toggleable__control:checked~label.sk-toggleable__label {background-color: #d4ebff;}#sk-container-id-5 input.sk-hidden--visually {border: 0;clip: rect(1px 1px 1px 1px);clip: rect(1px, 1px, 1px, 1px);height: 1px;margin: -1px;overflow: hidden;padding: 0;position: absolute;width: 1px;}#sk-container-id-5 div.sk-estimator {font-family: monospace;background-color: #f0f8ff;border: 1px dotted black;border-radius: 0.25em;box-sizing: border-box;margin-bottom: 0.5em;}#sk-container-id-5 div.sk-estimator:hover {background-color: #d4ebff;}#sk-container-id-5 div.sk-parallel-item::after {content: \"\";width: 100%;border-bottom: 1px solid gray;flex-grow: 1;}#sk-container-id-5 div.sk-label:hover label.sk-toggleable__label {background-color: #d4ebff;}#sk-container-id-5 div.sk-serial::before {content: \"\";position: absolute;border-left: 1px solid gray;box-sizing: border-box;top: 0;bottom: 0;left: 50%;z-index: 0;}#sk-container-id-5 div.sk-serial {display: flex;flex-direction: column;align-items: center;background-color: white;padding-right: 0.2em;padding-left: 0.2em;position: relative;}#sk-container-id-5 div.sk-item {position: relative;z-index: 1;}#sk-container-id-5 div.sk-parallel {display: flex;align-items: stretch;justify-content: center;background-color: white;position: relative;}#sk-container-id-5 div.sk-item::before, #sk-container-id-5 div.sk-parallel-item::before {content: \"\";position: absolute;border-left: 1px solid gray;box-sizing: border-box;top: 0;bottom: 0;left: 50%;z-index: -1;}#sk-container-id-5 div.sk-parallel-item {display: flex;flex-direction: column;z-index: 1;position: relative;background-color: white;}#sk-container-id-5 div.sk-parallel-item:first-child::after {align-self: flex-end;width: 50%;}#sk-container-id-5 div.sk-parallel-item:last-child::after {align-self: flex-start;width: 50%;}#sk-container-id-5 div.sk-parallel-item:only-child::after {width: 0;}#sk-container-id-5 div.sk-dashed-wrapped {border: 1px dashed gray;margin: 0 0.4em 0.5em 0.4em;box-sizing: border-box;padding-bottom: 0.4em;background-color: white;}#sk-container-id-5 div.sk-label label {font-family: monospace;font-weight: bold;display: inline-block;line-height: 1.2em;}#sk-container-id-5 div.sk-label-container {text-align: center;}#sk-container-id-5 div.sk-container {/* jupyter's `normalize.less` sets `[hidden] { display: none; }` but bootstrap.min.css set `[hidden] { display: none !important; }` so we also need the `!important` here to be able to override the default hidden behavior on the sphinx rendered scikit-learn.org. See: https://github.com/scikit-learn/scikit-learn/issues/21755 */display: inline-block !important;position: relative;}#sk-container-id-5 div.sk-text-repr-fallback {display: none;}</style><div id=\"sk-container-id-5\" class=\"sk-top-container\"><div class=\"sk-text-repr-fallback\"><pre>GridSearchCV(cv=5,\n",
       "             estimator=Pipeline(steps=[(&#x27;simpleimputer&#x27;,\n",
       "                                        SimpleImputer(strategy=&#x27;median&#x27;)),\n",
       "                                       (&#x27;standardscaler&#x27;, StandardScaler()),\n",
       "                                       (&#x27;randomforestregressor&#x27;,\n",
       "                                        RandomForestRegressor(random_state=47))]),\n",
       "             n_jobs=-1,\n",
       "             param_grid={&#x27;randomforestregressor__n_estimators&#x27;: [10, 12, 16, 20,\n",
       "                                                                 26, 33, 42, 54,\n",
       "                                                                 69, 88, 112,\n",
       "                                                                 143, 183, 233,\n",
       "                                                                 297, 379, 483,\n",
       "                                                                 615, 784,\n",
       "                                                                 1000],\n",
       "                         &#x27;simpleimputer__strategy&#x27;: [&#x27;mean&#x27;, &#x27;median&#x27;],\n",
       "                         &#x27;standardscaler&#x27;: [StandardScaler(), None]})</pre><b>In a Jupyter environment, please rerun this cell to show the HTML representation or trust the notebook. <br />On GitHub, the HTML representation is unable to render, please try loading this page with nbviewer.org.</b></div><div class=\"sk-container\" hidden><div class=\"sk-item sk-dashed-wrapped\"><div class=\"sk-label-container\"><div class=\"sk-label sk-toggleable\"><input class=\"sk-toggleable__control sk-hidden--visually\" id=\"sk-estimator-id-21\" type=\"checkbox\" ><label for=\"sk-estimator-id-21\" class=\"sk-toggleable__label sk-toggleable__label-arrow\">GridSearchCV</label><div class=\"sk-toggleable__content\"><pre>GridSearchCV(cv=5,\n",
       "             estimator=Pipeline(steps=[(&#x27;simpleimputer&#x27;,\n",
       "                                        SimpleImputer(strategy=&#x27;median&#x27;)),\n",
       "                                       (&#x27;standardscaler&#x27;, StandardScaler()),\n",
       "                                       (&#x27;randomforestregressor&#x27;,\n",
       "                                        RandomForestRegressor(random_state=47))]),\n",
       "             n_jobs=-1,\n",
       "             param_grid={&#x27;randomforestregressor__n_estimators&#x27;: [10, 12, 16, 20,\n",
       "                                                                 26, 33, 42, 54,\n",
       "                                                                 69, 88, 112,\n",
       "                                                                 143, 183, 233,\n",
       "                                                                 297, 379, 483,\n",
       "                                                                 615, 784,\n",
       "                                                                 1000],\n",
       "                         &#x27;simpleimputer__strategy&#x27;: [&#x27;mean&#x27;, &#x27;median&#x27;],\n",
       "                         &#x27;standardscaler&#x27;: [StandardScaler(), None]})</pre></div></div></div><div class=\"sk-parallel\"><div class=\"sk-parallel-item\"><div class=\"sk-item\"><div class=\"sk-label-container\"><div class=\"sk-label sk-toggleable\"><input class=\"sk-toggleable__control sk-hidden--visually\" id=\"sk-estimator-id-22\" type=\"checkbox\" ><label for=\"sk-estimator-id-22\" class=\"sk-toggleable__label sk-toggleable__label-arrow\">estimator: Pipeline</label><div class=\"sk-toggleable__content\"><pre>Pipeline(steps=[(&#x27;simpleimputer&#x27;, SimpleImputer(strategy=&#x27;median&#x27;)),\n",
       "                (&#x27;standardscaler&#x27;, StandardScaler()),\n",
       "                (&#x27;randomforestregressor&#x27;,\n",
       "                 RandomForestRegressor(random_state=47))])</pre></div></div></div><div class=\"sk-serial\"><div class=\"sk-item\"><div class=\"sk-serial\"><div class=\"sk-item\"><div class=\"sk-estimator sk-toggleable\"><input class=\"sk-toggleable__control sk-hidden--visually\" id=\"sk-estimator-id-23\" type=\"checkbox\" ><label for=\"sk-estimator-id-23\" class=\"sk-toggleable__label sk-toggleable__label-arrow\">SimpleImputer</label><div class=\"sk-toggleable__content\"><pre>SimpleImputer(strategy=&#x27;median&#x27;)</pre></div></div></div><div class=\"sk-item\"><div class=\"sk-estimator sk-toggleable\"><input class=\"sk-toggleable__control sk-hidden--visually\" id=\"sk-estimator-id-24\" type=\"checkbox\" ><label for=\"sk-estimator-id-24\" class=\"sk-toggleable__label sk-toggleable__label-arrow\">StandardScaler</label><div class=\"sk-toggleable__content\"><pre>StandardScaler()</pre></div></div></div><div class=\"sk-item\"><div class=\"sk-estimator sk-toggleable\"><input class=\"sk-toggleable__control sk-hidden--visually\" id=\"sk-estimator-id-25\" type=\"checkbox\" ><label for=\"sk-estimator-id-25\" class=\"sk-toggleable__label sk-toggleable__label-arrow\">RandomForestRegressor</label><div class=\"sk-toggleable__content\"><pre>RandomForestRegressor(random_state=47)</pre></div></div></div></div></div></div></div></div></div></div></div></div>"
      ],
      "text/plain": [
       "GridSearchCV(cv=5,\n",
       "             estimator=Pipeline(steps=[('simpleimputer',\n",
       "                                        SimpleImputer(strategy='median')),\n",
       "                                       ('standardscaler', StandardScaler()),\n",
       "                                       ('randomforestregressor',\n",
       "                                        RandomForestRegressor(random_state=47))]),\n",
       "             n_jobs=-1,\n",
       "             param_grid={'randomforestregressor__n_estimators': [10, 12, 16, 20,\n",
       "                                                                 26, 33, 42, 54,\n",
       "                                                                 69, 88, 112,\n",
       "                                                                 143, 183, 233,\n",
       "                                                                 297, 379, 483,\n",
       "                                                                 615, 784,\n",
       "                                                                 1000],\n",
       "                         'simpleimputer__strategy': ['mean', 'median'],\n",
       "                         'standardscaler': [StandardScaler(), None]})"
      ]
     },
     "execution_count": 96,
     "metadata": {},
     "output_type": "execute_result"
    }
   ],
   "source": [
    "#Now call the `GridSearchCV`'s `fit()` method with `X_train` and `y_train` as arguments\n",
    "#to actually start the grid search. This may take a minute or two.\n",
    "rf_grid_cv.fit(X_train, y_train)"
   ]
  },
  {
   "cell_type": "code",
   "execution_count": 97,
   "metadata": {},
   "outputs": [
    {
     "data": {
      "text/plain": [
       "{'randomforestregressor__n_estimators': 26,\n",
       " 'simpleimputer__strategy': 'median',\n",
       " 'standardscaler': None}"
      ]
     },
     "execution_count": 97,
     "metadata": {},
     "output_type": "execute_result"
    }
   ],
   "source": [
    "#Code task 26#\n",
    "#Print the best params (`best_params_` attribute) from the grid search\n",
    "rf_grid_cv.best_params_"
   ]
  },
  {
   "cell_type": "markdown",
   "metadata": {},
   "source": [
    "It looks like imputing with the median helps, but scaling the features doesn't."
   ]
  },
  {
   "cell_type": "code",
   "execution_count": 98,
   "metadata": {},
   "outputs": [
    {
     "data": {
      "text/plain": [
       "array([-6.95682369e-03, -7.43147035e-01, -9.17662352e+00,  1.16139171e-01,\n",
       "       -3.56172810e+00])"
      ]
     },
     "execution_count": 98,
     "metadata": {},
     "output_type": "execute_result"
    }
   ],
   "source": [
    "rf_best_cv_results = cross_validate(rf_grid_cv.best_estimator_, X_train, y_train, cv=5)\n",
    "rf_best_scores = rf_best_cv_results['test_score']\n",
    "rf_best_scores"
   ]
  },
  {
   "cell_type": "code",
   "execution_count": 99,
   "metadata": {},
   "outputs": [
    {
     "data": {
      "text/plain": [
       "(-2.674463261707846, 3.512786980742502)"
      ]
     },
     "execution_count": 99,
     "metadata": {},
     "output_type": "execute_result"
    }
   ],
   "source": [
    "np.mean(rf_best_scores), np.std(rf_best_scores)"
   ]
  },
  {
   "cell_type": "markdown",
   "metadata": {},
   "source": [
    "You've marginally improved upon the default CV results. Random forest has many more hyperparameters you could tune, but we won't dive into that here."
   ]
  },
  {
   "cell_type": "code",
   "execution_count": 100,
   "metadata": {},
   "outputs": [
    {
     "data": {
      "image/png": "[encoded data removed]",
      "text/plain": [
       "<Figure size 1000x500 with 1 Axes>"
      ]
     },
     "metadata": {},
     "output_type": "display_data"
    }
   ],
   "source": [
    "#Plot a barplot of the random forest's feature importances,\n",
    "#assigning the `feature_importances_` attribute of \n",
    "#`rf_grid_cv.best_estimator_.named_steps.randomforestregressor` to the name `imps` to then\n",
    "#create a pandas Series object of the feature importances, with the index given by the\n",
    "#training data column names, sorting the values in descending order\n",
    "plt.subplots(figsize=(10, 5))\n",
    "imps = rf_grid_cv.best_estimator_.named_steps.randomforestregressor.feature_importances_\n",
    "rf_feat_imps = pd.Series(imps, index=X_train.columns).sort_values(ascending=False)\n",
    "rf_feat_imps.plot(kind='bar')\n",
    "plt.xlabel('features')\n",
    "plt.ylabel('importance')\n",
    "plt.title('Best random forest regressor feature importances');"
   ]
  },
  {
   "cell_type": "code",
   "execution_count": 101,
   "metadata": {},
   "outputs": [
    {
     "data": {
      "text/plain": [
       "Index(['neighbourhood_cleansed', 'id', 'description', 'host_id', 'host_name',\n",
       "       'host_since', 'host_location', 'host_response_rate',\n",
       "       'host_acceptance_rate', 'host_neighbourhood', 'latitude', 'longitude',\n",
       "       'property_type', 'room_type', 'bathrooms', 'bedrooms', 'price',\n",
       "       'minimum_minimum_nights', 'maximum_maximum_nights',\n",
       "       'calendar_last_scraped', 'number_of_reviews', 'first_review',\n",
       "       'last_review', 'last_scraped', 'review_scores_rating',\n",
       "       'review_scores_accuracy', 'review_scores_cleanliness',\n",
       "       'review_scores_checkin', 'review_scores_communication',\n",
       "       'review_scores_location', 'review_scores_value', 'reviews_per_month',\n",
       "       'home_type', 'neighborhood_cleansed_id_number',\n",
       "       'neighborhood_cleansed_price', 'denver_neighborhoods_population',\n",
       "       'region_area_sq_miles', 'id_review_scores_rating_ac_region_ratio',\n",
       "       'id_review_scores_location_ac_region_ratio',\n",
       "       'id_bedrooms_count_ac_mean_region_ratio',\n",
       "       'id_number_of_reviews_ac_region_ratio'],\n",
       "      dtype='object')"
      ]
     },
     "execution_count": 101,
     "metadata": {},
     "output_type": "execute_result"
    }
   ],
   "source": [
    "airbnb_data_cleaned_v2.columns"
   ]
  },
  {
   "cell_type": "markdown",
   "metadata": {},
   "source": [
    "Encouragingly, the dominant top four features are in common with your linear model:\n",
    "* id_review_scores_location_ac_region_ratio\n",
    "* longitude\n",
    "* review_scores_location\n",
    "* id_bedrooms_count_ac_mean_region_ratio\n",
    "* review_scores_communication"
   ]
  },
  {
   "cell_type": "markdown",
   "metadata": {},
   "source": [
    "## 4.11 Final Model Selection<a id='4.11_Final_Model_Selection'></a>"
   ]
  },
  {
   "cell_type": "markdown",
   "metadata": {},
   "source": [
    "Time to select your final model to use for further business modeling! It would be good to revisit the above model selection; there is undoubtedly more that could be done to explore possible hyperparameters.\n",
    "It would also be worthwhile to investigate removing the least useful features. Gathering or calculating, and storing, features adds business cost and dependencies, so if features genuinely are not needed they should be removed.\n",
    "Building a simpler model with fewer features can also have the advantage of being easier to sell (and/or explain) to stakeholders.\n",
    "Certainly there seem to be four strong features here and so a model using only those would probably work well.\n",
    "However, you want to explore some different scenarios where other features vary so keep the fuller \n",
    "model for now. \n",
    "The business is waiting for this model and you have something that you have confidence in to be much better than guessing with the average price.\n",
    "\n",
    "Or, rather, you have two \"somethings\". You built a best linear model and a best random forest model. You need to finally choose between them. You can calculate the mean absolute error using cross-validation. Although `cross-validate` defaults to the $R^2$ [metric for scoring](https://scikit-learn.org/stable/modules/model_evaluation.html#scoring) regression, you can specify the mean absolute error as an alternative via\n",
    "the `scoring` parameter."
   ]
  },
  {
   "cell_type": "markdown",
   "metadata": {},
   "source": [
    "### 4.11.1 Linear regression model performance<a id='4.11.1_Linear_regression_model_performance'></a>"
   ]
  },
  {
   "cell_type": "code",
   "execution_count": 102,
   "metadata": {},
   "outputs": [],
   "source": [
    "# 'neg_mean_absolute_error' uses the (negative of) the mean absolute error\n",
    "lr_neg_mae = cross_validate(lr_grid_cv.best_estimator_, X_train, y_train, \n",
    "                            scoring='neg_mean_absolute_error', cv=5, n_jobs=-1)"
   ]
  },
  {
   "cell_type": "code",
   "execution_count": 103,
   "metadata": {},
   "outputs": [
    {
     "data": {
      "text/plain": [
       "(124.61054716987796, 27.80682307929739)"
      ]
     },
     "execution_count": 103,
     "metadata": {},
     "output_type": "execute_result"
    }
   ],
   "source": [
    "lr_mae_mean = np.mean(-1 * lr_neg_mae['test_score'])\n",
    "lr_mae_std = np.std(-1 * lr_neg_mae['test_score'])\n",
    "lr_mae_mean, lr_mae_std"
   ]
  },
  {
   "cell_type": "code",
   "execution_count": 104,
   "metadata": {},
   "outputs": [
    {
     "data": {
      "text/plain": [
       "150.29042461310974"
      ]
     },
     "execution_count": 104,
     "metadata": {},
     "output_type": "execute_result"
    }
   ],
   "source": [
    "mean_absolute_error(y_test, lr_grid_cv.best_estimator_.predict(X_test))"
   ]
  },
  {
   "cell_type": "markdown",
   "metadata": {},
   "source": [
    "### 4.11.2 Random forest regression model performance<a id='4.11.2_Random_forest_regression_model_performance'></a>"
   ]
  },
  {
   "cell_type": "code",
   "execution_count": 105,
   "metadata": {},
   "outputs": [],
   "source": [
    "rf_neg_mae = cross_validate(rf_grid_cv.best_estimator_, X_train, y_train, \n",
    "                            scoring='neg_mean_absolute_error', cv=5, n_jobs=-1)"
   ]
  },
  {
   "cell_type": "code",
   "execution_count": 106,
   "metadata": {},
   "outputs": [
    {
     "data": {
      "text/plain": [
       "(146.0590304066283, 14.233824754036451)"
      ]
     },
     "execution_count": 106,
     "metadata": {},
     "output_type": "execute_result"
    }
   ],
   "source": [
    "rf_mae_mean = np.mean(-1 * rf_neg_mae['test_score'])\n",
    "rf_mae_std = np.std(-1 * rf_neg_mae['test_score'])\n",
    "rf_mae_mean, rf_mae_std"
   ]
  },
  {
   "cell_type": "code",
   "execution_count": 107,
   "metadata": {},
   "outputs": [
    {
     "data": {
      "text/plain": [
       "161.10477251673572"
      ]
     },
     "execution_count": 107,
     "metadata": {},
     "output_type": "execute_result"
    }
   ],
   "source": [
    "mean_absolute_error(y_test, rf_grid_cv.best_estimator_.predict(X_test))"
   ]
  },
  {
   "cell_type": "markdown",
   "metadata": {},
   "source": [
    "### 4.11.3 Conclusion<a id='4.11.3_Conclusion'></a>"
   ]
  },
  {
   "cell_type": "markdown",
   "metadata": {},
   "source": [
    "The random forest model has a lower cross-validation mean absolute error by almost \\\\$1. It also exhibits less variability. Verifying performance on the test set produces performance consistent with the cross-validation results."
   ]
  },
  {
   "cell_type": "markdown",
   "metadata": {},
   "source": [
    "## 4.12 Data quantity assessment<a id='4.12_Data_quantity_assessment'></a>"
   ]
  },
  {
   "cell_type": "markdown",
   "metadata": {},
   "source": [
    "Finally, you need to advise the business whether it needs to undertake further data collection. Would more data be useful? We're often led to believe more data is always good, but gathering data invariably has a cost associated with it. Assess this trade off by seeing how performance varies with differing data set sizes. The `learning_curve` function does this conveniently."
   ]
  },
  {
   "cell_type": "code",
   "execution_count": 108,
   "metadata": {},
   "outputs": [],
   "source": [
    "fractions = [.2, .25, .3, .35, .4, .45, .5, .6, .75, .8, 1.0]\n",
    "train_size, train_scores, test_scores = learning_curve(pipe, X_train, y_train, train_sizes=fractions)\n",
    "train_scores_mean = np.mean(train_scores, axis=1)\n",
    "train_scores_std = np.std(train_scores, axis=1)\n",
    "test_scores_mean = np.mean(test_scores, axis=1)\n",
    "test_scores_std = np.std(test_scores, axis=1)"
   ]
  },
  {
   "cell_type": "code",
   "execution_count": 109,
   "metadata": {},
   "outputs": [
    {
     "data": {
      "image/png": "[encoded data removed]",
      "text/plain": [
       "<Figure size 1000x500 with 1 Axes>"
      ]
     },
     "metadata": {},
     "output_type": "display_data"
    }
   ],
   "source": [
    "plt.subplots(figsize=(10, 5))\n",
    "plt.errorbar(train_size, test_scores_mean, yerr=test_scores_std)\n",
    "plt.xlabel('Training set size')\n",
    "plt.ylabel('CV scores')\n",
    "plt.title('Cross-validation score as training set size increases');"
   ]
  },
  {
   "cell_type": "markdown",
   "metadata": {},
   "source": [
    "This shows that you seem to have plenty of data. There's an initial rapid improvement in model scores as one would expect, but it's essentially levelled off by around a sample size of 1300-1400."
   ]
  },
  {
   "cell_type": "markdown",
   "metadata": {},
   "source": [
    "## 4.13 Save best model object from pipeline<a id='4.13_Save_best_model_object_from_pipeline'></a>"
   ]
  },
  {
   "cell_type": "code",
   "execution_count": 110,
   "metadata": {},
   "outputs": [],
   "source": [
    "#This may not be \"production grade ML deployment\" practice, but adding some basic\n",
    "#information to your saved models can save your bacon in development.\n",
    "#Just what version model have you just loaded to reuse? What version of `sklearn`\n",
    "#created it? When did you make it?\n",
    "#Assign the pandas version number (`pd.__version__`) to the `pandas_version` attribute,\n",
    "#the numpy version (`np.__version__`) to the `numpy_version` attribute,\n",
    "#the sklearn version (`sklearn_version`) to the `sklearn_version` attribute,\n",
    "#and the current datetime (`datetime.datetime.now()`) to the `build_datetime` attribute\n",
    "#Let's call this model version '1.0'\n",
    "best_model = rf_grid_cv.best_estimator_\n",
    "best_model.version = 1.0\n",
    "best_model.pandas_version = pd.__version__\n",
    "best_model.numpy_version = np.__version__\n",
    "best_model.sklearn_version = sklearn_version\n",
    "best_model.X_columns = [col for col in X_train.columns]\n",
    "best_model.build_datetime = datetime.datetime.now()"
   ]
  },
  {
   "cell_type": "code",
   "execution_count": 111,
   "metadata": {},
   "outputs": [],
   "source": [
    "import pickle \n",
    "  \n",
    "# Open a file and use dump() \n",
    "with open('file.pkl', 'wb') as file: \n",
    "      \n",
    "    # A new file will be created \n",
    "    pickle.dump(best_model, file) "
   ]
  },
  {
   "cell_type": "markdown",
   "metadata": {},
   "source": [
    "## 4.14 Summary<a id='4.14_Summary'></a>"
   ]
  },
  {
   "cell_type": "markdown",
   "metadata": {},
   "source": [
    "**Q: 1** Write a summary of the work in this notebook. Capture the fact that you gained a baseline idea of performance by simply taking the average price and how well that did. Then highlight that you built a linear model and the features that found. Comment on the estimate of its performance from cross-validation and whether its performance on the test split was consistent with this estimate. Also highlight that a random forest regressor was tried, what preprocessing steps were found to be best, and again what its estimated performance via cross-validation was and whether its performance on the test set was consistent with that. State which model you have decided to use going forwards and why. This summary should provide a quick overview for someone wanting to know quickly why the given model was chosen for the next part of the business problem to help guide important business decisions."
   ]
  },
  {
   "cell_type": "markdown",
   "metadata": {},
   "source": [
    "**A: 1**\n",
    "\n",
    "At first, I worked on Train/Test split that we had 70/30 Train/Test. Then we tried Initial Not-Even-A-Model. Metrics parameters were R-squared, MAE (Mean Absolute Error), MSE (Mean Squared Error). Metrics that summaries the difference between predicted and actual values are mean, absolute error, and mean squared error. So here, you get a slightly better MSE on the test set than you did on the train set.\n",
    "\n",
    "Then, I worked on Initial Models that they had these options: Imputing missing feature (predictor) values, Pipelines. \n",
    "Imputing missing feature (predictor) values included Impute missing values with median, and mean. We had these steps in Impute missing values:\n",
    "\n",
    "1)Learn the values to impute from the train set\n",
    "2)Apply the imputation to both train and test splits\n",
    "3)Scale the data\n",
    "4)Train the model on the train split\n",
    "5)Make predictions using the model on both train and test splits\n",
    "6)Assess model performance\n",
    "\n",
    "In Impute missing values with mean, those results don't seem very different to when you used the median for imputing missing values.\n",
    "\n",
    "In Pipeline, we had these steps: Define the pipeline, Fit the pipeline, Make predictions on the train and test sets, Assess performance. \n",
    "\n",
    "These results confirm the pipeline is doing exactly what's expected, and results are identical to your earlier steps. This allows you to move faster but with confidence.\n",
    "\n",
    "Next, Refining the Linear Model step were Define the pipeline, Fit the pipeline, Assess performance on the train and test set, Define a new pipeline to select a different number of features, Fit the pipeline, Assess performance on train and test data, Assessing performance using cross-validation, Hyperparameter search using GridSearchCV.\n",
    "\n",
    "\n",
    "After that, we had a pipeline that imputes missing values, scales the data, selects the k best features, trains a linear regression model. And we also had a technique (cross-validation) for estimating model performance.\n",
    "\n",
    "Now you want to use cross-validation for multiple values of k and use cross-validation to pick the value of k that gives the best performance. The above suggests a good value for k is 1. The above suggests a good value for k is 1. There was an initial rapid increase with k, followed by a slow decline. Also noticeable is the variance of the results greatly increase above k=1. As you increasingly overfit, expect greater swings in performance as different points move in and out of the train/test folds.\n",
    "\n",
    "\n",
    "Then we tried Random Forest Model that it had Define the pipeline, Fit and assess performance using cross-validation, Hyperparameter search using GridSearchCV steps.\n",
    "\n",
    "Encouragingly, the dominant top four features are in common with your linear model:\n",
    "* id_review_scores_location_ac_region_ratio\n",
    "* longitude\n",
    "* review_scores_location\n",
    "* id_bedrooms_count_ac_mean_region_ratio\n",
    "* review_scores_communication\n",
    "\n",
    "Final Model Selection included Linear regression model performance, Random forest regression model performance, Conclusion steps. The random forest model has a lower cross-validation mean absolute error by almost $1. It also exhibits less variability. Verifying performance on the test set produces performance consistent with the cross-validation results.\n",
    "\n",
    "Data quantity assessment was last step that this showed you seem to have plenty of data. There's an initial rapid improvement in model scores as one would expect, but it's essentially levelled off by around a sample size of 1300-1400.\n"
   ]
  },
  {
   "cell_type": "code",
   "execution_count": null,
   "metadata": {},
   "outputs": [],
   "source": []
  }
 ],
 "metadata": {
  "kernelspec": {
   "display_name": "Python 3 (ipykernel)",
   "language": "python",
   "name": "python3"
  },
  "language_info": {
   "codemirror_mode": {
    "name": "ipython",
    "version": 3
   },
   "file_extension": ".py",
   "mimetype": "text/x-python",
   "name": "python",
   "nbconvert_exporter": "python",
   "pygments_lexer": "ipython3",
   "version": "3.11.3"
  },
  "toc": {
   "base_numbering": 1,
   "nav_menu": {},
   "number_sections": true,
   "sideBar": true,
   "skip_h1_title": false,
   "title_cell": "Table of Contents",
   "title_sidebar": "Contents",
   "toc_cell": false,
   "toc_position": {},
   "toc_section_display": true,
   "toc_window_display": true
  },
  "varInspector": {
   "cols": {
    "lenName": 16,
    "lenType": 16,
    "lenVar": 40
   },
   "kernels_config": {
    "python": {
     "delete_cmd_postfix": "",
     "delete_cmd_prefix": "del ",
     "library": "var_list.py",
     "varRefreshCmd": "print(var_dic_list())"
    },
    "r": {
     "delete_cmd_postfix": ") ",
     "delete_cmd_prefix": "rm(",
     "library": "var_list.r",
     "varRefreshCmd": "cat(var_dic_list()) "
    }
   },
   "types_to_exclude": [
    "module",
    "function",
    "builtin_function_or_method",
    "instance",
    "_Feature"
   ],
   "window_display": false
  }
 },
 "nbformat": 4,
 "nbformat_minor": 4
}
